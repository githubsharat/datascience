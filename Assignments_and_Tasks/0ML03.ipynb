{
 "cells": [
  {
   "cell_type": "markdown",
   "id": "66eaeabc",
   "metadata": {},
   "source": [
    "1. **Machine Learning**: It's the art of teaching computers to act without being explicitly programmed. It works by algorithms learning patterns or behaviors from data.\n",
    "    **Applications in Business**:\n",
    "    - **Churn Prediction**: Predicting which customers might leave a service or product.\n",
    "    - **Sales Forecasting**: Predicting future sales based on past data.\n",
    "    **Ethical Concerns**:\n",
    "    - **Bias**: Algorithms can inherit biases present in data.\n",
    "    - **Data Privacy**: Unauthorized use of personal data.\n",
    "\n",
    "2. **Human Learning**:\n",
    "    **i. Under the supervision of experts**: Direct learning from mentors, like a student in a classroom.\n",
    "    **ii. Indirect assistance of experts**: Gaining knowledge through expert-created materials, like reading a book.\n",
    "    **iii. Self-education**: Autonomous learning without direct guidance, like learning a new language from the internet.\n",
    "\n",
    "3. **Machine Learning Examples**:\n",
    "    - Image Classification\n",
    "    - Speech Recognition\n",
    "    - Stock Price Prediction\n",
    "\n",
    "4. **Forms of Machine Learning**:\n",
    "    - **Supervised Learning**: Model learns from labeled data.\n",
    "    - **Unsupervised Learning**: Model identifies patterns in unlabeled data.\n",
    "    - **Reinforcement Learning**: Model learns by receiving feedback on its actions.\n",
    "\n",
    "5. **Well-posed Learning Problem**: It's one where a clear solution exists, can be found in a reasonable time, and doesn't change arbitrarily. The problem should have a defined objective, measurable outcomes, and available data.\n",
    "\n",
    "6. **Capability of ML**: No, it's not omnipotent. While ML excels at recognizing patterns, it isn't suitable for tasks needing nuanced human judgment or problems with limited data.\n",
    "\n",
    "7. **Methods and Technologies**:\n",
    "    - **Neural Networks**: Computing systems vaguely inspired by the neural networks in a brain. Used in complex tasks like image and speech recognition.\n",
    "    - **Decision Trees**: Flowchart-like structure where each node represents a decision. Used for decision-making tasks.\n",
    "\n",
    "8. **Forms of Supervised Learning**:\n",
    "    - **Classification**: Assigning input to a category. E.g., email spam detection.\n",
    "    - **Regression**: Predicting a continuous value. E.g., predicting house prices.\n",
    "\n",
    "9. **Difference between Supervised and Unsupervised**:\n",
    "    - **Supervised**: Uses labeled data. E.g., predicting a student's grade.\n",
    "    - **Unsupervised**: Uses unlabeled data. E.g., clustering customers into segments.\n",
    "\n",
    "10. **Machine Learning Process**:\n",
    "    - Data Collection\n",
    "    - Data Preprocessing\n",
    "    - Feature Engineering\n",
    "    - Model Selection\n",
    "    - Training\n",
    "    - Evaluation\n",
    "    - Deployment\n",
    "\n",
    "    **a. Notes**:\n",
    "    - **MATLAB**: A high-performance language used for technical computing. It integrates computation, visualization, and programming.\n",
    "    - **Deep Learning in Healthcare**: Uses neural networks to predict and classify complex health data. E.g., predicting diseases from X-rays.\n",
    "\n",
    "11. **Comparisons**:\n",
    "    - **Generalization vs. Abstraction**: Generalization is making broad predictions from specific data, while abstraction is simplifying complex reality by modeling only relevant parts.\n",
    "    - **Guided vs. Unsupervised Learning**: Guided learning (supervised) uses labeled data and a clear path to learning, while unsupervised finds patterns without explicit guidance.\n",
    "    - **Regression vs. Classification**: Regression predicts continuous values (like temperature), while classification categorizes inputs (like \"hot\" or \"cold\")."
   ]
  }
 ],
 "metadata": {
  "kernelspec": {
   "display_name": "Python 3 (ipykernel)",
   "language": "python",
   "name": "python3"
  },
  "language_info": {
   "codemirror_mode": {
    "name": "ipython",
    "version": 3
   },
   "file_extension": ".py",
   "mimetype": "text/x-python",
   "name": "python",
   "nbconvert_exporter": "python",
   "pygments_lexer": "ipython3",
   "version": "3.11.4"
  }
 },
 "nbformat": 4,
 "nbformat_minor": 5
}

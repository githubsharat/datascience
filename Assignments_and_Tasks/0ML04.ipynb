{
 "cells": [
  {
   "cell_type": "markdown",
   "id": "9a732f3a",
   "metadata": {},
   "source": [
    "1. **Preparation for ML Modeling**:\n",
    "    - Data Collection\n",
    "    - Data Cleaning and Preprocessing\n",
    "    - Exploratory Data Analysis\n",
    "    - Feature Engineering\n",
    "    - Choosing a Suitable Algorithm\n",
    "    - Splitting Data into Training and Test Sets\n",
    "\n",
    "2. **Forms of Data in ML**:\n",
    "    - **Structured Data**: Organized in rows and columns. E.g., SQL databases.\n",
    "    - **Unstructured Data**: Doesn't have a specific format. E.g., images, text documents.\n",
    "    - **Semi-structured Data**: A mix of both. E.g., JSON, XML.\n",
    "\n",
    "3. **Distinguish**:\n",
    "    **1. Numeric vs. Categorical Attributes**: \n",
    "        - Numeric: Quantitative data. E.g., height, weight.\n",
    "        - Categorical: Qualitative data. E.g., color (red, blue), gender (male, female).\n",
    "    **2. Feature Selection vs. Dimensionality Reduction**:\n",
    "        - Feature Selection: Choosing a subset of the most significant features.\n",
    "        - Dimensionality Reduction: Reducing the number of features while retaining as much information as possible, using methods like PCA.\n",
    "\n",
    "4. **Notes**:\n",
    "    **1. Histogram**: A graphical representation of data distribution with bins representing data ranges and height representing frequency.\n",
    "    **2. Scatter Plot**: A graph with dots representing values obtained for two different variables, one plotted against x-axis and another against y.\n",
    "\n",
    "5. **Investigating Data**: It helps understand patterns, anomalies, and relationships in the data. Qualitative data are often explored using frequency distribution, while quantitative data may be explored using statistical measures.\n",
    "\n",
    "6. **Histogram Shapes and Bins**:\n",
    "    - **Shapes**: Symmetrical, Right-skewed, Left-skewed.\n",
    "    - **Bins**: Intervals that data is grouped into. Their width affects the appearance and interpretation of the histogram.\n",
    "\n",
    "7. **Handling Outliers**:\n",
    "    - Detection methods (Z-score, IQR).\n",
    "    - Capping or transformation.\n",
    "    - Removal, if deemed necessary.\n",
    "\n",
    "8. **Central Tendency Measures**:\n",
    "    - Mean: Average.\n",
    "    - Median: Middle value.\n",
    "    - Mode: Most frequent value.\n",
    "    When mean and median are different, it often indicates skewness in the data.\n",
    "\n",
    "9. **Scatter Plot for Bivariate Relationships**: Plots two continuous variables, one on each axis. Patterns in dots reveal relationships. Outliers can be identified as dots isolated from the main distribution.\n",
    "\n",
    "10. **Cross-tabs**: They are contingency tables that display frequency distribution for two categorical variables, helping understand the relationship between them."
   ]
  },
  {
   "cell_type": "code",
   "execution_count": null,
   "id": "46bbf60c",
   "metadata": {},
   "outputs": [],
   "source": []
  }
 ],
 "metadata": {
  "kernelspec": {
   "display_name": "Python 3 (ipykernel)",
   "language": "python",
   "name": "python3"
  },
  "language_info": {
   "codemirror_mode": {
    "name": "ipython",
    "version": 3
   },
   "file_extension": ".py",
   "mimetype": "text/x-python",
   "name": "python",
   "nbconvert_exporter": "python",
   "pygments_lexer": "ipython3",
   "version": "3.11.4"
  }
 },
 "nbformat": 4,
 "nbformat_minor": 5
}

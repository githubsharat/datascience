{
 "cells": [
  {
   "cell_type": "markdown",
   "id": "569d7ddf",
   "metadata": {},
   "source": [
    "1. **Feature**: An attribute used in prediction. E.g., in a house price dataset, \"number of bedrooms\" is a feature.\n",
    "\n",
    "2. **Feature Construction**: Necessary when:\n",
    "   - Original features aren't informative.\n",
    "   - New features simplify or enhance representation.\n",
    "\n",
    "3. **Encoding Nominal Variables**: \n",
    "   - One-hot encoding: Each category gets its binary column.\n",
    "\n",
    "4. **Converting Numeric to Categorical**:\n",
    "   - Binning: Divide numeric variable into intervals.\n",
    "\n",
    "5. **Wrapper Approach**:\n",
    "   - Uses a predictor to evaluate feature combinations.\n",
    "   - **Pros**: Considers feature interaction.\n",
    "   - **Cons**: Computationally expensive, potential overfitting.\n",
    "\n",
    "6. **Irrelevant Features**: Don’t add predictive information. Checked via information gain or correlation.\n",
    "\n",
    "7. **Redundant Features**: Mirrored by another feature. Detected using correlation matrices or VIF.\n",
    "\n",
    "8. **Distance Measurements**: Euclidean, Manhattan, Cosine, etc.\n",
    "\n",
    "9. **Euclidean vs. Manhattan**:\n",
    "   - **Euclidean**: Straight-line distance.\n",
    "   - **Manhattan**: Sum of absolute differences of coordinates.\n",
    "\n",
    "10. **Feature Transformation vs. Selection**:\n",
    "   - **Transformation**: Create new features from existing (e.g., scaling).\n",
    "   - **Selection**: Choose a subset, drop the rest.\n",
    "\n",
    "11. **Notes**:\n",
    "   1. **SVD**: Decomposes a matrix into three matrices; used in algorithms like LSA.\n",
    "   2. **Hybrid Feature Selection**: Combines different selection methods.\n",
    "   3. **Silhouette Width**: Measures clustering quality.\n",
    "   4. **ROC Curve**: Plots true positive rate vs. false positive rate for classification models."
   ]
  },
  {
   "cell_type": "code",
   "execution_count": null,
   "id": "d8257cf9",
   "metadata": {},
   "outputs": [],
   "source": []
  }
 ],
 "metadata": {
  "kernelspec": {
   "display_name": "Python 3 (ipykernel)",
   "language": "python",
   "name": "python3"
  },
  "language_info": {
   "codemirror_mode": {
    "name": "ipython",
    "version": 3
   },
   "file_extension": ".py",
   "mimetype": "text/x-python",
   "name": "python",
   "nbconvert_exporter": "python",
   "pygments_lexer": "ipython3",
   "version": "3.11.4"
  }
 },
 "nbformat": 4,
 "nbformat_minor": 5
}

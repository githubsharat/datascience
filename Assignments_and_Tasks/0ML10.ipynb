{
 "cells": [
  {
   "cell_type": "markdown",
   "id": "b9c41649",
   "metadata": {},
   "source": [
    "1. **Bayesian Interpretation of Probability**: It defines probability as a measure of belief, or subjective certainty, about the occurrence of an event. This belief can be updated upon obtaining new evidence using Bayes' theorem.\n",
    "\n",
    "2. **Probability of a Union of Two Events**: \n",
    "\\[ P(A \\cup B) = P(A) + P(B) - P(A \\cap B) \\]\n",
    "Where \\( P(A \\cup B) \\) is the probability that event A or event B occurs.\n",
    "\n",
    "3. **Joint Probability**: It is the probability of two events occurring simultaneously.\n",
    "\\[ P(A, B) = P(A \\cap B) \\]\n",
    "\n",
    "4. **Chain Rule of Probability**: \n",
    "\\[ P(A_1, A_2, ..., A_n) = P(A_1) \\times P(A_2|A_1) \\times P(A_3|A_1, A_2) \\times ... \\times P(A_n|A_1, ..., A_{n-1}) \\]\n",
    "\n",
    "5. **Conditional Probability**: The probability of event A occurring given that event B has already occurred.\n",
    "\\[ P(A|B) = \\frac{P(A \\cap B)}{P(B)} \\]\n",
    "\n",
    "6. **Continuous Random Variables**: Variables that can take on an infinite number of values within a given range. Examples include height, weight, and temperature.\n",
    "\n",
    "7. **Bernoulli Distributions**: Represents the probability of success for a single trial.\n",
    "\\[ P(X=k) = p^k(1-p)^{1-k} \\]\n",
    "where \\( k \\) is either 0 or 1, and \\( p \\) is the probability of success.\n",
    "\n",
    "8. **Binomial Distribution**: Describes the number of successes in a fixed number of Bernoulli trials.\n",
    "\\[ P(X=k) = \\binom{n}{k} p^k(1-p)^{n-k} \\]\n",
    "\n",
    "9. **Poisson Distribution**: Represents the number of events occurring in a fixed interval of time or space.\n",
    "\\[ P(X=k) = \\frac{\\lambda^k e^{-\\lambda}}{k!} \\]\n",
    "where \\( \\lambda \\) is the average rate of value.\n",
    "\n",
    "10. **Covariance**: A measure of how two random variables change together.\n",
    "\\[ \\text{Cov}(X, Y) = E[(X - E[X])(Y - E[Y])] \\]\n",
    "\n",
    "11. **Correlation**: Measures the strength and direction of a linear relationship between two random variables. It is normalized covariance, ranging between -1 and 1.\n",
    "\n",
    "12. **Sampling with Replacement**: After selecting an item, it's put back, making it available for re-selection. *Example*: Drawing a card from a deck, noting its color, then putting it back.\n",
    "\n",
    "13. **Sampling Without Replacement**: Once an item is selected, it's removed from the set. *Example*: Drawing cards from a deck until it's empty.\n",
    "\n",
    "14. **Hypothesis**: A statement that can be tested. *Example*: \"The drug is effective in reducing symptoms\" vs. \"The drug is not effective.\" The former is an alternative hypothesis, the latter is the null hypothesis."
   ]
  },
  {
   "cell_type": "code",
   "execution_count": null,
   "id": "7eb70d25",
   "metadata": {},
   "outputs": [],
   "source": []
  }
 ],
 "metadata": {
  "kernelspec": {
   "display_name": "Python 3 (ipykernel)",
   "language": "python",
   "name": "python3"
  },
  "language_info": {
   "codemirror_mode": {
    "name": "ipython",
    "version": 3
   },
   "file_extension": ".py",
   "mimetype": "text/x-python",
   "name": "python",
   "nbconvert_exporter": "python",
   "pygments_lexer": "ipython3",
   "version": "3.11.4"
  }
 },
 "nbformat": 4,
 "nbformat_minor": 5
}

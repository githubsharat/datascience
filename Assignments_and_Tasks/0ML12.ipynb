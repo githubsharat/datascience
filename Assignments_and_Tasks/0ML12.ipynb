{
 "cells": [
  {
   "cell_type": "markdown",
   "id": "c062e257",
   "metadata": {},
   "source": [
    "1. **Prior Probability**: It's the initial or existing probability of an event before acquiring new evidence. \n",
    "   *Example*: Based on historical data, there's a 1% chance of it raining tomorrow. This 1% is the prior probability.\n",
    "\n",
    "2. **Posterior Probability**: It's the updated probability of an event after incorporating new evidence.\n",
    "   *Example*: Given that it's currently overcast, the probability of it raining tomorrow rises to 60%. This 60% is the posterior probability.\n",
    "\n",
    "3. **Likelihood Probability**: It describes how likely the observed evidence/data would be, given a particular hypothesis or parameter value.\n",
    "   *Example*: Given that a person has a cold, the likelihood that they have a runny nose might be 70%.\n",
    "\n",
    "4. **Naïve Bayes Classifier**: It's a probabilistic classifier based on Bayes' theorem but assumes that features are conditionally independent, given the class. It's named \"naïve\" because of this independence assumption, which is rarely met in real-world applications.\n",
    "\n",
    "5. **Optimal Bayes Classifier**: It picks the most probable class label given the inputs, based on the true underlying probabilities. It's the best classifier if the true class probabilities are known.\n",
    "\n",
    "6. **Features of Bayesian Learning Methods**:\n",
    "   - They compute probabilities for hypotheses.\n",
    "   - They update those probabilities in light of new data, using Bayes' theorem.\n",
    "\n",
    "7. **Consistent Learners**: They will converge to a correct hypothesis, given enough data.\n",
    "\n",
    "8. **Strengths of Bayes Classifier**:\n",
    "   - It can handle missing data gracefully.\n",
    "   - It's relatively immune to irrelevant features because they're typically averaged out.\n",
    "\n",
    "9. **Weaknesses of Bayes Classifier**:\n",
    "   - The assumption of feature independence is often violated.\n",
    "   - It can be computationally intensive for large datasets.\n",
    "\n",
    "10. **Naïve Bayes Classifier in**:\n",
    "   1. **Text Classification**: Naïve Bayes is used to classify documents into categories. Words in the document serve as features. Probabilities are calculated for each category, given the words in the document.\n",
    "   2. **Spam Filtering**: Emails are categorized as spam or not spam. The presence or frequency of certain words or patterns can determine the likelihood of an email being spam.\n",
    "   3. **Market Sentiment Analysis**: Reviews or comments are analyzed. Words or phrases are used to determine the sentiment of the content, classifying it as positive, neutral, or negative."
   ]
  },
  {
   "cell_type": "code",
   "execution_count": null,
   "id": "8505d113",
   "metadata": {},
   "outputs": [],
   "source": []
  }
 ],
 "metadata": {
  "kernelspec": {
   "display_name": "Python 3 (ipykernel)",
   "language": "python",
   "name": "python3"
  },
  "language_info": {
   "codemirror_mode": {
    "name": "ipython",
    "version": 3
   },
   "file_extension": ".py",
   "mimetype": "text/x-python",
   "name": "python",
   "nbconvert_exporter": "python",
   "pygments_lexer": "ipython3",
   "version": "3.11.4"
  }
 },
 "nbformat": 4,
 "nbformat_minor": 5
}

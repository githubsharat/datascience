{
 "cells": [
  {
   "cell_type": "markdown",
   "id": "5e14fa89",
   "metadata": {},
   "source": [
    "1. **Example of Prior, Posterior, and Likelihood**:\n",
    "   * Prior: Probability of it raining today is 40% based on climate data.\n",
    "   * Likelihood: Given that the sky is cloudy, the probability of rain is 80%.\n",
    "   * Posterior: After observing a cloudy sky, the updated probability of it raining today is calculated using Bayes' theorem, incorporating both the prior and likelihood.\n",
    "\n",
    "2. **Role of Bayes' Theorem in Concept Learning**:\n",
    "Bayes' theorem provides a principled means of updating one's beliefs given new evidence. In concept learning, it helps to refine our understanding of a concept by incorporating new observed data.\n",
    "\n",
    "3. **Real-Life Example of Naive Bayes Classifier**:\n",
    "A common example is email spam filtering. An email's text is examined and, using a model trained on previously labeled emails as spam or not-spam, the Naive Bayes classifier predicts whether the new email is spam.\n",
    "\n",
    "4. **Naive Bayes on Continuous Data**:\n",
    "Yes, it can be used on continuous data by assuming a continuous distribution for feature values, typically a Gaussian distribution. You'd first calculate the mean and variance of each attribute for each class, and then use the Gaussian probability density function to calculate probabilities.\n",
    "\n",
    "5. **Bayesian Belief Networks (BBNs)**:\n",
    "BBNs, or Bayesian networks, are graphical models that represent the probabilistic relationships among a set of variables. They enable reasoning under uncertainty. They're used in various domains like medicine, finance, and engineering. BBNs are versatile and can address a broad spectrum of problems, from causal reasoning to prediction and diagnostics.\n",
    "\n",
    "6. **Airport Screening Problem**:\n",
    "Using Bayes' theorem:\n",
    "\\[ P(I=1|A=1) = \\frac{P(A=1|I=1) * P(I=1)}{P(A=1|I=1) * P(I=1) + P(A=1|I=0) * P(I=0)} \\]\n",
    "Given values can be plugged in to solve.\n",
    "\n",
    "7. **Antibiotic Resistance Test**:\n",
    "Using Bayes' theorem:\n",
    "\\[ P(D=1|T=1) = \\frac{P(T=1|D=1) * P(D=1)}{P(T=1)} \\]\n",
    "Given values, especially the false positive and true positive rates, can be plugged in to solve.\n",
    "\n",
    "8. **Student Exam Problem**:\n",
    "   1. By summing up probabilities based on type and student's success rate.\n",
    "   2. Bayes' theorem can be applied using given probabilities.\n",
    "\n",
    "9. **Bank CCTV System**:\n",
    "   1. Calculate using the given 5% chance for every 5-minute bin.\n",
    "   2. False photographs can be calculated using 10% false positive rate, and missed photographs using 1% false negative rate.\n",
    "   3. Use Bayes' theorem with the given probabilities.\n",
    "\n",
    "10. **Bayesian Belief Network & Conditional Probability Table**:\n",
    "This refers to a specific section from a particular resource, which I don't have access to. However, generally, for a Naive Bayes classifier, the conditional probability table (CPT) for the node \"Won Toss\" would have probabilities associated with outcomes of winning or not winning a toss given features in the data.\n"
   ]
  },
  {
   "cell_type": "code",
   "execution_count": null,
   "id": "fd4d19b8",
   "metadata": {},
   "outputs": [],
   "source": []
  }
 ],
 "metadata": {
  "kernelspec": {
   "display_name": "Python 3 (ipykernel)",
   "language": "python",
   "name": "python3"
  },
  "language_info": {
   "codemirror_mode": {
    "name": "ipython",
    "version": 3
   },
   "file_extension": ".py",
   "mimetype": "text/x-python",
   "name": "python",
   "nbconvert_exporter": "python",
   "pygments_lexer": "ipython3",
   "version": "3.11.4"
  }
 },
 "nbformat": 4,
 "nbformat_minor": 5
}

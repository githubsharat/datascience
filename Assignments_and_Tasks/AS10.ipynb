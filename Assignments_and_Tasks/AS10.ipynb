{
 "cells": [
  {
   "cell_type": "markdown",
   "id": "ad56f0ba",
   "metadata": {},
   "source": [
    "1. How do you distinguish between `shutil.copy()` and `shutil.copytree()`?\n",
    "\n",
    "`shutil.copy()` is used to copy a single file from source to destination, while `shutil.copytree()` is used to copy an entire directory tree including all files and subdirectories from source to destination."
   ]
  },
  {
   "cell_type": "markdown",
   "id": "d9c2b2ec",
   "metadata": {},
   "source": [
    "2. What function is used to rename files?\n",
    "\n",
    "The `os.rename()` function is used to rename files."
   ]
  },
  {
   "cell_type": "markdown",
   "id": "4c6641e3",
   "metadata": {},
   "source": [
    "3. What is the difference between the delete functions in the `send2trash` and `shutil` modules?\n",
    "\n",
    "The `shutil.rmtree()` function will permanently delete files and directories, whereas the `send2trash` function will move files or folders to the recycle bin or trash, allowing for possible recovery."
   ]
  },
  {
   "cell_type": "markdown",
   "id": "793988db",
   "metadata": {},
   "source": [
    "4. ZipFile objects have a `close()` method just like File objects’ `close()` method. What ZipFile method is equivalent to File objects’ `open()` method?\n",
    "\n",
    "The `ZipFile()` constructor method in the `zipfile` module is equivalent to the `open()` method for File objects. It's used to open (or create) a Zip file."
   ]
  },
  {
   "cell_type": "markdown",
   "id": "60b4e29a",
   "metadata": {},
   "source": [
    "5. Create a programme that searches a folder tree for files with a certain file extension (such as .pdf or .jpg). Copy these files from whatever location they are in to a new folder."
   ]
  },
  {
   "cell_type": "code",
   "execution_count": null,
   "id": "4612daf2",
   "metadata": {},
   "outputs": [],
   "source": [
    "import os\n",
    "import shutil\n",
    "\n",
    "def search_and_copy(src_folder, dest_folder, file_extensions):\n",
    "    if not os.path.exists(dest_folder):\n",
    "        os.makedirs(dest_folder)\n",
    "\n",
    "    for foldername, subfolders, filenames in os.walk(src_folder):\n",
    "        for filename in filenames:\n",
    "            if filename.endswith(tuple(file_extensions)):\n",
    "                shutil.copy(os.path.join(foldername, filename), dest_folder)\n",
    "\n",
    "# Example usage:\n",
    "src_directory = '/path/to/source/directory'\n",
    "dest_directory = '/path/to/destination/directory'\n",
    "extensions = ['.pdf', '.jpg']\n",
    "search_and_copy(src_directory, dest_directory, extensions)\n",
    "```\n",
    "Replace `/path/to/source/directory` and `/path/to/destination/directory` with the actual paths you intend to use. The program will copy all `.pdf` and `.jpg` files from the source directory and its subdirectories to the destination directory."
   ]
  }
 ],
 "metadata": {
  "kernelspec": {
   "display_name": "Python 3 (ipykernel)",
   "language": "python",
   "name": "python3"
  },
  "language_info": {
   "codemirror_mode": {
    "name": "ipython",
    "version": 3
   },
   "file_extension": ".py",
   "mimetype": "text/x-python",
   "name": "python",
   "nbconvert_exporter": "python",
   "pygments_lexer": "ipython3",
   "version": "3.11.4"
  }
 },
 "nbformat": 4,
 "nbformat_minor": 5
}

{
 "cells": [
  {
   "cell_type": "markdown",
   "id": "e04f3317",
   "metadata": {},
   "source": [
    "1. Create an assert statement that throws an AssertionError if the variable spam is a negative integer.\n",
    "\n",
    "assert spam >= 0, \"spam should not be a negative integer.\""
   ]
  },
  {
   "cell_type": "markdown",
   "id": "07aa40a8",
   "metadata": {},
   "source": [
    "2. Write an assert statement that triggers an AssertionError if the variables eggs and bacon contain strings that are the same as each other, even if their cases are different.\n",
    "\n",
    "assert eggs.lower() != bacon.lower(), \"eggs and bacon should not be the same, ignoring case.\""
   ]
  },
  {
   "cell_type": "markdown",
   "id": "4d6b531c",
   "metadata": {},
   "source": [
    "3. Create an assert statement that throws an AssertionError every time.\n",
    "\n",
    "assert False, \"This assertion always triggers.\""
   ]
  },
  {
   "cell_type": "markdown",
   "id": "3262bfbe",
   "metadata": {},
   "source": [
    "4. What are the two lines that must be present in your software in order to call `logging.debug()`?\n",
    "\n",
    "import logging\n",
    "logging.basicConfig(level=logging.DEBUG)"
   ]
  },
  {
   "cell_type": "markdown",
   "id": "258284b4",
   "metadata": {},
   "source": [
    "5. What are the two lines that your program must have in order to have `logging.debug()` send a logging message to a file named programLog.txt?\n",
    "\n",
    "import logging\n",
    "logging.basicConfig(filename='programLog.txt', level=logging.DEBUG)"
   ]
  },
  {
   "cell_type": "markdown",
   "id": "4dc71ae1",
   "metadata": {},
   "source": [
    "6. What are the five levels of logging?\n",
    "The five levels of logging are: DEBUG, INFO, WARNING, ERROR, and CRITICAL."
   ]
  },
  {
   "cell_type": "markdown",
   "id": "ea903f88",
   "metadata": {},
   "source": [
    "7. What line of code would you add to your software to disable all logging messages?\n",
    "\n",
    "logging.disable(logging.CRITICAL)\n"
   ]
  },
  {
   "cell_type": "markdown",
   "id": "3f89961d",
   "metadata": {},
   "source": [
    "8. Why is using logging messages better than using `print()` to display the same message?\n",
    "\n",
    "Logging messages are better than `print()` because they provide a way to selectively enable or disable, filter, and categorize messages based on severity. Logging can also redirect messages to different outputs (e.g., files), and they come with timestamps and other metadata which can be useful for troubleshooting."
   ]
  },
  {
   "cell_type": "markdown",
   "id": "80a08b8e",
   "metadata": {},
   "source": [
    "9. What are the differences between the Step Over, Step In, and Step Out buttons in the debugger?\n",
    "\n",
    "- **Step Over**: Executes the next line of code but does not step into functions (it will execute them and then move to the next line after the function).\n",
    "- **Step In**: Executes the next line of code, and if it's a function, it will enter the function and debug it line by line.\n",
    "- **Step Out**: Executes lines of code at full speed until it exits the current function."
   ]
  },
  {
   "cell_type": "markdown",
   "id": "269ee1c0",
   "metadata": {},
   "source": [
    "10. After you click Continue, when will the debugger stop?\n",
    "\n",
    "After clicking Continue, the debugger will continue executing the program without stopping until it reaches the end of the program or another breakpoint."
   ]
  },
  {
   "cell_type": "markdown",
   "id": "c1219846",
   "metadata": {},
   "source": [
    "11. What is the concept of a breakpoint?\n",
    "\n",
    "A breakpoint is a marker set at a specific line in the code. When a debugger encounters a breakpoint, it will pause the execution of the program at that line, allowing the developer to inspect variables, step through code, and troubleshoot issues."
   ]
  }
 ],
 "metadata": {
  "kernelspec": {
   "display_name": "Python 3 (ipykernel)",
   "language": "python",
   "name": "python3"
  },
  "language_info": {
   "codemirror_mode": {
    "name": "ipython",
    "version": 3
   },
   "file_extension": ".py",
   "mimetype": "text/x-python",
   "name": "python",
   "nbconvert_exporter": "python",
   "pygments_lexer": "ipython3",
   "version": "3.11.4"
  }
 },
 "nbformat": 4,
 "nbformat_minor": 5
}

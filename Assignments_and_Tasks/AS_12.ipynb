{
 "cells": [
  {
   "cell_type": "markdown",
   "id": "2cddcb73",
   "metadata": {},
   "source": [
    "1. In what modes should the `PdfFileReader()` and `PdfFileWriter()` File objects will be opened?\n",
    "- `PdfFileReader()`: 'rb' (read binary)\n",
    "- `PdfFileWriter()`: 'wb' (write binary)"
   ]
  },
  {
   "cell_type": "markdown",
   "id": "0ad4aaf6",
   "metadata": {},
   "source": [
    "2. From a `PdfFileReader` object, how do you get a Page object for page 5?\n",
    "\n",
    "pageObj = pdfReader.getPage(4)  # Note: Page numbers are 0-indexed."
   ]
  },
  {
   "cell_type": "markdown",
   "id": "2e990e35",
   "metadata": {},
   "source": [
    "3. What `PdfFileReader` variable stores the number of pages in the PDF document?\n",
    "\n",
    "numPages = pdfReader.numPages"
   ]
  },
  {
   "cell_type": "markdown",
   "id": "54821727",
   "metadata": {},
   "source": [
    "4. If a `PdfFileReader` object’s PDF is encrypted with the password `swordfish`, what must you do before you can obtain Page objects from it?\n",
    "\n",
    "pdfReader.decrypt('swordfish')"
   ]
  },
  {
   "cell_type": "markdown",
   "id": "a7b5f6b4",
   "metadata": {},
   "source": [
    "5. What methods do you use to rotate a page?\n",
    "- `rotateClockwise(angle)`\n",
    "- `rotateCounterClockwise(angle)`"
   ]
  },
  {
   "cell_type": "markdown",
   "id": "39c2ab83",
   "metadata": {},
   "source": [
    "6. What is the difference between a `Run` object and a `Paragraph` object?\n",
    "- A `Paragraph` object represents a whole paragraph in a document. It contains a list of one or more `Run` objects.\n",
    "- A `Run` object represents a continuous run of text with the same style. Within a paragraph, once you change the style (like bolding or italicizing), a new `Run` is created."
   ]
  },
  {
   "cell_type": "markdown",
   "id": "a0588b54",
   "metadata": {},
   "source": [
    "7. How do you obtain a list of `Paragraph` objects for a `Document` object that’s stored in a variable named `doc`?\n",
    "\n",
    "paragraphs = doc.paragraphs"
   ]
  },
  {
   "cell_type": "markdown",
   "id": "7b31debf",
   "metadata": {},
   "source": [
    "8. What type of object has `bold`, `underline`, `italic`, `strike`, and `outline` variables?\n",
    "The `Run` object has these variables."
   ]
  },
  {
   "cell_type": "markdown",
   "id": "12e06f8a",
   "metadata": {},
   "source": [
    "9. What is the difference between `False`, `True`, and `None` for the `bold` variable?\n",
    "- `True`: The `Run` text will be bolded.\n",
    "- `False`: The `Run` text will not be bolded.\n",
    "- `None`: The `Run` text will use the bold setting from its style without directly enforcing bold or not."
   ]
  },
  {
   "cell_type": "markdown",
   "id": "90a9fe89",
   "metadata": {},
   "source": [
    "10. How do you create a `Document` object for a new Word document?\n",
    "\n",
    "import docx\n",
    "doc = docx.Document()"
   ]
  },
  {
   "cell_type": "markdown",
   "id": "0b4e760f",
   "metadata": {},
   "source": [
    "11. How do you add a paragraph with the text 'Hello, there!' to a `Document` object stored in a variable named `doc`?\n",
    "\n",
    "doc.add_paragraph('Hello, there!')"
   ]
  },
  {
   "cell_type": "markdown",
   "id": "6c810f62",
   "metadata": {},
   "source": [
    "12. What integers represent the levels of headings available in Word documents?\n",
    "The integers 0 through 4 \n",
    "- 0 is the title\n",
    "- 1 is the main heading\n",
    "- 2 is the first subheading\n",
    "- ... and so on."
   ]
  }
 ],
 "metadata": {
  "kernelspec": {
   "display_name": "Python 3 (ipykernel)",
   "language": "python",
   "name": "python3"
  },
  "language_info": {
   "codemirror_mode": {
    "name": "ipython",
    "version": 3
   },
   "file_extension": ".py",
   "mimetype": "text/x-python",
   "name": "python",
   "nbconvert_exporter": "python",
   "pygments_lexer": "ipython3",
   "version": "3.11.4"
  }
 },
 "nbformat": 4,
 "nbformat_minor": 5
}

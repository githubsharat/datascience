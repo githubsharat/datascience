{
 "cells": [
  {
   "cell_type": "markdown",
   "id": "bd501d92",
   "metadata": {},
   "source": [
    "1. What advantages do Excel spreadsheets have over CSV spreadsheets?\n",
    "\n",
    "- Excel support multiple worksheets in a single file.\n",
    "- They allow for cell styling and formatting\n",
    "- They support complex formulas and functions \n",
    "- Excel files can contain embedded images and charts.\n",
    "- They offer better data validation and drop-down lists.\n",
    "- They can protect, encrypt, or lock individual cells or worksheets."
   ]
  },
  {
   "cell_type": "markdown",
   "id": "9edc7afc",
   "metadata": {},
   "source": [
    "2. What do you pass to `csv.reader()` and `csv.writer()` to create reader and writer objects?\n",
    "\n",
    "- You pass a file object to both `csv.reader()` and `csv.writer()` to create reader and writer objects respectively."
   ]
  },
  {
   "cell_type": "markdown",
   "id": "323d2952",
   "metadata": {},
   "source": [
    "3. What modes do File objects for reader and writer objects need to be opened in?\n",
    "\n",
    "- Reader objects (`csv.reader`): 'r' (read mode)\n",
    "- Writer objects (`csv.writer`): 'w' (write mode)"
   ]
  },
  {
   "cell_type": "markdown",
   "id": "391d1bd8",
   "metadata": {},
   "source": [
    "4. What method takes a list argument and writes it to a CSV file?\n",
    "\n",
    "- The `writerow()` method."
   ]
  },
  {
   "cell_type": "markdown",
   "id": "3cef6df2",
   "metadata": {},
   "source": [
    "5. What do the keyword arguments `delimiter` and `line terminator` do?\n",
    "\n",
    "- `delimiter`: It specifies the character used between fields in the CSV. By default, it is a comma.\n",
    "- `line terminator`: It specifies the character used to indicate the end of a row. By default, it's a newline."
   ]
  },
  {
   "cell_type": "markdown",
   "id": "02aa64d4",
   "metadata": {},
   "source": [
    "6. What function takes a string of JSON data and returns a Python data structure?\n",
    "\n",
    "- The `json.loads()` function."
   ]
  },
  {
   "cell_type": "markdown",
   "id": "726f4921",
   "metadata": {},
   "source": [
    "\n",
    "7. What function takes a Python data structure and returns a string of JSON data?\n",
    "\n",
    "- The `json.dumps()` function."
   ]
  }
 ],
 "metadata": {
  "kernelspec": {
   "display_name": "Python 3 (ipykernel)",
   "language": "python",
   "name": "python3"
  },
  "language_info": {
   "codemirror_mode": {
    "name": "ipython",
    "version": 3
   },
   "file_extension": ".py",
   "mimetype": "text/x-python",
   "name": "python",
   "nbconvert_exporter": "python",
   "pygments_lexer": "ipython3",
   "version": "3.11.4"
  }
 },
 "nbformat": 4,
 "nbformat_minor": 5
}

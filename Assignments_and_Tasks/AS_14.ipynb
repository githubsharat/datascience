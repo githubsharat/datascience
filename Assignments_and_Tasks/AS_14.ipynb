{
 "cells": [
  {
   "cell_type": "markdown",
   "id": "c1ceeaae",
   "metadata": {},
   "source": [
    "1. What does RGBA stand for?\n",
    "- RGBA stands for Red Green Blue Alpha. The Alpha represents the transparency level, with 0 being completely transparent and 255 being completely opaque."
   ]
  },
  {
   "cell_type": "markdown",
   "id": "54154b93",
   "metadata": {},
   "source": [
    "2. From the Pillow module, how do you get the RGBA value of any images?\n",
    "- You can use the `getpixel()` method of an Image object. For example:\n",
    "\n",
    "  from PIL import Image\n",
    "  img = Image.open('path_to_image.jpg')\n",
    "  rgba_value = img.getpixel((x, y))"
   ]
  },
  {
   "cell_type": "markdown",
   "id": "89346b9d",
   "metadata": {},
   "source": [
    "3. What is a box tuple, and how does it work?\n",
    "- A box tuple in Pillow represents a rectangular region of an image. It's a tuple of four integers: `(left, upper, right, lower)`. These represent the X and Y coordinates of the top-left corner and the X and Y coordinates of the bottom-right corner of the box, respectively."
   ]
  },
  {
   "cell_type": "markdown",
   "id": "62be7665",
   "metadata": {},
   "source": [
    "4. Use your image and load in notebook then, How can you find out the width and height of an Image object?\n",
    "- You can use the `size` attribute of the Image object. For example:\n",
    "\n",
    "  img = Image.open('path_to_image.jpg')\n",
    "  width, height = img.size"
   ]
  },
  {
   "cell_type": "markdown",
   "id": "3dbc2417",
   "metadata": {},
   "source": [
    "5. What method would you call to get Image object for a 100×100 image, excluding the lower-left quarter of it?\n",
    "- You would use the `crop()` method. Assuming your image is 100x100 pixels:\n",
    "\n",
    "  img = Image.open('path_to_image.jpg')\n",
    "  cropped_img = img.crop((0, 0, 100, 50))"
   ]
  },
  {
   "cell_type": "markdown",
   "id": "26813366",
   "metadata": {},
   "source": [
    "6. After making changes to an Image object, how could you save it as an image file?\n",
    "- You can use the `save()` method of the Image object. For example:\n",
    "\n",
    "  img.save('new_image_path.jpg')"
   ]
  },
  {
   "cell_type": "markdown",
   "id": "67082883",
   "metadata": {},
   "source": [
    "7. What module contains Pillow’s shape-drawing code?\n",
    "- The `PIL.ImageDraw` module contains Pillow’s shape-drawing code."
   ]
  },
  {
   "cell_type": "markdown",
   "id": "b7c3e625",
   "metadata": {},
   "source": [
    "8. Image objects do not have drawing methods. What kind of object does? How do you get this kind of object?\n",
    "- The `ImageDraw.Draw()` function returns an ImageDraw object which has methods to draw on images. You get this kind of object as follows:\n",
    "\n",
    "  from PIL import ImageDraw\n",
    "  draw = ImageDraw.Draw(img)"
   ]
  }
 ],
 "metadata": {
  "kernelspec": {
   "display_name": "Python 3 (ipykernel)",
   "language": "python",
   "name": "python3"
  },
  "language_info": {
   "codemirror_mode": {
    "name": "ipython",
    "version": 3
   },
   "file_extension": ".py",
   "mimetype": "text/x-python",
   "name": "python",
   "nbconvert_exporter": "python",
   "pygments_lexer": "ipython3",
   "version": "3.11.4"
  }
 },
 "nbformat": 4,
 "nbformat_minor": 5
}

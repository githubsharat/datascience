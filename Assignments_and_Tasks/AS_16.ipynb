{
 "cells": [
  {
   "cell_type": "markdown",
   "id": "56827388",
   "metadata": {},
   "source": [
    "1. Create a list called years_list."
   ]
  },
  {
   "cell_type": "code",
   "execution_count": 1,
   "id": "9ed17c8b",
   "metadata": {},
   "outputs": [],
   "source": [
    "years_list = [1980, 1981, 1982, 1983, 1984, 1985]"
   ]
  },
  {
   "cell_type": "markdown",
   "id": "8f97b43d",
   "metadata": {},
   "source": [
    "2. In which year in years_list was your third birthday?"
   ]
  },
  {
   "cell_type": "code",
   "execution_count": 2,
   "id": "f4f96d2d",
   "metadata": {},
   "outputs": [],
   "source": [
    "third_birthday_year = years_list[3]"
   ]
  },
  {
   "cell_type": "markdown",
   "id": "6e305da2",
   "metadata": {},
   "source": [
    "3. In the years list, which year were you the oldest?"
   ]
  },
  {
   "cell_type": "code",
   "execution_count": 3,
   "id": "72de05aa",
   "metadata": {},
   "outputs": [],
   "source": [
    "oldest_year = years_list[-1]"
   ]
  },
  {
   "cell_type": "markdown",
   "id": "07a3ae39",
   "metadata": {},
   "source": [
    "4. Make a list called things."
   ]
  },
  {
   "cell_type": "code",
   "execution_count": 4,
   "id": "1f69a7a5",
   "metadata": {},
   "outputs": [],
   "source": [
    "things = [\"mozzarella\", \"cinderella\", \"salmonella\"]"
   ]
  },
  {
   "cell_type": "markdown",
   "id": "dd20f4d4",
   "metadata": {},
   "source": [
    "5. Capitalize the element in things that refers to a person and then print the list."
   ]
  },
  {
   "cell_type": "code",
   "execution_count": 5,
   "id": "cf31a076",
   "metadata": {},
   "outputs": [
    {
     "name": "stdout",
     "output_type": "stream",
     "text": [
      "['mozzarella', 'Cinderella', 'salmonella']\n"
     ]
    }
   ],
   "source": [
    "things[1] = things[1].capitalize()\n",
    "print(things)  # The element in the list has changed."
   ]
  },
  {
   "cell_type": "markdown",
   "id": "a863ae06",
   "metadata": {},
   "source": [
    "6. Make a surprise list."
   ]
  },
  {
   "cell_type": "code",
   "execution_count": 6,
   "id": "55383413",
   "metadata": {},
   "outputs": [],
   "source": [
    "surprise = [\"Groucho\", \"Chico\", \"Harpo\"]"
   ]
  },
  {
   "cell_type": "markdown",
   "id": "05f80965",
   "metadata": {},
   "source": [
    "7. Lowercase the last element of the surprise list, reverse it, and then capitalize it."
   ]
  },
  {
   "cell_type": "code",
   "execution_count": 7,
   "id": "c193299f",
   "metadata": {},
   "outputs": [],
   "source": [
    "surprise[-1] = surprise[-1].lower()[::-1].capitalize()"
   ]
  },
  {
   "cell_type": "markdown",
   "id": "8b6439ca",
   "metadata": {},
   "source": [
    "8. Make an English-to-French dictionary called e2f."
   ]
  },
  {
   "cell_type": "code",
   "execution_count": 8,
   "id": "a4e32c82",
   "metadata": {},
   "outputs": [
    {
     "name": "stdout",
     "output_type": "stream",
     "text": [
      "{'dog': 'chien', 'cat': 'chat', 'walrus': 'morse'}\n"
     ]
    }
   ],
   "source": [
    "e2f = {\"dog\": \"chien\", \"cat\": \"chat\", \"walrus\": \"morse\"}\n",
    "print(e2f)"
   ]
  },
  {
   "cell_type": "markdown",
   "id": "c9936c07",
   "metadata": {},
   "source": [
    "9. Write the French word for walrus in your three-word dictionary e2f."
   ]
  },
  {
   "cell_type": "code",
   "execution_count": 9,
   "id": "da30a162",
   "metadata": {},
   "outputs": [
    {
     "name": "stdout",
     "output_type": "stream",
     "text": [
      "morse\n"
     ]
    }
   ],
   "source": [
    "print(e2f[\"walrus\"])"
   ]
  },
  {
   "cell_type": "markdown",
   "id": "301608fd",
   "metadata": {},
   "source": [
    "10. Make a French-to-English dictionary called f2e from e2f."
   ]
  },
  {
   "cell_type": "code",
   "execution_count": 10,
   "id": "aa53a3a9",
   "metadata": {},
   "outputs": [],
   "source": [
    "f2e = {v: k for k, v in e2f.items()}"
   ]
  },
  {
   "cell_type": "markdown",
   "id": "1605c027",
   "metadata": {},
   "source": [
    "11. Print the English version of the French word chien using f2e."
   ]
  },
  {
   "cell_type": "code",
   "execution_count": 11,
   "id": "2bfabc26",
   "metadata": {},
   "outputs": [
    {
     "name": "stdout",
     "output_type": "stream",
     "text": [
      "dog\n"
     ]
    }
   ],
   "source": [
    "print(f2e[\"chien\"])"
   ]
  },
  {
   "cell_type": "markdown",
   "id": "8eb98dc9",
   "metadata": {},
   "source": [
    "12. Make and print a set of English words from the keys in e2f."
   ]
  },
  {
   "cell_type": "code",
   "execution_count": 12,
   "id": "2164de7d",
   "metadata": {},
   "outputs": [
    {
     "name": "stdout",
     "output_type": "stream",
     "text": [
      "{'dog', 'walrus', 'cat'}\n"
     ]
    }
   ],
   "source": [
    "english_words = set(e2f.keys())\n",
    "print(english_words)"
   ]
  },
  {
   "cell_type": "markdown",
   "id": "9c5c9690",
   "metadata": {},
   "source": [
    "13. Make a multilevel dictionary called life."
   ]
  },
  {
   "cell_type": "code",
   "execution_count": 13,
   "id": "06eb3f26",
   "metadata": {},
   "outputs": [],
   "source": [
    "life = {\n",
    "    \"animals\": {\n",
    "        \"cats\": [\"Henri\", \"Grumpy\", \"Lucy\"],\n",
    "        \"octopi\": {},\n",
    "        \"emus\": {}\n",
    "    },\n",
    "    \"plants\": {},\n",
    "    \"other\": {}\n",
    "}"
   ]
  },
  {
   "cell_type": "markdown",
   "id": "9addbfae",
   "metadata": {},
   "source": [
    "14. Print the top-level keys of life."
   ]
  },
  {
   "cell_type": "code",
   "execution_count": 14,
   "id": "25021a46",
   "metadata": {},
   "outputs": [
    {
     "name": "stdout",
     "output_type": "stream",
     "text": [
      "dict_keys(['animals', 'plants', 'other'])\n"
     ]
    }
   ],
   "source": [
    "print(life.keys())"
   ]
  },
  {
   "cell_type": "markdown",
   "id": "e919a794",
   "metadata": {},
   "source": [
    "15. Print the keys for life['animals']."
   ]
  },
  {
   "cell_type": "code",
   "execution_count": 15,
   "id": "b8f21877",
   "metadata": {},
   "outputs": [
    {
     "name": "stdout",
     "output_type": "stream",
     "text": [
      "dict_keys(['cats', 'octopi', 'emus'])\n"
     ]
    }
   ],
   "source": [
    "print(life[\"animals\"].keys())"
   ]
  },
  {
   "cell_type": "markdown",
   "id": "b4531cba",
   "metadata": {},
   "source": [
    "16. Print the values for life['animals']['cats']."
   ]
  },
  {
   "cell_type": "code",
   "execution_count": 16,
   "id": "4455d7bc",
   "metadata": {},
   "outputs": [
    {
     "name": "stdout",
     "output_type": "stream",
     "text": [
      "['Henri', 'Grumpy', 'Lucy']\n"
     ]
    }
   ],
   "source": [
    "print(life[\"animals\"][\"cats\"])"
   ]
  }
 ],
 "metadata": {
  "kernelspec": {
   "display_name": "Python 3 (ipykernel)",
   "language": "python",
   "name": "python3"
  },
  "language_info": {
   "codemirror_mode": {
    "name": "ipython",
    "version": 3
   },
   "file_extension": ".py",
   "mimetype": "text/x-python",
   "name": "python",
   "nbconvert_exporter": "python",
   "pygments_lexer": "ipython3",
   "version": "3.11.4"
  }
 },
 "nbformat": 4,
 "nbformat_minor": 5
}

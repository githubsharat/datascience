{
 "cells": [
  {
   "cell_type": "markdown",
   "id": "a69a79e3",
   "metadata": {},
   "source": [
    "1. Conditional tests for `guess_me`."
   ]
  },
  {
   "cell_type": "code",
   "execution_count": 1,
   "id": "5f087820",
   "metadata": {},
   "outputs": [
    {
     "name": "stdout",
     "output_type": "stream",
     "text": [
      "just right\n"
     ]
    }
   ],
   "source": [
    "guess_me = 7\n",
    "if guess_me < 7:\n",
    "    print('too low')\n",
    "elif guess_me > 7:\n",
    "    print('too high')\n",
    "else:\n",
    "    print('just right')"
   ]
  },
  {
   "cell_type": "markdown",
   "id": "990e7edc",
   "metadata": {},
   "source": [
    "2. While loop for `guess_me` and `start`."
   ]
  },
  {
   "cell_type": "code",
   "execution_count": 2,
   "id": "c7729aa9",
   "metadata": {},
   "outputs": [
    {
     "name": "stdout",
     "output_type": "stream",
     "text": [
      "too low\n",
      "too low\n",
      "too low\n",
      "too low\n",
      "too low\n",
      "too low\n",
      "found it!\n"
     ]
    }
   ],
   "source": [
    "guess_me = 7\n",
    "start = 1\n",
    "while True:\n",
    "    if start < guess_me:\n",
    "        print('too low')\n",
    "    elif start == guess_me:\n",
    "        print('found it!')\n",
    "        break\n",
    "    else:\n",
    "        print('oops')\n",
    "        break\n",
    "    start += 1"
   ]
  },
  {
   "cell_type": "markdown",
   "id": "d391e395",
   "metadata": {},
   "source": [
    "3. Printing values from a list."
   ]
  },
  {
   "cell_type": "code",
   "execution_count": 3,
   "id": "dc364c01",
   "metadata": {},
   "outputs": [
    {
     "name": "stdout",
     "output_type": "stream",
     "text": [
      "3\n",
      "2\n",
      "1\n",
      "0\n"
     ]
    }
   ],
   "source": [
    "for value in [3, 2, 1, 0]:\n",
    "    print(value)"
   ]
  },
  {
   "cell_type": "markdown",
   "id": "eaabcf24",
   "metadata": {},
   "source": [
    "4. List comprehension for even numbers."
   ]
  },
  {
   "cell_type": "code",
   "execution_count": 4,
   "id": "89fdbb49",
   "metadata": {},
   "outputs": [
    {
     "name": "stdout",
     "output_type": "stream",
     "text": [
      "[0, 2, 4, 6, 8]\n"
     ]
    }
   ],
   "source": [
    "even_numbers = [num for num in range(10) if num % 2 == 0]\n",
    "print(even_numbers)"
   ]
  },
  {
   "cell_type": "markdown",
   "id": "6c48c08d",
   "metadata": {},
   "source": [
    "5. Dictionary comprehension for squares."
   ]
  },
  {
   "cell_type": "code",
   "execution_count": 5,
   "id": "4f20cd15",
   "metadata": {},
   "outputs": [
    {
     "name": "stdout",
     "output_type": "stream",
     "text": [
      "{0: 0, 1: 1, 2: 4, 3: 9, 4: 16, 5: 25, 6: 36, 7: 49, 8: 64, 9: 81}\n"
     ]
    }
   ],
   "source": [
    "squares = {num: num*num for num in range(10)}\n",
    "print(squares)"
   ]
  },
  {
   "cell_type": "markdown",
   "id": "adcb764e",
   "metadata": {},
   "source": [
    "6. Set comprehension for odd numbers."
   ]
  },
  {
   "cell_type": "code",
   "execution_count": 6,
   "id": "866ff7dc",
   "metadata": {},
   "outputs": [
    {
     "name": "stdout",
     "output_type": "stream",
     "text": [
      "{1, 3, 5, 7, 9}\n"
     ]
    }
   ],
   "source": [
    "odd = {num for num in range(10) if num % 2 != 0}\n",
    "print(odd)"
   ]
  },
  {
   "cell_type": "markdown",
   "id": "da72412b",
   "metadata": {},
   "source": [
    "7. Generator comprehension for 'Got ' string."
   ]
  },
  {
   "cell_type": "code",
   "execution_count": 7,
   "id": "1e6e145d",
   "metadata": {},
   "outputs": [
    {
     "name": "stdout",
     "output_type": "stream",
     "text": [
      "Got 0\n",
      "Got 1\n",
      "Got 2\n",
      "Got 3\n",
      "Got 4\n",
      "Got 5\n",
      "Got 6\n",
      "Got 7\n",
      "Got 8\n",
      "Got 9\n"
     ]
    }
   ],
   "source": [
    "generator = ('Got ' + str(num) for num in range(10))\n",
    "for item in generator:\n",
    "    print(item)"
   ]
  },
  {
   "cell_type": "markdown",
   "id": "b8662f5b",
   "metadata": {},
   "source": [
    "8. Function `good`."
   ]
  },
  {
   "cell_type": "code",
   "execution_count": 8,
   "id": "47e1efe8",
   "metadata": {},
   "outputs": [
    {
     "name": "stdout",
     "output_type": "stream",
     "text": [
      "['Harry', 'Ron', 'Hermione']\n"
     ]
    }
   ],
   "source": [
    "def good():\n",
    "    return ['Harry', 'Ron', 'Hermione']\n",
    "print(good())"
   ]
  },
  {
   "cell_type": "markdown",
   "id": "0d049279",
   "metadata": {},
   "source": [
    "9. `get_odds` generator function."
   ]
  },
  {
   "cell_type": "code",
   "execution_count": 9,
   "id": "9619cae6",
   "metadata": {},
   "outputs": [
    {
     "name": "stdout",
     "output_type": "stream",
     "text": [
      "5\n"
     ]
    }
   ],
   "source": [
    "def get_odds():\n",
    "    for num in range(10):\n",
    "        if num % 2 != 0:\n",
    "            yield num\n",
    "\n",
    "counter = 0\n",
    "for value in get_odds():\n",
    "    if counter == 2:\n",
    "        print(value)\n",
    "        break\n",
    "    counter += 1"
   ]
  },
  {
   "cell_type": "markdown",
   "id": "b9b83988",
   "metadata": {},
   "source": [
    "10. OopsException."
   ]
  },
  {
   "cell_type": "code",
   "execution_count": 10,
   "id": "7ca2f9a7",
   "metadata": {},
   "outputs": [
    {
     "name": "stdout",
     "output_type": "stream",
     "text": [
      "Caught an oops\n"
     ]
    }
   ],
   "source": [
    "class OopsException(Exception):\n",
    "    pass\n",
    "\n",
    "try:\n",
    "    raise OopsException\n",
    "except OopsException:\n",
    "    print('Caught an oops')"
   ]
  },
  {
   "cell_type": "markdown",
   "id": "3806b6be",
   "metadata": {},
   "source": [
    "11. Using `zip()` for `movies` dictionary."
   ]
  },
  {
   "cell_type": "code",
   "execution_count": 11,
   "id": "e6e0c1e7",
   "metadata": {},
   "outputs": [
    {
     "name": "stdout",
     "output_type": "stream",
     "text": [
      "{'Creature of Habit': 'A nun turns into a monster', 'Crewel Fate': 'A haunted yarn shop'}\n"
     ]
    }
   ],
   "source": [
    "titles = ['Creature of Habit', 'Crewel Fate']\n",
    "plots = ['A nun turns into a monster', 'A haunted yarn shop']\n",
    "movies = dict(zip(titles, plots))\n",
    "print(movies)"
   ]
  }
 ],
 "metadata": {
  "kernelspec": {
   "display_name": "Python 3 (ipykernel)",
   "language": "python",
   "name": "python3"
  },
  "language_info": {
   "codemirror_mode": {
    "name": "ipython",
    "version": 3
   },
   "file_extension": ".py",
   "mimetype": "text/x-python",
   "name": "python",
   "nbconvert_exporter": "python",
   "pygments_lexer": "ipython3",
   "version": "3.11.4"
  }
 },
 "nbformat": 4,
 "nbformat_minor": 5
}

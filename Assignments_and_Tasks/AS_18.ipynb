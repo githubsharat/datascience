{
 "cells": [
  {
   "cell_type": "code",
   "execution_count": null,
   "id": "22065eb2",
   "metadata": {},
   "outputs": [],
   "source": [
    "def hours():\n",
    "    print('Open 9-5 daily')"
   ]
  },
  {
   "cell_type": "code",
   "execution_count": null,
   "id": "b5e56754",
   "metadata": {},
   "outputs": [],
   "source": [
    "import zoo\n",
    "\n",
    "import zoo as menagerie\n",
    "menagerie.hours()"
   ]
  },
  {
   "cell_type": "markdown",
   "id": "d8c42346",
   "metadata": {},
   "source": [
    "**3. Explicitly import and call the `hours()` function from `zoo`.**"
   ]
  },
  {
   "cell_type": "code",
   "execution_count": null,
   "id": "89b6833b",
   "metadata": {},
   "outputs": [],
   "source": [
    "from zoo import hours\n",
    "hours()"
   ]
  },
  {
   "cell_type": "markdown",
   "id": "17af058c",
   "metadata": {},
   "source": [
    "**4. Import the `hours()` function as `info` and call it.**"
   ]
  },
  {
   "cell_type": "code",
   "execution_count": null,
   "id": "fd13d5db",
   "metadata": {},
   "outputs": [],
   "source": [
    "from zoo import hours as info\n",
    "info()"
   ]
  },
  {
   "cell_type": "markdown",
   "id": "b0da9620",
   "metadata": {},
   "source": [
    "**5. Create and print a plain dictionary.**"
   ]
  },
  {
   "cell_type": "code",
   "execution_count": null,
   "id": "3d19a995",
   "metadata": {},
   "outputs": [],
   "source": [
    "plain = {'a': 1, 'b': 2, 'c': 3}\n",
    "print(plain)"
   ]
  },
  {
   "cell_type": "markdown",
   "id": "4414a0de",
   "metadata": {},
   "source": [
    "**6. Create and print an `OrderedDict`.**"
   ]
  },
  {
   "cell_type": "code",
   "execution_count": null,
   "id": "ace7606a",
   "metadata": {},
   "outputs": [],
   "source": [
    "from collections import OrderedDict\n",
    "fancy = OrderedDict([('a', 1), ('b', 2), ('c', 3)])\n",
    "print(fancy)\n",
    "# It will print in the same order as the plain dictionary since from Python 3.7 onwards, dictionaries preserve insertion order."
   ]
  },
  {
   "cell_type": "markdown",
   "id": "9630da01",
   "metadata": {},
   "source": [
    "**7. Create a `defaultdict` and perform the operation.**"
   ]
  },
  {
   "cell_type": "code",
   "execution_count": null,
   "id": "fa4479a2",
   "metadata": {},
   "outputs": [],
   "source": [
    "from collections import defaultdict\n",
    "dict_of_lists = defaultdict(list)\n",
    "dict_of_lists['a'].append('something for a')\n",
    "print(dict_of_lists['a'])"
   ]
  },
  {
   "cell_type": "code",
   "execution_count": null,
   "id": "0ffd8ac3",
   "metadata": {},
   "outputs": [],
   "source": []
  }
 ],
 "metadata": {
  "kernelspec": {
   "display_name": "Python 3 (ipykernel)",
   "language": "python",
   "name": "python3"
  },
  "language_info": {
   "codemirror_mode": {
    "name": "ipython",
    "version": 3
   },
   "file_extension": ".py",
   "mimetype": "text/x-python",
   "name": "python",
   "nbconvert_exporter": "python",
   "pygments_lexer": "ipython3",
   "version": "3.11.4"
  }
 },
 "nbformat": 4,
 "nbformat_minor": 5
}

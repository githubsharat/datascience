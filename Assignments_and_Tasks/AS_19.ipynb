{
 "cells": [
  {
   "cell_type": "markdown",
   "id": "e0b15fc3",
   "metadata": {},
   "source": [
    "**1. Class `Thing` and its instance.**"
   ]
  },
  {
   "cell_type": "code",
   "execution_count": 1,
   "id": "e0a75fff",
   "metadata": {},
   "outputs": [
    {
     "name": "stdout",
     "output_type": "stream",
     "text": [
      "<class '__main__.Thing'>\n",
      "<__main__.Thing object at 0x000001C3EB332990>\n"
     ]
    }
   ],
   "source": [
    "class Thing:\n",
    "    pass\n",
    "\n",
    "print(Thing)\n",
    "\n",
    "example = Thing()\n",
    "print(example)\n",
    "# The printed values will be different. The first is the class object, the second is an instance of the class."
   ]
  },
  {
   "cell_type": "markdown",
   "id": "c511cc7e",
   "metadata": {},
   "source": [
    "**2. Class `Thing2` with a class attribute.**"
   ]
  },
  {
   "cell_type": "code",
   "execution_count": 2,
   "id": "f6c20ff0",
   "metadata": {},
   "outputs": [
    {
     "name": "stdout",
     "output_type": "stream",
     "text": [
      "abc\n"
     ]
    }
   ],
   "source": [
    "class Thing2:\n",
    "    letters = 'abc'\n",
    "\n",
    "print(Thing2.letters)"
   ]
  },
  {
   "cell_type": "markdown",
   "id": "ea5b3404",
   "metadata": {},
   "source": [
    "**3. Class `Thing3` with an instance attribute.**"
   ]
  },
  {
   "cell_type": "code",
   "execution_count": 3,
   "id": "225095c8",
   "metadata": {},
   "outputs": [
    {
     "name": "stdout",
     "output_type": "stream",
     "text": [
      "xyz\n"
     ]
    }
   ],
   "source": [
    "class Thing3:\n",
    "    def __init__(self):\n",
    "        self.letters = 'xyz'\n",
    "\n",
    "# To print letters, you need to make an object from the class.\n",
    "thing3_instance = Thing3()\n",
    "print(thing3_instance.letters)"
   ]
  },
  {
   "cell_type": "markdown",
   "id": "37673a36",
   "metadata": {},
   "source": [
    "**4. `Element` class creation.**"
   ]
  },
  {
   "cell_type": "code",
   "execution_count": 4,
   "id": "4c6d798c",
   "metadata": {},
   "outputs": [],
   "source": [
    "class Element:\n",
    "    def __init__(self, name, symbol, number):\n",
    "        self.name = name\n",
    "        self.symbol = symbol\n",
    "        self.number = number\n",
    "\n",
    "hydrogen = Element('Hydrogen', 'H', 1)"
   ]
  },
  {
   "cell_type": "markdown",
   "id": "392b3032",
   "metadata": {},
   "source": [
    "**5. Object creation from a dictionary.**"
   ]
  },
  {
   "cell_type": "code",
   "execution_count": 5,
   "id": "ff529b09",
   "metadata": {},
   "outputs": [],
   "source": [
    "el_dict = {'name': 'Hydrogen', 'symbol': 'H', 'number': 1}\n",
    "hydrogen = Element(**el_dict)"
   ]
  },
  {
   "cell_type": "markdown",
   "id": "6b36239c",
   "metadata": {},
   "source": [
    "**6. `dump()` method in `Element` class.**"
   ]
  },
  {
   "cell_type": "code",
   "execution_count": 6,
   "id": "79c23e53",
   "metadata": {},
   "outputs": [
    {
     "name": "stdout",
     "output_type": "stream",
     "text": [
      "Hydrogen H 1\n"
     ]
    }
   ],
   "source": [
    "class Element:\n",
    "    def __init__(self, name, symbol, number):\n",
    "        self.name = name\n",
    "        self.symbol = symbol\n",
    "        self.number = number\n",
    "\n",
    "    def dump(self):\n",
    "        print(self.name, self.symbol, self.number)\n",
    "\n",
    "hydrogen = Element('Hydrogen', 'H', 1)\n",
    "hydrogen.dump()"
   ]
  },
  {
   "cell_type": "markdown",
   "id": "425dff6d",
   "metadata": {},
   "source": [
    "**7. Changing `dump()` to `__str__` method.**"
   ]
  },
  {
   "cell_type": "code",
   "execution_count": 7,
   "id": "68ecca6e",
   "metadata": {},
   "outputs": [
    {
     "name": "stdout",
     "output_type": "stream",
     "text": [
      "Hydrogen, H, 1\n"
     ]
    }
   ],
   "source": [
    "class Element:\n",
    "    def __init__(self, name, symbol, number):\n",
    "        self.name = name\n",
    "        self.symbol = symbol\n",
    "        self.number = number\n",
    "\n",
    "    def __str__(self):\n",
    "        return f\"{self.name}, {self.symbol}, {self.number}\"\n",
    "\n",
    "hydrogen = Element('Hydrogen', 'H', 1)\n",
    "print(hydrogen)"
   ]
  },
  {
   "cell_type": "markdown",
   "id": "1372dd4e",
   "metadata": {},
   "source": [
    "**8. Making attributes private and creating getter properties.**"
   ]
  },
  {
   "cell_type": "code",
   "execution_count": 8,
   "id": "72b2aee8",
   "metadata": {},
   "outputs": [],
   "source": [
    "class Element:\n",
    "    def __init__(self, name, symbol, number):\n",
    "        self.__name = name\n",
    "        self.__symbol = symbol\n",
    "        self.__number = number\n",
    "\n",
    "    @property\n",
    "    def name(self):\n",
    "        return self.__name\n",
    "\n",
    "    @property\n",
    "    def symbol(self):\n",
    "        return self.__symbol\n",
    "\n",
    "    @property\n",
    "    def number(self):\n",
    "        return self.__number"
   ]
  },
  {
   "cell_type": "markdown",
   "id": "cdd76f9e",
   "metadata": {},
   "source": [
    "**9. `Bear`, `Rabbit`, and `Octothorpe` classes.**"
   ]
  },
  {
   "cell_type": "code",
   "execution_count": null,
   "id": "4be4df66",
   "metadata": {},
   "outputs": [],
   "source": [
    "class Bea:\n",
    "    def eats(self):\n",
    "        return 'berries'\n",
    "\n",
    "class Rabbit:\n",
    "    def eats(self):\n",
    "        return 'clover'\n",
    "\n",
    "class Octothorpe:\n",
    "    def eats(self):\n",
    "        return 'campers'\n",
    "\n",
    "bear = Bear()\n",
    "rabbit = Rabbit()\n",
    "octothorpe = Octothorpe()\n",
    "\n",
    "print(bear.eats())\n",
    "print(rabbit.eats())\n",
    "print(octothorpe.eats())"
   ]
  },
  {
   "cell_type": "markdown",
   "id": "060687b4",
   "metadata": {},
   "source": [
    "**10. `Laser`, `Claw`, `SmartPhone`, and `Robot` classes.**"
   ]
  },
  {
   "cell_type": "code",
   "execution_count": null,
   "id": "938ea682",
   "metadata": {},
   "outputs": [],
   "source": [
    "class Laser:\n",
    "    def does(self):\n",
    "        return 'disintegrate'\n",
    "\n",
    "class Claw:\n",
    "    def does(self):\n",
    "        return 'crush'\n",
    "\n",
    "class SmartPhone:\n",
    "    def does(self):\n",
    "        return 'ring'\n",
    "\n",
    "class Robot:\n",
    "    def __init__(self):\n",
    "        self.laser = Laser()\n",
    "        self.claw = Claw()\n",
    "        self.smartphone = SmartPhone()\n",
    "\n",
    "    def does(self):\n",
    "        return f\"Laser: {self.laser.does()}, Claw: {self.claw.does()}, SmartPhone: {self.smartphone.does()}\"\n",
    "\n",
    "robby = Robot()\n",
    "print(robby.does())"
   ]
  }
 ],
 "metadata": {
  "kernelspec": {
   "display_name": "Python 3 (ipykernel)",
   "language": "python",
   "name": "python3"
  },
  "language_info": {
   "codemirror_mode": {
    "name": "ipython",
    "version": 3
   },
   "file_extension": ".py",
   "mimetype": "text/x-python",
   "name": "python",
   "nbconvert_exporter": "python",
   "pygments_lexer": "ipython3",
   "version": "3.11.4"
  }
 },
 "nbformat": 4,
 "nbformat_minor": 5
}

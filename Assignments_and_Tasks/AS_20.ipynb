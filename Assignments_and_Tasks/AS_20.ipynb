{
 "cells": [
  {
   "cell_type": "markdown",
   "id": "e4948754",
   "metadata": {},
   "source": [
    "**1. Save `test1` to a file.**"
   ]
  },
  {
   "cell_type": "code",
   "execution_count": 1,
   "id": "3d059298",
   "metadata": {},
   "outputs": [],
   "source": [
    "test1 = 'This is a test of the emergency text system,'\n",
    "with open('test.txt', 'w') as file:\n",
    "    file.write(test1)"
   ]
  },
  {
   "cell_type": "markdown",
   "id": "b3c1f682",
   "metadata": {},
   "source": [
    "**2. Read `test.txt` into `test2`.**"
   ]
  },
  {
   "cell_type": "code",
   "execution_count": 2,
   "id": "e03db230",
   "metadata": {},
   "outputs": [
    {
     "name": "stdout",
     "output_type": "stream",
     "text": [
      "True\n"
     ]
    }
   ],
   "source": [
    "with open('test.txt', 'r') as file:\n",
    "    test2 = file.read()\n",
    "\n",
    "print(test2 == test1)  # This will print True if test1 and test2 are the same, otherwise False."
   ]
  },
  {
   "cell_type": "markdown",
   "id": "9ceebdae",
   "metadata": {},
   "source": [
    "**3. Create a `books.csv` file.**"
   ]
  },
  {
   "cell_type": "code",
   "execution_count": 3,
   "id": "859f0bbd",
   "metadata": {},
   "outputs": [],
   "source": [
    "csv_content = \"\"\"title,author,year\n",
    "The Weirdstone of Brisingamen,Alan Garner,1960\n",
    "Perdido Street Station,China Miéville,2000\n",
    "Thud!,Terry Pratchett,2005\n",
    "The Spellman Files,Lisa Lutz,2007\n",
    "Small Gods,Terry Pratchett,1992\"\"\"\n",
    "\n",
    "with open('books.csv', 'w') as file:\n",
    "    file.write(csv_content)"
   ]
  },
  {
   "cell_type": "markdown",
   "id": "f1df1aad",
   "metadata": {},
   "source": [
    "**4. Create SQLite database `books.db` and a table.**"
   ]
  },
  {
   "cell_type": "code",
   "execution_count": 4,
   "id": "36f8996c",
   "metadata": {},
   "outputs": [],
   "source": [
    "import sqlite3\n",
    "\n",
    "conn = sqlite3.connect('books.db')\n",
    "cursor = conn.cursor()\n",
    "\n",
    "cursor.execute(\"\"\"\n",
    "CREATE TABLE books (\n",
    "    title TEXT,\n",
    "    author TEXT,\n",
    "    year INTEGER\n",
    ")\n",
    "\"\"\")\n",
    "conn.commit()\n",
    "conn.close()"
   ]
  },
  {
   "cell_type": "markdown",
   "id": "6c37f5d5",
   "metadata": {},
   "source": [
    "**5. Insert data from `books.csv` into the table.**"
   ]
  },
  {
   "cell_type": "code",
   "execution_count": 5,
   "id": "d4a23927",
   "metadata": {},
   "outputs": [],
   "source": [
    "import csv\n",
    "\n",
    "conn = sqlite3.connect('books.db')\n",
    "cursor = conn.cursor()\n",
    "\n",
    "with open('books.csv', 'r') as file:\n",
    "    reader = csv.reader(file)\n",
    "    next(reader)  # Skip the header row\n",
    "    for row in reader:\n",
    "        cursor.execute(\"INSERT INTO books VALUES (?, ?, ?)\", row)\n",
    "        \n",
    "conn.commit()\n",
    "conn.close()"
   ]
  },
  {
   "cell_type": "markdown",
   "id": "622d848b",
   "metadata": {},
   "source": [
    "**6. Select and print titles in alphabetical order.**"
   ]
  },
  {
   "cell_type": "code",
   "execution_count": 6,
   "id": "9993c58c",
   "metadata": {},
   "outputs": [
    {
     "name": "stdout",
     "output_type": "stream",
     "text": [
      "Perdido Street Station\n",
      "Small Gods\n",
      "The Spellman Files\n",
      "The Weirdstone of Brisingamen\n",
      "Thud!\n"
     ]
    }
   ],
   "source": [
    "conn = sqlite3.connect('books.db')\n",
    "cursor = conn.cursor()\n",
    "\n",
    "cursor.execute(\"SELECT title FROM books ORDER BY title ASC\")\n",
    "for row in cursor.fetchall():\n",
    "    print(row[0])\n",
    "\n",
    "conn.close()"
   ]
  },
  {
   "cell_type": "markdown",
   "id": "c5292372",
   "metadata": {},
   "source": [
    "**7. Select and print all columns in order of publication.**"
   ]
  },
  {
   "cell_type": "code",
   "execution_count": 7,
   "id": "e65aaeda",
   "metadata": {},
   "outputs": [
    {
     "name": "stdout",
     "output_type": "stream",
     "text": [
      "('The Weirdstone of Brisingamen', 'Alan Garner', 1960)\n",
      "('Small Gods', 'Terry Pratchett', 1992)\n",
      "('Perdido Street Station', 'China Miéville', 2000)\n",
      "('Thud!', 'Terry Pratchett', 2005)\n",
      "('The Spellman Files', 'Lisa Lutz', 2007)\n"
     ]
    }
   ],
   "source": [
    "conn = sqlite3.connect('books.db')\n",
    "cursor = conn.cursor()\n",
    "\n",
    "cursor.execute(\"SELECT * FROM books ORDER BY year ASC\")\n",
    "for row in cursor.fetchall():\n",
    "    print(row)\n",
    "\n",
    "conn.close()"
   ]
  },
  {
   "cell_type": "markdown",
   "id": "a10a5636",
   "metadata": {},
   "source": [
    "**8. Connect using `sqlalchemy`.**"
   ]
  },
  {
   "cell_type": "code",
   "execution_count": 8,
   "id": "bc8097df",
   "metadata": {},
   "outputs": [],
   "source": [
    "from sqlalchemy import create_engine\n",
    "\n",
    "engine = create_engine('sqlite:///books.db')\n",
    "connection = engine.connect()\n",
    "# Now you can use connection to interact with the database using SQLAlchemy."
   ]
  },
  {
   "cell_type": "markdown",
   "id": "e81a3539",
   "metadata": {},
   "source": [
    "**9 & 10. Redis tasks**\n",
    "First, ensure you have Redis installed and running. Then, use pip to install the `redis` package. "
   ]
  },
  {
   "cell_type": "code",
   "execution_count": 9,
   "id": "1ba0205a",
   "metadata": {},
   "outputs": [
    {
     "name": "stdout",
     "output_type": "stream",
     "text": [
      "Defaulting to user installation because normal site-packages is not writeable\n",
      "Collecting redis\n",
      "  Obtaining dependency information for redis from https://files.pythonhosted.org/packages/df/b2/dfdc17f701f7b587f6c89c2b9b6b5978c87a8a785555efc810b064c875de/redis-5.0.0-py3-none-any.whl.metadata\n",
      "  Downloading redis-5.0.0-py3-none-any.whl.metadata (8.8 kB)\n",
      "Downloading redis-5.0.0-py3-none-any.whl (250 kB)\n",
      "   ---------------------------------------- 0.0/250.1 kB ? eta -:--:--\n",
      "   --------------------------------------- 250.1/250.1 kB 16.0 MB/s eta 0:00:00\n",
      "Installing collected packages: redis\n",
      "Successfully installed redis-5.0.0\n",
      "Note: you may need to restart the kernel to use updated packages.\n"
     ]
    }
   ],
   "source": [
    "pip install redis"
   ]
  },
  {
   "cell_type": "code",
   "execution_count": null,
   "id": "bd6a530f",
   "metadata": {},
   "outputs": [],
   "source": [
    "import redis\n",
    "\n",
    "# Connect to local Redis server\n",
    "r = redis.Redis()\n",
    "\n",
    "# Set hash values\n",
    "r.hset('test', 'count', 1)\n",
    "r.hset('test', 'name', 'Fester Bestertester')\n",
    "\n",
    "# Print all fields for test\n",
    "print(r.hgetall('test'))\n",
    "\n",
    "# Increment the count field\n",
    "r.hincrby('test', 'count', 1)\n",
    "print(r.hget('test', 'count'))\n"
   ]
  },
  {
   "cell_type": "code",
   "execution_count": null,
   "id": "23c7abb8",
   "metadata": {},
   "outputs": [],
   "source": []
  }
 ],
 "metadata": {
  "kernelspec": {
   "display_name": "Python 3 (ipykernel)",
   "language": "python",
   "name": "python3"
  },
  "language_info": {
   "codemirror_mode": {
    "name": "ipython",
    "version": 3
   },
   "file_extension": ".py",
   "mimetype": "text/x-python",
   "name": "python",
   "nbconvert_exporter": "python",
   "pygments_lexer": "ipython3",
   "version": "3.11.4"
  }
 },
 "nbformat": 4,
 "nbformat_minor": 5
}

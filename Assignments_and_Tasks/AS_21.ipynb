{
 "cells": [
  {
   "cell_type": "markdown",
   "id": "fe1a5203",
   "metadata": {},
   "source": [
    "**1. Add the current date to the text file `today.txt` as a string.**"
   ]
  },
  {
   "cell_type": "code",
   "execution_count": 1,
   "id": "a5609082",
   "metadata": {},
   "outputs": [],
   "source": [
    "from datetime import datetime\n",
    "\n",
    "today = datetime.today().strftime('%Y-%m-%d')\n",
    "with open('today.txt', 'w') as file:\n",
    "    file.write(today)"
   ]
  },
  {
   "cell_type": "markdown",
   "id": "d4294b6b",
   "metadata": {},
   "source": [
    "**2. Read the text file `today.txt` into the string `today_string`.**"
   ]
  },
  {
   "cell_type": "code",
   "execution_count": 2,
   "id": "a7089df2",
   "metadata": {},
   "outputs": [],
   "source": [
    "with open('today.txt', 'r') as file:\n",
    "    today_string = file.read()"
   ]
  },
  {
   "cell_type": "markdown",
   "id": "341f019a",
   "metadata": {},
   "source": [
    "**3. Parse the date from `today_string`.**"
   ]
  },
  {
   "cell_type": "code",
   "execution_count": 3,
   "id": "de6337d2",
   "metadata": {},
   "outputs": [],
   "source": [
    "parsed_date = datetime.strptime(today_string, '%Y-%m-%d')"
   ]
  },
  {
   "cell_type": "markdown",
   "id": "bf5476e2",
   "metadata": {},
   "source": [
    "**4. List the files in your current directory.**"
   ]
  },
  {
   "cell_type": "code",
   "execution_count": 4,
   "id": "7be6ae18",
   "metadata": {},
   "outputs": [
    {
     "name": "stdout",
     "output_type": "stream",
     "text": [
      "['.ipynb_checkpoints', 'AS10.ipynb', 'AS11.ipynb', 'Assignment_1.ipynb', 'Assignment_2.ipynb', 'Assignment_3.ipynb', 'Assignment_4.ipynb', 'Assignment_5.ipynb', 'Assignment_6.ipynb', 'Assignment_7.ipynb', 'Assignment_8.ipynb', 'Assignment_9.ipynb', 'AS_12.ipynb', 'AS_13.ipynb', 'AS_14.ipynb', 'AS_15.ipynb', 'AS_16.ipynb', 'AS_17.ipynb', 'AS_18.ipynb', 'AS_19.ipynb', 'AS_20.ipynb', 'AS_21.ipynb', 'books.csv', 'books.db', 'Programming_Assignment1.ipynb', 'Programming_Assignment2.ipynb', 'Programming_Assignment3.ipynb', 'Programming_Assignment4.ipynb', 'Programming_Assignment6.ipynb', 'Programming_Assignment7.ipynb', 'test.txt', 'today.txt']\n"
     ]
    }
   ],
   "source": [
    "import os\n",
    "\n",
    "print(os.listdir('.'))"
   ]
  },
  {
   "cell_type": "markdown",
   "id": "2bd22fbb",
   "metadata": {},
   "source": [
    "**5. Create a list of all of the files in your parent directory.**"
   ]
  },
  {
   "cell_type": "code",
   "execution_count": 5,
   "id": "9a9ff3e5",
   "metadata": {},
   "outputs": [
    {
     "name": "stdout",
     "output_type": "stream",
     "text": [
      "['.ipynb_checkpoints', '00 TEST.ipynb', '00Questions', 'Pending Assignments', 'Solutions', 'Submitted Assignments']\n"
     ]
    }
   ],
   "source": [
    "print(os.listdir('..'))"
   ]
  },
  {
   "cell_type": "markdown",
   "id": "e5a1d536",
   "metadata": {},
   "source": [
    "**6. Use multiprocessing to create three separate processes.**"
   ]
  },
  {
   "cell_type": "code",
   "execution_count": 6,
   "id": "a943dd49",
   "metadata": {},
   "outputs": [],
   "source": [
    "import multiprocessing\n",
    "import time\n",
    "import random\n",
    "\n",
    "def print_time():\n",
    "    wait_time = random.randint(1, 5)\n",
    "    time.sleep(wait_time)\n",
    "    print(datetime.now())\n",
    "\n",
    "for _ in range(3):\n",
    "    process = multiprocessing.Process(target=print_time)\n",
    "    process.start()"
   ]
  },
  {
   "cell_type": "markdown",
   "id": "6ee608a3",
   "metadata": {},
   "source": [
    "**7. Create a date object of your day of birth.**"
   ]
  },
  {
   "cell_type": "code",
   "execution_count": 8,
   "id": "4da1b301",
   "metadata": {},
   "outputs": [],
   "source": [
    "# Replace 'YYYY', 'MM', 'DD' with your birth year, month, and day respectively\n",
    "dob = datetime(year=1111, month=11, day=11)"
   ]
  },
  {
   "cell_type": "markdown",
   "id": "a567d48f",
   "metadata": {},
   "source": [
    "**8. What day of the week was your day of birth?**"
   ]
  },
  {
   "cell_type": "code",
   "execution_count": null,
   "id": "a31c5486",
   "metadata": {},
   "outputs": [],
   "source": [
    "days = [\"Monday\", \"Tuesday\", \"Wednesday\", \"Thursday\", \"Friday\", \"Saturday\", \"Sunday\"]\n",
    "print(days[dob.weekday()])"
   ]
  },
  {
   "cell_type": "markdown",
   "id": "acf12122",
   "metadata": {},
   "source": [
    "**9. When will you be (or when were you) 10,000 days old?**"
   ]
  },
  {
   "cell_type": "code",
   "execution_count": null,
   "id": "12ea032e",
   "metadata": {},
   "outputs": [],
   "source": [
    "from datetime import timedelta\n",
    "\n",
    "ten_thousand_days_old = dob + timedelta(days=10000)\n",
    "print(ten_thousand_days_old)"
   ]
  },
  {
   "cell_type": "markdown",
   "id": "4dc58982",
   "metadata": {},
   "source": [
    "Please replace `YYYY`, `MM`, and `DD` with your actual year, month, and day of birth."
   ]
  }
 ],
 "metadata": {
  "kernelspec": {
   "display_name": "Python 3 (ipykernel)",
   "language": "python",
   "name": "python3"
  },
  "language_info": {
   "codemirror_mode": {
    "name": "ipython",
    "version": 3
   },
   "file_extension": ".py",
   "mimetype": "text/x-python",
   "name": "python",
   "nbconvert_exporter": "python",
   "pygments_lexer": "ipython3",
   "version": "3.11.4"
  }
 },
 "nbformat": 4,
 "nbformat_minor": 5
}

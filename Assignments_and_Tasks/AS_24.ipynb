{
 "cells": [
  {
   "cell_type": "markdown",
   "id": "d2c7677a",
   "metadata": {},
   "source": [
    "1. **Relationship between `def` statements and `lambda` expressions:**\n",
    "   - Both `def` and `lambda` are ways to create functions in Python. The `def` keyword is used to define a standard function, while `lambda` creates anonymous functions in a more concise form.A function defined with `def` can have a name and can be referenced later, whereas a `lambda` function is nameless (unless assigned to a variable).\n",
    "   - While `def` functions can have multiple expressions and statements, `lambda` functions are limited to a single expression."
   ]
  },
  {
   "cell_type": "markdown",
   "id": "f7007a9d",
   "metadata": {},
   "source": [
    "2. **Benefits of `lambda`:**\n",
    "   - Conciseness: `lambda` provides a compact way to declare small functions.\n",
    "   - Inline usage: It's often used for short-term purposes, like within higher-order functions such as `map()`, `filter()`, or `sorted()`.\n",
    "   - No naming required: Handy for situations where the function is used only once and a function name isn’t explicitly needed."
   ]
  },
  {
   "cell_type": "markdown",
   "id": "4e2f3bf8",
   "metadata": {},
   "source": [
    "3. **Compare and contrast `map`, `filter`, and `reduce`:**\n",
    "   - **map**: Takes a function and an iterable. It applies the function to each item in the iterable and returns a new iterable (specifically a map object) with the results. \n",
    "   - **filter**: Takes a function and an iterable. It applies the function to each item in the iterable and returns only those items for which the function returns `True`. \n",
    "   - **reduce**: Not a built-in function in Python 3 (it's in the `functools` module). It successively applies the function to the items in the iterable, reducing the iterable to a single accumulated result. For example, using `reduce` with a function that adds two arguments would sum up an iterable.\n",
    "   - In essence, `map` transforms, `filter` selects, and `reduce` aggregates."
   ]
  },
  {
   "cell_type": "markdown",
   "id": "89f1dd70",
   "metadata": {},
   "source": [
    "4. **Function annotations:**\n",
    "   - Function annotations provide a way to attach metadata or information to function parameters and return values.\n",
    "   - They're denoted by a colon `:` after a parameter in the function definition followed by an expression (e.g., `def func(x: int) -> str:`).\n",
    "   - They don't impact the function's behavior but can be accessed via the function’s `__annotations__` attribute.\n",
    "   - They're often used for type hints, but the syntax doesn't enforce type checking."
   ]
  },
  {
   "cell_type": "markdown",
   "id": "4d9ddf6d",
   "metadata": {},
   "source": [
    "5. **Recursive functions:**\n",
    "   - A recursive function is a function that calls itself in order to solve some problem.\n",
    "   - A base case is essential in a recursive function to ensure it doesn't result in an infinite loop. The recursive calls should lead to the base case eventually.\n",
    "   - Recursive functions can be powerful but can also lead to high memory usage or stack overflows if not carefully managed.\n",
    "   - They're often used for problems that have recursive characteristics, like computing factorials, tree traversals, or solving the Towers of Hanoi."
   ]
  },
  {
   "cell_type": "markdown",
   "id": "3bd51705",
   "metadata": {},
   "source": [
    "6. **General design guidelines for coding functions:**\n",
    "   - **Single Responsibility Principle**: Each function should have one clear task or responsibility.\n",
    "   - **Descriptive naming**: Function names should be verbs and describe what the function does.\n",
    "   - **Short and focused**: Functions should be concise and not excessively long.\n",
    "   - **Avoid side effects**: A function should not produce unexpected side effects.\n",
    "   - **Document**: Use docstrings to explain the purpose, parameters, and return values of a function.\n",
    "   - **Parameter validation**: Ensure that the input to the function is valid."
   ]
  },
  {
   "cell_type": "markdown",
   "id": "16efeecb",
   "metadata": {},
   "source": [
    "7. **Ways functions can communicate results to a caller:**\n",
    "   - **Return statement**: Directly returning a value or multiple values (as a tuple, list, dictionary, etc.)\n",
    "   - **Output parameters**: Modifying mutable objects passed as arguments, like lists or dictionaries.\n",
    "   - **Exceptions**: Functions can raise exceptions to signal abnormal situations, which the caller can catch and handle.\n",
    "   - **Global variables**: Though not recommended, functions can modify global variables to convey results (this is generally considered bad practice due to potential side effects and reduced clarity).\n",
    "   "
   ]
  },
  {
   "cell_type": "code",
   "execution_count": null,
   "id": "0d8e8ca1",
   "metadata": {},
   "outputs": [],
   "source": []
  }
 ],
 "metadata": {
  "kernelspec": {
   "display_name": "Python 3 (ipykernel)",
   "language": "python",
   "name": "python3"
  },
  "language_info": {
   "codemirror_mode": {
    "name": "ipython",
    "version": 3
   },
   "file_extension": ".py",
   "mimetype": "text/x-python",
   "name": "python",
   "nbconvert_exporter": "python",
   "pygments_lexer": "ipython3",
   "version": "3.11.4"
  }
 },
 "nbformat": 4,
 "nbformat_minor": 5
}

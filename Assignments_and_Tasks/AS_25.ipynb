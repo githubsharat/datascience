{
 "cells": [
  {
   "cell_type": "markdown",
   "id": "189a7125",
   "metadata": {},
   "source": [
    "1. **Difference between square brackets and parentheses for comprehensions:**\n",
    "   - Square brackets produce a list comprehension, immediately returning a list. Parentheses create a generator expression, yielding items on-the-fly."
   ]
  },
  {
   "cell_type": "markdown",
   "id": "d7a674d7",
   "metadata": {},
   "source": [
    "2. **Relationship between generators and iterators:**\n",
    "   - Generators are a type of iterable producing values on-the-fly; all generators are iterators but not vice-versa."
   ]
  },
  {
   "cell_type": "markdown",
   "id": "b5209876",
   "metadata": {},
   "source": [
    "3. **Signs a function is a generator function:**\n",
    "   - The function contains the `yield` keyword and returns a generator object when called."
   ]
  },
  {
   "cell_type": "markdown",
   "id": "ef6dbeb2",
   "metadata": {},
   "source": [
    "4. **Purpose of a `yield` statement:**\n",
    "   - `yield` pauses a function, returns a value, and allows resumption from the last state."
   ]
  },
  {
   "cell_type": "markdown",
   "id": "785e76ba",
   "metadata": {},
   "source": [
    "5. **Relationship between `map` calls and list comprehensions:**\n",
    "   - Both generate lists; `map` applies a function to items, while list comprehensions offer more flexibility with integrated conditionals."
   ]
  }
 ],
 "metadata": {
  "kernelspec": {
   "display_name": "Python 3 (ipykernel)",
   "language": "python",
   "name": "python3"
  },
  "language_info": {
   "codemirror_mode": {
    "name": "ipython",
    "version": 3
   },
   "file_extension": ".py",
   "mimetype": "text/x-python",
   "name": "python",
   "nbconvert_exporter": "python",
   "pygments_lexer": "ipython3",
   "version": "3.11.4"
  }
 },
 "nbformat": 4,
 "nbformat_minor": 5
}

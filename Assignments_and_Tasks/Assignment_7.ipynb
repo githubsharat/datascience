{
 "cells": [
  {
   "cell_type": "markdown",
   "id": "51fb7af5",
   "metadata": {},
   "source": [
    "1.\tWhat is the name of the feature responsible for generating Regex objects?  \n",
    "‘re’ module    "
   ]
  },
  {
   "cell_type": "markdown",
   "id": "13ead852",
   "metadata": {},
   "source": [
    "2. Why do raw strings often appear in Regex objects?    \n",
    "     \n",
    "Raw strings in Regex prevent backslashes from being treated as escape characters\n",
    "   "
   ]
  },
  {
   "cell_type": "markdown",
   "id": "bb2b2daa",
   "metadata": {},
   "source": [
    "3. What is the return value of the search() method?     \n",
    "    \n",
    "If there is a match, search() returns a Match object; otherwise, it returns None.     \n",
    " "
   ]
  },
  {
   "cell_type": "markdown",
   "id": "9eefe4a5",
   "metadata": {},
   "source": [
    "4. From a Match item, how do you get the actual strings that match the pattern?    \n",
    "    \n",
    "Use the group() method of the Match object.   "
   ]
  },
  {
   "cell_type": "markdown",
   "id": "dee03c5b",
   "metadata": {},
   "source": [
    "5. In the regex which created from the r'(\\d\\d\\d)-(\\d\\d\\d-\\d\\d\\d\\d)', what does group zero cover? Group 2? Group 1?   \n",
    "    \n",
    "Group 0 is the entire match. Group 1 covers the first set of parentheses (\\d\\d\\d), and Group 2 covers the second (\\d\\d\\d-\\d\\d\\d\\d)."
   ]
  },
  {
   "cell_type": "markdown",
   "id": "4941687d",
   "metadata": {},
   "source": [
    "6. In standard expression syntax, parentheses and intervals have distinct meanings. How can you tell a regex that you want it to fit real parentheses and periods?   \n",
    "       \n",
    "To match real parentheses and periods, escape them using a backslash: \\(, \\), and \\..    \n",
    "    "
   ]
  },
  {
   "cell_type": "markdown",
   "id": "4d2ba701",
   "metadata": {},
   "source": [
    "7. The findall() method returns a string list or a list of string tuples. What causes it to return one of the two options?\n",
    "\n",
    "If the regex has no groups, findall() returns a list of strings. If the regex has groups, it returns a list of tuples."
   ]
  },
  {
   "cell_type": "markdown",
   "id": "f0453997",
   "metadata": {},
   "source": [
    "8. In standard expressions, what does the | character mean?\n",
    "\n",
    "“or”"
   ]
  },
  {
   "cell_type": "markdown",
   "id": "91048e62",
   "metadata": {},
   "source": [
    "9. In regular expressions, what does the character stand for?\n",
    "\n",
    "Question incomplete"
   ]
  },
  {
   "cell_type": "markdown",
   "id": "acb23350",
   "metadata": {},
   "source": [
    "10.In regular expressions, what is the difference between the + and * characters?\n",
    "\n",
    "+ matches one or more of the preceding group, while * matches zero or more of the preceding group."
   ]
  },
  {
   "cell_type": "markdown",
   "id": "7016cd81",
   "metadata": {},
   "source": [
    "11. What is the difference between {4} and {4,5} in regular expression?\n",
    "\n",
    "{4} matches exactly four instances of the preceding group. {4,5} matches between four and five instances"
   ]
  },
  {
   "cell_type": "markdown",
   "id": "7c3e7d4e",
   "metadata": {},
   "source": [
    "12. What do you mean by the \\d, \\w, and \\s shorthand character classes signify in regular expressions?\n",
    "\n",
    "\\d matches any numeric digit, \\w matches any word character (alphanumeric & underscore), and \\s matches any whitespace character."
   ]
  },
  {
   "cell_type": "markdown",
   "id": "fbd9d22b",
   "metadata": {},
   "source": [
    "13. What do means by \\D, \\W, and \\S shorthand character classes signify in regular expressions?\n",
    "\n",
    "\\D matches any character that isn't a numeric digit, \\W matches any non-word character, and \\S matches any non-whitespace character."
   ]
  },
  {
   "cell_type": "markdown",
   "id": "518a6046",
   "metadata": {},
   "source": [
    "14. What is the difference between .*? and .*?\n",
    ".*? is a non-greedy match and will match the shortest possible string. .* is greedy and will match the longest possible string."
   ]
  },
  {
   "cell_type": "markdown",
   "id": "3f211596",
   "metadata": {},
   "source": [
    "15. What is the syntax for matching both numbers and lowercase letters with a character class?\n",
    "\n",
    "[a-z0-9]."
   ]
  },
  {
   "cell_type": "markdown",
   "id": "9d87076f",
   "metadata": {},
   "source": [
    "16. What is the procedure for making a normal expression in regax case insensitive?\n",
    "\n",
    "Use the re.IGNORECASE or re.I flag when compiling the regex."
   ]
  },
  {
   "cell_type": "markdown",
   "id": "c5db1a8b",
   "metadata": {},
   "source": [
    "17. What does the . character normally match? What does it match if re.DOTALL is passed as 2nd argument in re.compile()?\n",
    "\n",
    "The . character usually matches any character except a newline. If re.DOTALL is passed, it matches any character including a newline."
   ]
  },
  {
   "cell_type": "markdown",
   "id": "88f655af",
   "metadata": {},
   "source": [
    "18. If numReg = re.compile(r'\\d+'), what will numRegex.sub('X', '11 drummers, 10 pipers, five rings, 4 hen') return?\n",
    "\n",
    "It will return 'X drummers, X pipers, five rings, X hen'."
   ]
  },
  {
   "cell_type": "markdown",
   "id": "752faeec",
   "metadata": {},
   "source": [
    "19. What does passing re.VERBOSE as the 2nd argument to re.compile() allow to do?\n",
    "\n",
    "Passing re.VERBOSE allows you to add whitespace and comments within the regex for better readability."
   ]
  },
  {
   "cell_type": "markdown",
   "id": "6c12fdb3",
   "metadata": {},
   "source": [
    "20. How would you write a regex that match a number with comma for every three digits? It must match the given following:\n",
    "'42'\n",
    "'1,234'\n",
    "'6,368,745'\n",
    "but not the following:\n",
    "'12,34,567' (which has only two digits between the commas)\n",
    "'1234' (which lacks commas)\n",
    "\n",
    "^(?:\\d{1,3}(?:(?:,\\d{3})*\\d*)?)$"
   ]
  },
  {
   "cell_type": "markdown",
   "id": "e161d1b0",
   "metadata": {},
   "source": [
    "21. How would you write a regex that matches the full name of someone whose last name is Watanabe? You can assume that the first name that comes before it will always be one word that begins with a capital letter. The regex must match the following:\n",
    "'Haruto Watanabe'\n",
    "'Alice Watanabe'\n",
    "'RoboCop Watanabe'\n",
    "but not the following:\n",
    "'haruto Watanabe' (where the first name is not capitalized)\n",
    "'Mr. Watanabe' (where the preceding word has a nonletter character)\n",
    "'Watanabe' (which has no first name)\n",
    "'Haruto watanabe' (where Watanabe is not capitalized)\n",
    "\n",
    "^[A-Z][a-zA-Z]*\\sWatanabe$"
   ]
  },
  {
   "cell_type": "markdown",
   "id": "125d31ee",
   "metadata": {},
   "source": [
    "22. How would you write a regex that matches a sentence where the first word is either Alice, Bob, or Carol; the second word is either eats, pets, or throws; the third word is apples, cats, or baseballs; and the sentence ends with a period? This regex should be case-insensitive. It must match the following:\n",
    "\n",
    "'Alice eats apples.'\n",
    "'Bob pets cats.'\n",
    "'Carol throws baseballs.'\n",
    "'Alice throws Apples.'\n",
    "'BOB EATS CATS.'\n",
    "but not the following:\n",
    "'RoboCop eats apples.'\n",
    "'ALICE THROWS FOOTBALLS.'\n",
    "'Carol eats 7 cats.'\n",
    "\n",
    "^(?i)(Alice|Bob|Carol)\\s(eats|pets|throws)\\s(apples|cats|baseballs)\\.$"
   ]
  }
 ],
 "metadata": {
  "kernelspec": {
   "display_name": "Python 3 (ipykernel)",
   "language": "python",
   "name": "python3"
  },
  "language_info": {
   "codemirror_mode": {
    "name": "ipython",
    "version": 3
   },
   "file_extension": ".py",
   "mimetype": "text/x-python",
   "name": "python",
   "nbconvert_exporter": "python",
   "pygments_lexer": "ipython3",
   "version": "3.11.4"
  }
 },
 "nbformat": 4,
 "nbformat_minor": 5
}

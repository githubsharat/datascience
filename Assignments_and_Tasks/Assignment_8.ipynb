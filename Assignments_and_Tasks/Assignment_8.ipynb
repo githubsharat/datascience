{
 "cells": [
  {
   "cell_type": "markdown",
   "id": "c5c0ee6d",
   "metadata": {},
   "source": [
    "1. Is the Python Standard Library included with PyInputPlus?\n",
    "\n",
    "No, the Python Standard Library does not include PyInputPlus. You have to install it separately using pip."
   ]
  },
  {
   "cell_type": "markdown",
   "id": "823e9d71",
   "metadata": {},
   "source": [
    "2. Why is PyInputPlus commonly imported with import pyinputplus as pypi?\n",
    "\n",
    "Importing PyInputPlus as pypi is a convention to shorten its name and make it easier to type in the code. "
   ]
  },
  {
   "cell_type": "markdown",
   "id": "9c49853b",
   "metadata": {},
   "source": [
    "3. How do you distinguish between inputInt() and inputFloat()?\n",
    "\n",
    "inputInt() ensures the user enters an integer, while inputFloat() ensures the user enters a floating-point number."
   ]
  },
  {
   "cell_type": "markdown",
   "id": "2337f2d7",
   "metadata": {},
   "source": [
    "4. Using PyInputPlus, how do you ensure that the user enters a whole number between 0 and 99?\n",
    "\n",
    "You can use inputInt(min=0, max=99)."
   ]
  },
  {
   "cell_type": "markdown",
   "id": "b596dcdc",
   "metadata": {},
   "source": [
    "5. What is transferred to the keyword arguments allowRegexes and blockRegexes?\n",
    "\n",
    "allowRegexes and blockRegexes accept lists of regular expression strings. allowRegexes allows inputs that match any of the provided regex patterns, while blockRegexes blocks any inputs that match any of the provided regex patterns."
   ]
  },
  {
   "cell_type": "markdown",
   "id": "06f234c1",
   "metadata": {},
   "source": [
    "6. If a blank input is entered three times, what does inputStr(limit=3) do?\n",
    "\n",
    "inputStr(limit=3) will raise a RetryLimitException if the user fails to provide valid input after three attempts."
   ]
  },
  {
   "cell_type": "markdown",
   "id": "c4096b6b",
   "metadata": {},
   "source": [
    "7. If blank input is entered three times, what does inputStr(limit=3, default='hello') do?\n",
    "\n",
    "If the user provides a blank input three times, inputStr(limit=3, default='hello') will return the string 'hello'."
   ]
  }
 ],
 "metadata": {
  "kernelspec": {
   "display_name": "Python 3 (ipykernel)",
   "language": "python",
   "name": "python3"
  },
  "language_info": {
   "codemirror_mode": {
    "name": "ipython",
    "version": 3
   },
   "file_extension": ".py",
   "mimetype": "text/x-python",
   "name": "python",
   "nbconvert_exporter": "python",
   "pygments_lexer": "ipython3",
   "version": "3.11.4"
  }
 },
 "nbformat": 4,
 "nbformat_minor": 5
}

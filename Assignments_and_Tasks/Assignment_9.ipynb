{
 "cells": [
  {
   "cell_type": "markdown",
   "id": "38ab93aa",
   "metadata": {},
   "source": [
    "1. To what does a relative path refer?\n",
    "\n",
    "A relative path refers to a location that is derived from the current working directory."
   ]
  },
  {
   "cell_type": "markdown",
   "id": "0a884e6e",
   "metadata": {},
   "source": [
    "2. What does an absolute path start with your operating system?\n",
    "\n",
    "On Windows, an absolute path starts with a drive letter (e.g., `C:\\`). On UNIX-like systems, such as Linux and macOS, it starts with a forward slash (`/`)."
   ]
  },
  {
   "cell_type": "markdown",
   "id": "64ededcf",
   "metadata": {},
   "source": [
    "3. What do the functions os.getcwd() and os.chdir() do?\n",
    "\n",
    "`os.getcwd()` returns the current working directory as a string. `os.chdir()` changes the current working directory to the specified path."
   ]
  },
  {
   "cell_type": "markdown",
   "id": "845ae681",
   "metadata": {},
   "source": [
    "4. What are the . and .. folders?\n",
    "\n",
    "The `.` folder refers to the current directory, while `..` refers to the parent directory."
   ]
  },
  {
   "cell_type": "markdown",
   "id": "d435adf6",
   "metadata": {},
   "source": [
    "5. In C:\\bacon\\eggs\\spam.txt, which part is the dir name, and which part is the base name?\n",
    "\n",
    "    The dir name is `C:\\bacon\\eggs` and the base name is `spam.txt`."
   ]
  },
  {
   "cell_type": "markdown",
   "id": "9577e3f9",
   "metadata": {},
   "source": [
    "6. What are the three “mode” arguments that can be passed to the open() function?\n",
    "\n",
    "The three \"mode\" arguments are:\n",
    "   - `'r'`: Read mode\n",
    "   - `'w'`: Write mode\n",
    "   - `'a'`: Append mode"
   ]
  },
  {
   "cell_type": "markdown",
   "id": "61f22645",
   "metadata": {},
   "source": [
    "7. What happens if an existing file is opened in write mode?\n",
    "\n",
    "If an existing file is opened in write mode, it will be overwritten. If the file does not exist, a new one will be created."
   ]
  },
  {
   "cell_type": "markdown",
   "id": "659140cc",
   "metadata": {},
   "source": [
    "8. How do you tell the difference between read() and readlines()?\n",
    "\n",
    "The `read()` method reads the entire content of a file as a single string. The `readlines()` method reads the file line by line and returns a list of strings, where each string is a line from the file."
   ]
  },
  {
   "cell_type": "markdown",
   "id": "e7f6b195",
   "metadata": {},
   "source": [
    "9. What data structure does a shelf value resemble?\n",
    "\n",
    "A shelf value resembles a dictionary. It has keys and values and supports similar methods to dictionaries."
   ]
  }
 ],
 "metadata": {
  "kernelspec": {
   "display_name": "Python 3 (ipykernel)",
   "language": "python",
   "name": "python3"
  },
  "language_info": {
   "codemirror_mode": {
    "name": "ipython",
    "version": 3
   },
   "file_extension": ".py",
   "mimetype": "text/x-python",
   "name": "python",
   "nbconvert_exporter": "python",
   "pygments_lexer": "ipython3",
   "version": "3.11.4"
  }
 },
 "nbformat": 4,
 "nbformat_minor": 5
}

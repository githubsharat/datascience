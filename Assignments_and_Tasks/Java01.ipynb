{
 "cells": [
  {
   "cell_type": "markdown",
   "id": "ac53bfe9",
   "metadata": {},
   "source": [
    "1. WAP to reverse a String.\n",
    "Input: “iNeuron”\n",
    "Output: “norueNi”"
   ]
  },
  {
   "cell_type": "code",
   "execution_count": 2,
   "id": "0bca9bd5",
   "metadata": {},
   "outputs": [],
   "source": [
    "public class Main {\n",
    "    public static void main(String[] args) {\n",
    "        String input = \"iNeuron\";\n",
    "        String output = new StringBuilder(input).reverse().toString();\n",
    "        System.out.println(output); // Output: \"norueNi\"\n",
    "    }\n",
    "}"
   ]
  },
  {
   "cell_type": "markdown",
   "id": "f1d14cf8",
   "metadata": {},
   "source": [
    "2. WAP to reverse a sentence while preserving the position.\n",
    "Input : “Think Twice”\n",
    "Output : “kniht eciwt”"
   ]
  },
  {
   "cell_type": "code",
   "execution_count": null,
   "id": "f84f708b",
   "metadata": {},
   "outputs": [],
   "source": [
    "public class Main {\n",
    "    public static void main(String[] args) {\n",
    "        String input = \"Think Twice\";\n",
    "        String[] words = input.split(\" \");\n",
    "        StringBuilder output = new StringBuilder();\n",
    "        for (String word : words) {\n",
    "            output.append(new StringBuilder(word).reverse().toString()).append(\" \");\n",
    "        }\n",
    "        System.out.println(output.toString().trim()); // Output: \"kniht eciwT\"\n",
    "    }\n",
    "}\n"
   ]
  },
  {
   "cell_type": "markdown",
   "id": "2ef32294",
   "metadata": {},
   "source": [
    "3. WAP to check if the String is Anagram or not.    "
   ]
  },
  {
   "cell_type": "code",
   "execution_count": null,
   "id": "033c51c0",
   "metadata": {},
   "outputs": [],
   "source": [
    "import java.util.Arrays;\n",
    "\n",
    "public class Main {\n",
    "    public static void main(String[] args) {\n",
    "        String str1 = \"listen\";\n",
    "        String str2 = \"silent\";\n",
    "        System.out.println(areAnagrams(str1, str2)); // Output: true\n",
    "    }\n",
    "\n",
    "    public static boolean areAnagrams(String str1, String str2) {\n",
    "        char[] arr1 = str1.toCharArray();\n",
    "        char[] arr2 = str2.toCharArray();\n",
    "        Arrays.sort(arr1);\n",
    "        Arrays.sort(arr2);\n",
    "        return Arrays.equals(arr1, arr2);\n",
    "    }\n",
    "}\n"
   ]
  },
  {
   "cell_type": "markdown",
   "id": "226c80d7",
   "metadata": {},
   "source": [
    "4. WAP to check if the String is a Pangram or not.\n",
    "    "
   ]
  },
  {
   "cell_type": "code",
   "execution_count": null,
   "id": "fa881dcd",
   "metadata": {},
   "outputs": [],
   "source": [
    "public class Main {\n",
    "    public static void main(String[] args) {\n",
    "        String input = \"The quick brown fox jumps over the lazy dog\";\n",
    "        System.out.println(isPangram(input)); // Output: true\n",
    "    }\n",
    "\n",
    "    public static boolean isPangram(String input) {\n",
    "        for (char i = 'a'; i <= 'z'; i++) {\n",
    "            if (input.toLowerCase().indexOf(i) < 0) {\n",
    "                return false;\n",
    "            }\n",
    "        }\n",
    "        return true;\n",
    "    }\n",
    "}\n"
   ]
  },
  {
   "cell_type": "markdown",
   "id": "341a5308",
   "metadata": {},
   "source": [
    "5. WAP to print repeatedly occurring characters in the given String.\n",
    "    "
   ]
  },
  {
   "cell_type": "code",
   "execution_count": null,
   "id": "a0e23457",
   "metadata": {},
   "outputs": [],
   "source": [
    "import java.util.HashMap;\n",
    "import java.util.Map;\n",
    "\n",
    "public class Main {\n",
    "    public static void main(String[] args) {\n",
    "        String input = \"helloo\";\n",
    "        printRepeatedCharacters(input);\n",
    "    }\n",
    "\n",
    "    public static void printRepeatedCharacters(String input) {\n",
    "        Map<Character, Integer> charCount = new HashMap<>();\n",
    "        for (char ch : input.toCharArray()) {\n",
    "            charCount.put(ch, charCount.getOrDefault(ch, 0) + 1);\n",
    "        }\n",
    "        for (Map.Entry<Character, Integer> entry : charCount.entrySet()) {\n",
    "            if (entry.getValue() > 1) {\n",
    "                System.out.println(entry.getKey() + \": \" + entry.getValue());\n",
    "            }\n",
    "        }\n",
    "    }\n",
    "}\n"
   ]
  },
  {
   "cell_type": "markdown",
   "id": "e2406646",
   "metadata": {},
   "source": [
    "6. WAP to sort a String Alphabetically.\n",
    "    "
   ]
  },
  {
   "cell_type": "code",
   "execution_count": null,
   "id": "3e1d8b7a",
   "metadata": {},
   "outputs": [],
   "source": [
    "import java.util.Arrays;\n",
    "\n",
    "public class Main {\n",
    "    public static void main(String[] args) {\n",
    "        String input = \"iNeuron\";\n",
    "        String output = sortStringAlphabetically(input);\n",
    "        System.out.println(output); // Output: \"Neinoru\"\n",
    "    }\n",
    "\n",
    "    public static String sortStringAlphabetically(String input) {\n",
    "        char[] chars = input.toCharArray();\n",
    "        Arrays.sort(chars);\n",
    "        return new String(chars);\n",
    "    }\n",
    "}\n"
   ]
  },
  {
   "cell_type": "markdown",
   "id": "4400aaaf",
   "metadata": {},
   "source": [
    "7. WAP to count the number of Vowels and Consonants of a String value.\n",
    "    "
   ]
  },
  {
   "cell_type": "code",
   "execution_count": null,
   "id": "f2253ab9",
   "metadata": {},
   "outputs": [],
   "source": [
    "public class Main {\n",
    "    public static void main(String[] args) {\n",
    "        String input = \"iNeuron\";\n",
    "        countVowelsAndConsonants(input);\n",
    "    }\n",
    "\n",
    "    public static void countVowelsAndConsonants(String input) {\n",
    "        int vowelCount = 0, consonantCount = 0;\n",
    "        for (char ch : input.toLowerCase().toCharArray()) {\n",
    "            if (ch >= 'a' && ch <= 'z') {\n",
    "                if (ch == 'a' || ch == 'e' || ch == 'i' || ch == 'o' || ch == 'u') {\n",
    "                    vowelCount++;\n",
    "                } else {\n",
    "                    consonantCount++;\n",
    "                }\n",
    "            }\n",
    "        }\n",
    "        System.out.println(\"Vowels: \" + vowelCount);\n",
    "        System.out.println(\"Consonants: \" + consonantCount);\n",
    "    }\n",
    "}\n"
   ]
  },
  {
   "cell_type": "markdown",
   "id": "d238fdad",
   "metadata": {},
   "source": [
    "8. WAP to count number of special characters."
   ]
  },
  {
   "cell_type": "code",
   "execution_count": null,
   "id": "a2cabd5c",
   "metadata": {},
   "outputs": [],
   "source": [
    "public class Main {\n",
    "    public static void main(String[] args) {\n",
    "        String input = \"Hello!@#\";\n",
    "        System.out.println(countSpecialCharacters(input)); // Output: 3\n",
    "    }\n",
    "\n",
    "    public static int countSpecialCharacters(String input) {\n",
    "        String specialCharacters = \"!@#$%^&*()-=_+[]{}|;:'\\\",.<>?/\";\n",
    "        int count = 0;\n",
    "        for (char ch : input.toCharArray()) {\n",
    "            if (specialCharacters.indexOf(ch) >= 0) {\n",
    "                count++;\n",
    "            }\n",
    "        }\n",
    "        return count;\n",
    "    }\n",
    "}\n"
   ]
  }
 ],
 "metadata": {
  "kernelspec": {
   "display_name": "Java",
   "language": "java",
   "name": "java"
  },
  "language_info": {
   "codemirror_mode": "java",
   "file_extension": ".jshell",
   "mimetype": "text/x-java-source",
   "name": "Java",
   "pygments_lexer": "java",
   "version": "17.0.8+9-LTS-211"
  }
 },
 "nbformat": 4,
 "nbformat_minor": 5
}

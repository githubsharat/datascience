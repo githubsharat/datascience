{
 "cells": [
  {
   "cell_type": "markdown",
   "id": "8728bd2e",
   "metadata": {},
   "source": [
    "### Code for question 1"
   ]
  },
  {
   "cell_type": "code",
   "execution_count": 1,
   "id": "657dde0c",
   "metadata": {},
   "outputs": [],
   "source": [
    "public class Ineuron {\n",
    "    public static void main(String[] args) {\n",
    "        String word = \"INEURON\";\n",
    "        int len = word.length();\n",
    "        \n",
    "        for (int i = 0; i < len; i++) {\n",
    "            for (int j = 0; j <= i; j++) {\n",
    "                System.out.print(word.charAt(j) + \" \");\n",
    "            }\n",
    "            System.out.println();\n",
    "        }\n",
    "        \n",
    "        for (int i = len - 2; i >= 0; i--) {\n",
    "            for (int j = 0; j <= i; j++) {\n",
    "                System.out.print(word.charAt(j) + \" \");\n",
    "            }\n",
    "            System.out.println();\n",
    "        }\n",
    "    }\n",
    "}\n"
   ]
  },
  {
   "cell_type": "markdown",
   "id": "67bc644e",
   "metadata": {},
   "source": [
    "### Code for question 2"
   ]
  },
  {
   "cell_type": "code",
   "execution_count": 2,
   "id": "a6a95168",
   "metadata": {},
   "outputs": [],
   "source": [
    "public class Numbers {\n",
    "    public static void main(String[] args) {\n",
    "        for (int i = 1; i <= 4; i++) {\n",
    "            for (int j = 0; j < 4; j++) {\n",
    "                System.out.print(i + \" \");\n",
    "            }\n",
    "            System.out.println();\n",
    "        }\n",
    "    }\n",
    "}\n"
   ]
  },
  {
   "cell_type": "markdown",
   "id": "4eeeb370",
   "metadata": {},
   "source": [
    "### Code for question 3"
   ]
  },
  {
   "cell_type": "code",
   "execution_count": 3,
   "id": "f48d02d5",
   "metadata": {},
   "outputs": [],
   "source": [
    "public class PatternOne {\n",
    "    public static void main(String[] args) {\n",
    "        System.out.println(\"**************\");\n",
    "\n",
    "        int leftStars = 6;\n",
    "        int rightStars = 7;\n",
    "\n",
    "        for (int i = 1; i <= 6; i++) {\n",
    "            for (int j = 0; j < leftStars; j++) {\n",
    "                System.out.print(\"*\");\n",
    "            }\n",
    "\n",
    "            for (int j = 0; j < 14 - leftStars - rightStars; j++) {\n",
    "                System.out.print(\" \");\n",
    "            }\n",
    "\n",
    "            for (int j = 0; j < rightStars; j++) {\n",
    "                System.out.print(\"*\");\n",
    "            }\n",
    "\n",
    "            System.out.println();\n",
    "            leftStars--;\n",
    "            rightStars--;\n",
    "        }\n",
    "\n",
    "        for (int i = 0; i < 7; i++) {\n",
    "            System.out.print(\"*\");\n",
    "            for (int j = 0; j < 12; j++) {\n",
    "                System.out.print(\" \");\n",
    "            }\n",
    "            System.out.println(\"*\");\n",
    "        }\n",
    "\n",
    "        System.out.println(\"**************\");\n",
    "    }\n",
    "}\n"
   ]
  },
  {
   "cell_type": "markdown",
   "id": "ffeca805",
   "metadata": {},
   "source": [
    "### Code for question 4"
   ]
  },
  {
   "cell_type": "code",
   "execution_count": 4,
   "id": "f0e443ab",
   "metadata": {},
   "outputs": [],
   "source": [
    "public class PatternTwo {\n",
    "    public static void main(String[] args) {\n",
    "        int n = 14; // The width of the pattern\n",
    "\n",
    "        for (int i = 1; i <= 7; i++) {\n",
    "            for (int j = 0; j < i; j++) {\n",
    "                System.out.print(\"*\");\n",
    "            }\n",
    "\n",
    "            for (int j = 0; j < n - 2 * i; j++) {\n",
    "                System.out.print(\" \");\n",
    "            }\n",
    "\n",
    "            for (int j = 0; j < i; j++) {\n",
    "                System.out.print(\"*\");\n",
    "            }\n",
    "            \n",
    "            System.out.println();\n",
    "        }\n",
    "\n",
    "        for (int i = 0; i < 2; i++) {\n",
    "            for (int j = 0; j < n; j++) {\n",
    "                System.out.print(\"*\");\n",
    "            }\n",
    "            System.out.println();\n",
    "        }\n",
    "    }\n",
    "}\n"
   ]
  },
  {
   "cell_type": "markdown",
   "id": "a423dc2f",
   "metadata": {},
   "source": [
    "### Code for question 5"
   ]
  },
  {
   "cell_type": "code",
   "execution_count": 5,
   "id": "74ec7a03",
   "metadata": {},
   "outputs": [],
   "source": [
    "public class PatternThree {\n",
    "    public static void main(String[] args) {\n",
    "        int n = 14; // The width of the pattern\n",
    "\n",
    "        // First Line\n",
    "        for (int i = 0; i < n; i++) {\n",
    "            System.out.print(\"*\");\n",
    "        }\n",
    "        System.out.println();\n",
    "\n",
    "        // Upper Triangle\n",
    "        for (int i = 0; i < 6; i++) {\n",
    "            for (int j = 6; j > i; j--) {\n",
    "                System.out.print(\"*\");\n",
    "            }\n",
    "            System.out.println();\n",
    "        }\n",
    "\n",
    "        // Lower Triangle\n",
    "        for (int i = 1; i <= 6; i++) {\n",
    "            for (int j = 0; j <= i; j++) {\n",
    "                System.out.print(\"*\");\n",
    "            }\n",
    "            System.out.println();\n",
    "        }\n",
    "\n",
    "        // Last Line\n",
    "        for (int i = 0; i < n; i++) {\n",
    "            System.out.print(\"*\");\n",
    "        }\n",
    "        System.out.println();\n",
    "    }\n",
    "}\n"
   ]
  }
 ],
 "metadata": {
  "kernelspec": {
   "display_name": "Java",
   "language": "java",
   "name": "java"
  },
  "language_info": {
   "codemirror_mode": "java",
   "file_extension": ".jshell",
   "mimetype": "text/x-java-source",
   "name": "Java",
   "pygments_lexer": "java",
   "version": "17.0.8+9-LTS-211"
  }
 },
 "nbformat": 4,
 "nbformat_minor": 5
}

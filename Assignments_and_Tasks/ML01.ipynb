{
 "cells": [
  {
   "cell_type": "markdown",
   "id": "00b89215",
   "metadata": {},
   "source": [
    "1. **What does one mean by the term \"machine learning\"?**\n",
    "   - It's making computers learn from data without explicit programming."
   ]
  },
  {
   "cell_type": "markdown",
   "id": "dbbef977",
   "metadata": {},
   "source": [
    "2. **Can you think of 4 distinct types of issues where it shines?**\n",
    "   - Image recognition, stock prediction, chatbots, and recommendation systems."
   ]
  },
  {
   "cell_type": "markdown",
   "id": "4885daa5",
   "metadata": {},
   "source": [
    "3. **What is a labeled training set, and how does it work?**\n",
    "   - Dataset with answers, used for supervised learning."
   ]
  },
  {
   "cell_type": "markdown",
   "id": "f1f77aa4",
   "metadata": {},
   "source": [
    "4. **What are the two most important tasks that are supervised?**\n",
    "   - Classification and regression."
   ]
  },
  {
   "cell_type": "markdown",
   "id": "beaf0d78",
   "metadata": {},
   "source": [
    "5. **Can you think of four examples of unsupervised tasks?**\n",
    "   - Clustering, dimensionality reduction, association, anomaly detection."
   ]
  },
  {
   "cell_type": "markdown",
   "id": "d620335f",
   "metadata": {},
   "source": [
    "6. **State the machine learning model that would be best to make a robot walk through various unfamiliar terrains?**\n",
    "   - Reinforcement Learning."
   ]
  },
  {
   "cell_type": "markdown",
   "id": "33eb3bc7",
   "metadata": {},
   "source": [
    "7. **Which algorithm will you use to divide your customers into different groups?**\n",
    "   - K-means clustering."
   ]
  },
  {
   "cell_type": "markdown",
   "id": "7669780c",
   "metadata": {},
   "source": [
    "8. **Will you consider the problem of spam detection to be a supervised or unsupervised learning problem?**\n",
    "   - Supervised."
   ]
  },
  {
   "cell_type": "markdown",
   "id": "0d91fe8e",
   "metadata": {},
   "source": [
    "9. **What is the concept of an online learning system?**\n",
    "   - Model training with continuous data input."
   ]
  },
  {
   "cell_type": "markdown",
   "id": "a2437874",
   "metadata": {},
   "source": [
    "10. **What is out-of-core learning, and how does it differ from core learning?**\n",
    "   - Handling big data in chunks, not fitting in RAM."
   ]
  },
  {
   "cell_type": "markdown",
   "id": "8eec3e01",
   "metadata": {},
   "source": [
    "11. **What kind of learning algorithm makes predictions using a similarity measure?**\n",
    "   - k-Nearest Neighbors."
   ]
  },
  {
   "cell_type": "markdown",
   "id": "b484165b",
   "metadata": {},
   "source": [
    "12. **What's the difference between a model parameter and a hyperparameter in a learning algorithm?**\n",
    "   - Parameter is learned; hyperparameter is set before."
   ]
  },
  {
   "cell_type": "markdown",
   "id": "fdc67ccd",
   "metadata": {},
   "source": [
    "13. **What are the criteria that model-based learning algorithms look for? What is the most popular method they use to achieve success? What method do they use to make predictions?**\n",
    "   - Best parameters; optimization techniques; use model."
   ]
  },
  {
   "cell_type": "markdown",
   "id": "71ce6742",
   "metadata": {},
   "source": [
    "14. **Can you name four of the most important Machine Learning challenges?**\n",
    "   - Overfitting, underfitting, missing data, unbalanced datasets."
   ]
  },
  {
   "cell_type": "markdown",
   "id": "00daba77",
   "metadata": {},
   "source": [
    "15. **What happens if the model performs well on the training data but fails to generalize the results to new situations? Can you think of three different options?**\n",
    "   - It's overfitting; use more data, regularization, or simpler model."
   ]
  },
  {
   "cell_type": "markdown",
   "id": "9e03457f",
   "metadata": {},
   "source": [
    "16. **What exactly is a test set, and why would you need one?**\n",
    "   - For evaluating model on new data."
   ]
  },
  {
   "cell_type": "markdown",
   "id": "057ed793",
   "metadata": {},
   "source": [
    "17. **What is a validation set's purpose?**\n",
    "   - Tune model during training."
   ]
  },
  {
   "cell_type": "markdown",
   "id": "fcd00078",
   "metadata": {},
   "source": [
    "18. **What precisely is the train-dev kit, when will you need it, how do you put it to use?**\n",
    "   - It's for diagnosing training-real world mismatch."
   ]
  },
  {
   "cell_type": "markdown",
   "id": "f1449978",
   "metadata": {},
   "source": [
    "19. **What could go wrong if you use the test set to tune hyperparameters?**\n",
    "   - Overfitting to the test set."
   ]
  }
 ],
 "metadata": {
  "kernelspec": {
   "display_name": "Python 3 (ipykernel)",
   "language": "python",
   "name": "python3"
  },
  "language_info": {
   "codemirror_mode": {
    "name": "ipython",
    "version": 3
   },
   "file_extension": ".py",
   "mimetype": "text/x-python",
   "name": "python",
   "nbconvert_exporter": "python",
   "pygments_lexer": "ipython3",
   "version": "3.11.4"
  }
 },
 "nbformat": 4,
 "nbformat_minor": 5
}

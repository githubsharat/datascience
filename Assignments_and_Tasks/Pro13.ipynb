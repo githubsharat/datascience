{
 "cells": [
  {
   "cell_type": "code",
   "execution_count": 2,
   "id": "8255c6f8",
   "metadata": {},
   "outputs": [
    {
     "name": "stdout",
     "output_type": "stream",
     "text": [
      "Enter comma-separated values for D: 2,3,4\n",
      "2,3,3\n"
     ]
    }
   ],
   "source": [
    "import math\n",
    "\n",
    "def compute_value(D):\n",
    "    C = 50\n",
    "    H = 30\n",
    "    return int(math.sqrt((2 * C * D) / H))\n",
    "\n",
    "if __name__ == \"__main__\":\n",
    "    D_values = list(map(int, input(\"Enter comma-separated values for D: \").split(',')))\n",
    "    results = [compute_value(D) for D in D_values]\n",
    "    print(','.join(map(str, results)))\n"
   ]
  },
  {
   "cell_type": "code",
   "execution_count": 3,
   "id": "1da1554e",
   "metadata": {},
   "outputs": [
    {
     "name": "stdout",
     "output_type": "stream",
     "text": [
      "Enter two digits X and Y separated by a comma (X,Y): 2,3\n",
      "[0, 0, 0]\n",
      "[0, 1, 2]\n"
     ]
    }
   ],
   "source": [
    "def generate_2d_array(x, y):\n",
    "    return [[i*j for j in range(y)] for i in range(x)]\n",
    "\n",
    "if __name__ == \"__main__\":\n",
    "    X, Y = map(int, input(\"Enter two digits X and Y separated by a comma (X,Y): \").split(','))\n",
    "    result = generate_2d_array(X, Y)\n",
    "    for row in result:\n",
    "        print(row)\n"
   ]
  },
  {
   "cell_type": "code",
   "execution_count": 4,
   "id": "484df0a6",
   "metadata": {},
   "outputs": [
    {
     "name": "stdout",
     "output_type": "stream",
     "text": [
      "Enter a comma-separated sequence of words: bag,apple,hello, america\n",
      " america,apple,bag,hello\n"
     ]
    }
   ],
   "source": [
    "def sort_words(input_sequence):\n",
    "    words = input_sequence.split(',')\n",
    "    words.sort()\n",
    "    return ','.join(words)\n",
    "\n",
    "if __name__ == \"__main__\":\n",
    "    sequence = input(\"Enter a comma-separated sequence of words: \")\n",
    "    sorted_sequence = sort_words(sequence)\n",
    "    print(sorted_sequence)    "
   ]
  },
  {
   "cell_type": "code",
   "execution_count": 5,
   "id": "f1413683",
   "metadata": {},
   "outputs": [
    {
     "name": "stdout",
     "output_type": "stream",
     "text": [
      "Enter a sequence of whitespace separated words: hello world and practice makes perfect and hello world again\n",
      "again and hello makes perfect practice world\n"
     ]
    }
   ],
   "source": [
    "def sort_and_remove_duplicates(input_sequence):\n",
    "    words = input_sequence.split()\n",
    "    unique_words = sorted(set(words))\n",
    "    return ' '.join(unique_words)\n",
    "\n",
    "if __name__ == \"__main__\":\n",
    "    sequence = input(\"Enter a sequence of whitespace separated words: \")\n",
    "    sorted_sequence = sort_and_remove_duplicates(sequence)\n",
    "    print(sorted_sequence)"
   ]
  },
  {
   "cell_type": "code",
   "execution_count": 6,
   "id": "92e4774f",
   "metadata": {},
   "outputs": [
    {
     "name": "stdout",
     "output_type": "stream",
     "text": [
      "Enter a sentence: hello world! 123\n",
      "LETTERS 10\n",
      "DIGITS 3\n"
     ]
    }
   ],
   "source": [
    "def count_letters_and_digits(s):\n",
    "    letters, digits = 0, 0\n",
    "    for char in s:\n",
    "        if char.isalpha():\n",
    "            letters += 1\n",
    "        elif char.isdigit():\n",
    "            digits += 1\n",
    "    return letters, digits\n",
    "\n",
    "if __name__ == \"__main__\":\n",
    "    sentence = input(\"Enter a sentence: \")\n",
    "    letters_count, digits_count = count_letters_and_digits(sentence)\n",
    "    print(f\"LETTERS {letters_count}\\nDIGITS {digits_count}\")"
   ]
  },
  {
   "cell_type": "code",
   "execution_count": 7,
   "id": "3f1f3227",
   "metadata": {},
   "outputs": [
    {
     "name": "stdout",
     "output_type": "stream",
     "text": [
      "Enter a sequence of comma-separated passwords: ABd1234@1,a F1#,2w3E*,2We3345\n",
      "ABd1234@1\n"
     ]
    }
   ],
   "source": [
    "import re\n",
    "\n",
    "def is_valid_password(password):\n",
    "    if len(password) < 6 or len(password) > 12:\n",
    "        return False\n",
    "    if not re.search(\"[a-z]\", password):\n",
    "        return False\n",
    "    if not re.search(\"[0-9]\", password):\n",
    "        return False\n",
    "    if not re.search(\"[A-Z]\", password):\n",
    "        return False\n",
    "    if not re.search(\"[$#@]\", password):\n",
    "        return False\n",
    "    return True\n",
    "\n",
    "if __name__ == \"__main__\":\n",
    "    passwords = input(\"Enter a sequence of comma-separated passwords: \").split(',')\n",
    "    valid_passwords = [pw for pw in passwords if is_valid_password(pw)]\n",
    "    print(','.join(valid_passwords))\n"
   ]
  }
 ],
 "metadata": {
  "kernelspec": {
   "display_name": "Python 3 (ipykernel)",
   "language": "python",
   "name": "python3"
  },
  "language_info": {
   "codemirror_mode": {
    "name": "ipython",
    "version": 3
   },
   "file_extension": ".py",
   "mimetype": "text/x-python",
   "name": "python",
   "nbconvert_exporter": "python",
   "pygments_lexer": "ipython3",
   "version": "3.11.4"
  }
 },
 "nbformat": 4,
 "nbformat_minor": 5
}

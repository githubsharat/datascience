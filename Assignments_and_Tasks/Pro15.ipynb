{
 "cells": [
  {
   "cell_type": "code",
   "execution_count": 2,
   "id": "fb14199e",
   "metadata": {},
   "outputs": [
    {
     "name": "stdout",
     "output_type": "stream",
     "text": [
      "Enter the value of n: 21\n",
      "0\n",
      "7\n",
      "14\n",
      "21\n"
     ]
    }
   ],
   "source": [
    "class DivisibleBySeven:\n",
    "    def __init__(self, n):\n",
    "        self.n = n\n",
    "\n",
    "    def generator(self):\n",
    "        for i in range(self.n + 1):\n",
    "            if i % 7 == 0:\n",
    "                yield i\n",
    "\n",
    "if __name__ == \"__main__\":\n",
    "    n = int(input(\"Enter the value of n: \"))\n",
    "    obj = DivisibleBySeven(n)\n",
    "    for num in obj.generator():\n",
    "        print(num)"
   ]
  },
  {
   "cell_type": "code",
   "execution_count": 3,
   "id": "c20eed14",
   "metadata": {},
   "outputs": [
    {
     "name": "stdout",
     "output_type": "stream",
     "text": [
      "Enter the text: New to Python or choosing between Python 2 and Python 3? Read Python 2 or Python 3.\n",
      "2:2\n",
      "3.:1\n",
      "3?:1\n",
      "New:1\n",
      "Python:5\n",
      "Read:1\n",
      "and:1\n",
      "between:1\n",
      "choosing:1\n",
      "or:2\n",
      "to:1\n"
     ]
    }
   ],
   "source": [
    "def word_frequency(s):\n",
    "    words = s.split()\n",
    "    frequency = {}\n",
    "    for word in words:\n",
    "        frequency[word] = frequency.get(word, 0) + 1\n",
    "    return frequency\n",
    "\n",
    "if __name__ == \"__main__\":\n",
    "    sentence = input(\"Enter the text: \")\n",
    "    frequencies = word_frequency(sentence)\n",
    "    for word in sorted(frequencies.keys()):\n",
    "        print(f\"{word}:{frequencies[word]}\")\n"
   ]
  },
  {
   "cell_type": "code",
   "execution_count": 4,
   "id": "8bf191b1",
   "metadata": {},
   "outputs": [
    {
     "name": "stdout",
     "output_type": "stream",
     "text": [
      "Male\n",
      "Female\n"
     ]
    }
   ],
   "source": [
    "class Person:\n",
    "    def getGender(self):\n",
    "        return \"Unknown\"\n",
    "\n",
    "class Male(Person):\n",
    "    def getGender(self):\n",
    "        return \"Male\"\n",
    "\n",
    "class Female(Person):\n",
    "    def getGender(self):\n",
    "        return \"Female\"\n",
    "\n",
    "if __name__ == \"__main__\":\n",
    "    male = Male()\n",
    "    female = Female()\n",
    "    print(male.getGender())\n",
    "    print(female.getGender())\n"
   ]
  },
  {
   "cell_type": "code",
   "execution_count": 5,
   "id": "a119f3dd",
   "metadata": {},
   "outputs": [
    {
     "name": "stdout",
     "output_type": "stream",
     "text": [
      "I Play Hockey\n",
      "I Play Football\n",
      "I Love Hockey\n",
      "I Love Football\n",
      "You Play Hockey\n",
      "You Play Football\n",
      "You Love Hockey\n",
      "You Love Football\n"
     ]
    }
   ],
   "source": [
    "def generate_sentences():\n",
    "    subjects = [\"I\", \"You\"]\n",
    "    verbs = [\"Play\", \"Love\"]\n",
    "    objects = [\"Hockey\", \"Football\"]\n",
    "    \n",
    "    for subj in subjects:\n",
    "        for verb in verbs:\n",
    "            for obj in objects:\n",
    "                print(f\"{subj} {verb} {obj}\")\n",
    "\n",
    "if __name__ == \"__main__\":\n",
    "    generate_sentences()\n"
   ]
  },
  {
   "cell_type": "code",
   "execution_count": 6,
   "id": "0b4e6037",
   "metadata": {},
   "outputs": [
    {
     "name": "stdout",
     "output_type": "stream",
     "text": [
      "Original string: hello world!hello world!hello world!hello world!\n",
      "Compressed string: b'x\\x9c\\xcbH\\xcd\\xc9\\xc9W(\\xcf/\\xcaIQ\\xcc \\x82\\r\\x00\\xbd[\\x11\\xf5'\n",
      "Decompressed string: hello world!hello world!hello world!hello world!\n"
     ]
    }
   ],
   "source": [
    "import zlib\n",
    "\n",
    "def compress_string(s):\n",
    "    return zlib.compress(s.encode('utf-8'))\n",
    "\n",
    "def decompress_string(compressed):\n",
    "    return zlib.decompress(compressed).decode('utf-8')\n",
    "\n",
    "if __name__ == \"__main__\":\n",
    "    original_string = \"hello world!hello world!hello world!hello world!\"\n",
    "    compressed_string = compress_string(original_string)\n",
    "    decompressed_string = decompress_string(compressed_string)\n",
    "\n",
    "    print(f\"Original string: {original_string}\")\n",
    "    print(f\"Compressed string: {compressed_string}\")\n",
    "    print(f\"Decompressed string: {decompressed_string}\")\n"
   ]
  },
  {
   "cell_type": "code",
   "execution_count": 7,
   "id": "eff39b8b",
   "metadata": {},
   "outputs": [
    {
     "name": "stdout",
     "output_type": "stream",
     "text": [
      "Element 5 is at index 4\n"
     ]
    }
   ],
   "source": [
    "def binary_search(arr, x):\n",
    "    \"\"\"\n",
    "    Perform binary search to find the index of x in arr.\n",
    "\n",
    "    :param arr: Sorted list\n",
    "    :param x: Element to search for\n",
    "    :return: Index of x if found, otherwise -1\n",
    "    \"\"\"\n",
    "    left, right = 0, len(arr) - 1\n",
    "\n",
    "    while left <= right:\n",
    "        mid = (left + right) // 2\n",
    "        if arr[mid] == x:\n",
    "            return mid\n",
    "        elif arr[mid] < x:\n",
    "            left = mid + 1\n",
    "        else:\n",
    "            right = mid - 1\n",
    "\n",
    "    return -1\n",
    "\n",
    "if __name__ == \"__main__\":\n",
    "    # Sample usage\n",
    "    sorted_list = [1, 2, 3, 4, 5, 6, 7, 8, 9]\n",
    "    element_to_search = 5\n",
    "\n",
    "    index = binary_search(sorted_list, element_to_search)\n",
    "    if index != -1:\n",
    "        print(f\"Element {element_to_search} is at index {index}\")\n",
    "    else:\n",
    "        print(f\"Element {element_to_search} is not in the list\")\n"
   ]
  },
  {
   "cell_type": "code",
   "execution_count": 8,
   "id": "c54d0c4b",
   "metadata": {},
   "outputs": [
    {
     "name": "stdout",
     "output_type": "stream",
     "text": [
      "Enter the value of n: 50\n",
      "0,2,4,6,8,10,12,14,16,18,20,22,24,26,28,30,32,34,36,38,40,42,44,46,48,50\n"
     ]
    }
   ],
   "source": [
    "def even_numbers(n):\n",
    "    \"\"\"Generator that yields even numbers between 0 and n.\"\"\"\n",
    "    for i in range(n + 1):\n",
    "        if i % 2 == 0:\n",
    "            yield i\n",
    "\n",
    "if __name__ == \"__main__\":\n",
    "    n = int(input(\"Enter the value of n: \"))\n",
    "    numbers = list(even_numbers(n))\n",
    "    print(\",\".join(map(str, numbers)))\n"
   ]
  },
  {
   "cell_type": "code",
   "execution_count": 9,
   "id": "3899ac44",
   "metadata": {},
   "outputs": [
    {
     "name": "stdout",
     "output_type": "stream",
     "text": [
      "Enter the value of n: 35\n",
      "0,1,1,2,3,5,8,13,21,34,55,89,144,233,377,610,987,1597,2584,4181,6765,10946,17711,28657,46368,75025,121393,196418,317811,514229,832040,1346269,2178309,3524578,5702887,9227465\n"
     ]
    }
   ],
   "source": [
    "def fibonacci(n):\n",
    "    if n == 0: return [0]\n",
    "    elif n == 1: return [0, 1]\n",
    "    fib_sequence = [0, 1]\n",
    "    [fib_sequence.append(fib_sequence[k - 1] + fib_sequence[k - 2]) for k in range(2, n + 1)]\n",
    "    return fib_sequence\n",
    "\n",
    "if __name__ == \"__main__\":\n",
    "    n = int(input(\"Enter the value of n: \"))\n",
    "    sequence = fibonacci(n)\n",
    "    print(\",\".join(map(str, sequence)))\n"
   ]
  },
  {
   "cell_type": "code",
   "execution_count": 10,
   "id": "af00e113",
   "metadata": {},
   "outputs": [
    {
     "name": "stdout",
     "output_type": "stream",
     "text": [
      "Enter the email address: abc@def.com\n",
      "abc\n"
     ]
    }
   ],
   "source": [
    "def extract_username(email):\n",
    "    return email.split('@')[0]\n",
    "\n",
    "if __name__ == \"__main__\":\n",
    "    email_address = input(\"Enter the email address: \")\n",
    "    username = extract_username(email_address)\n",
    "    print(username)"
   ]
  },
  {
   "cell_type": "code",
   "execution_count": 11,
   "id": "8218de53",
   "metadata": {},
   "outputs": [
    {
     "name": "stdout",
     "output_type": "stream",
     "text": [
      "Area of square: 25\n",
      "Area of shape: 0\n"
     ]
    }
   ],
   "source": [
    "class Shape:\n",
    "    def __init__(self):\n",
    "        pass\n",
    "\n",
    "    def area(self):\n",
    "        return 0\n",
    "\n",
    "class Square(Shape):\n",
    "    def __init__(self, length):\n",
    "        self.length = length\n",
    "\n",
    "    def area(self):\n",
    "        return self.length * self.length\n",
    "\n",
    "if __name__ == \"__main__\":\n",
    "    square = Square(5)\n",
    "    print(f\"Area of square: {square.area()}\")\n",
    "    shape = Shape()\n",
    "    print(f\"Area of shape: {shape.area()}\")\n"
   ]
  }
 ],
 "metadata": {
  "kernelspec": {
   "display_name": "Python 3 (ipykernel)",
   "language": "python",
   "name": "python3"
  },
  "language_info": {
   "codemirror_mode": {
    "name": "ipython",
    "version": 3
   },
   "file_extension": ".py",
   "mimetype": "text/x-python",
   "name": "python",
   "nbconvert_exporter": "python",
   "pygments_lexer": "ipython3",
   "version": "3.11.4"
  }
 },
 "nbformat": 4,
 "nbformat_minor": 5
}

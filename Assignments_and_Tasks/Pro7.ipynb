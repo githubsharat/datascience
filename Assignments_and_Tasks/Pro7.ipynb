{
 "cells": [
  {
   "cell_type": "markdown",
   "id": "0873ad46",
   "metadata": {},
   "source": [
    "1. Write a Python Program to find sum of array?"
   ]
  },
  {
   "cell_type": "code",
   "execution_count": 1,
   "id": "8c298baa",
   "metadata": {},
   "outputs": [
    {
     "name": "stdout",
     "output_type": "stream",
     "text": [
      "15\n"
     ]
    }
   ],
   "source": [
    "def sum_of_array(arr):\n",
    "    return sum(arr)\n",
    "\n",
    "array = [1, 2, 3, 4, 5]\n",
    "print(sum_of_array(array))"
   ]
  },
  {
   "cell_type": "markdown",
   "id": "44c0a35c",
   "metadata": {},
   "source": [
    "2. Write a Python Program to find largest element in an array?"
   ]
  },
  {
   "cell_type": "code",
   "execution_count": 2,
   "id": "9d38f4d2",
   "metadata": {},
   "outputs": [
    {
     "name": "stdout",
     "output_type": "stream",
     "text": [
      "5\n"
     ]
    }
   ],
   "source": [
    "def largest_element(arr):\n",
    "    return max(arr)\n",
    "\n",
    "array = [1, 2, 3, 4, 5]\n",
    "print(largest_element(array))"
   ]
  },
  {
   "cell_type": "markdown",
   "id": "79588925",
   "metadata": {},
   "source": [
    "3. Write a Python Program for array rotation?"
   ]
  },
  {
   "cell_type": "code",
   "execution_count": 3,
   "id": "cb2dc4b7",
   "metadata": {},
   "outputs": [
    {
     "name": "stdout",
     "output_type": "stream",
     "text": [
      "[3, 4, 5, 1, 2]\n"
     ]
    }
   ],
   "source": [
    "def rotate_array(arr, n):\n",
    "    return arr[n:] + arr[:n]\n",
    "\n",
    "array = [1, 2, 3, 4, 5]\n",
    "rotation_number = 2\n",
    "print(rotate_array(array, rotation_number))"
   ]
  },
  {
   "cell_type": "markdown",
   "id": "08347f9c",
   "metadata": {},
   "source": [
    "4. Write a Python Program to Split the array and add the first part to the end?"
   ]
  },
  {
   "cell_type": "code",
   "execution_count": 4,
   "id": "3144acc4",
   "metadata": {},
   "outputs": [
    {
     "name": "stdout",
     "output_type": "stream",
     "text": [
      "[3, 4, 5, 1, 2]\n"
     ]
    }
   ],
   "source": [
    "def split_and_add(arr, position):\n",
    "    return arr[position:] + arr[:position]\n",
    "\n",
    "array = [1, 2, 3, 4, 5]\n",
    "position_to_split = 2\n",
    "print(split_and_add(array, position_to_split))"
   ]
  },
  {
   "cell_type": "markdown",
   "id": "1ee81939",
   "metadata": {},
   "source": [
    "5. Write a Python Program to check if given array is Monotonic?"
   ]
  },
  {
   "cell_type": "code",
   "execution_count": 5,
   "id": "3a4a9385",
   "metadata": {},
   "outputs": [
    {
     "name": "stdout",
     "output_type": "stream",
     "text": [
      "True\n"
     ]
    }
   ],
   "source": [
    "def is_monotonic(arr):\n",
    "    return (all(arr[i] <= arr[i + 1] for i in range(len(arr) - 1)) or\n",
    "            all(arr[i] >= arr[i + 1] for i in range(len(arr) - 1)))\n",
    "\n",
    "array = [1, 2, 2, 3, 4]\n",
    "print(is_monotonic(array))"
   ]
  }
 ],
 "metadata": {
  "kernelspec": {
   "display_name": "Python 3 (ipykernel)",
   "language": "python",
   "name": "python3"
  },
  "language_info": {
   "codemirror_mode": {
    "name": "ipython",
    "version": 3
   },
   "file_extension": ".py",
   "mimetype": "text/x-python",
   "name": "python",
   "nbconvert_exporter": "python",
   "pygments_lexer": "ipython3",
   "version": "3.11.4"
  }
 },
 "nbformat": 4,
 "nbformat_minor": 5
}

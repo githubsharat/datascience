{
 "cells": [
  {
   "cell_type": "markdown",
   "id": "f8a96d6d",
   "metadata": {},
   "source": [
    "1. Write a Python program to find sum of elements in list?"
   ]
  },
  {
   "cell_type": "code",
   "execution_count": null,
   "id": "448528aa",
   "metadata": {},
   "outputs": [],
   "source": [
    "def list_sum(lst):\n",
    "    return sum(lst)\n",
    "\n",
    "lst = [1, 2, 3, 4, 5]\n",
    "print(list_sum(lst))"
   ]
  },
  {
   "cell_type": "markdown",
   "id": "317e12ba",
   "metadata": {},
   "source": [
    "2. Write a Python program to Multiply all numbers in the list?"
   ]
  },
  {
   "cell_type": "code",
   "execution_count": null,
   "id": "d47b430c",
   "metadata": {},
   "outputs": [],
   "source": [
    "def list_product(lst):\n",
    "    result = 1\n",
    "    for num in lst:\n",
    "        result *= num\n",
    "    return result\n",
    "\n",
    "lst = [1, 2, 3, 4, 5]\n",
    "print(list_product(lst))"
   ]
  },
  {
   "cell_type": "markdown",
   "id": "72099580",
   "metadata": {},
   "source": [
    "3. Write a Python program to find smallest number in a list?"
   ]
  },
  {
   "cell_type": "code",
   "execution_count": null,
   "id": "c3fca8bd",
   "metadata": {},
   "outputs": [],
   "source": [
    "def smallest(lst):\n",
    "    return min(lst)\n",
    "\n",
    "lst = [1, 2, 3, 4, 5]\n",
    "print(smallest(lst))"
   ]
  },
  {
   "cell_type": "markdown",
   "id": "1fddcfc7",
   "metadata": {},
   "source": [
    "4. Write a Python program to find largest number in a list?"
   ]
  },
  {
   "cell_type": "code",
   "execution_count": null,
   "id": "6c453e7c",
   "metadata": {},
   "outputs": [],
   "source": [
    "def largest(lst):\n",
    "    return max(lst)\n",
    "\n",
    "lst = [1, 2, 3, 4, 5]\n",
    "print(largest(lst))"
   ]
  },
  {
   "cell_type": "markdown",
   "id": "2a7dae3a",
   "metadata": {},
   "source": [
    "5. Write a Python program to find second largest number in a list?"
   ]
  },
  {
   "cell_type": "code",
   "execution_count": null,
   "id": "b3b9b79b",
   "metadata": {},
   "outputs": [],
   "source": [
    "def second_largest(lst):\n",
    "    lst.sort()\n",
    "    return lst[-2]\n",
    "\n",
    "lst = [1, 2, 3, 4, 5]\n",
    "print(second_largest(lst))"
   ]
  },
  {
   "cell_type": "markdown",
   "id": "4b22d812",
   "metadata": {},
   "source": [
    "6. Write a Python program to find N largest elements from a list?"
   ]
  },
  {
   "cell_type": "code",
   "execution_count": null,
   "id": "f233513d",
   "metadata": {},
   "outputs": [],
   "source": [
    "def n_largest_elements(lst, N):\n",
    "    return sorted(lst)[-N:]\n",
    "\n",
    "lst = [1, 2, 3, 4, 5]\n",
    "N = 3\n",
    "print(n_largest_elements(lst, N))"
   ]
  },
  {
   "cell_type": "markdown",
   "id": "459cd8ee",
   "metadata": {},
   "source": [
    "7. Write a Python program to print even numbers in a list?"
   ]
  },
  {
   "cell_type": "code",
   "execution_count": null,
   "id": "9ae6e5e7",
   "metadata": {},
   "outputs": [],
   "source": [
    "def even_numbers(lst):\n",
    "    return [num for num in lst if num % 2 == 0]\n",
    "\n",
    "lst = [1, 2, 3, 4, 5]\n",
    "print(even_numbers(lst))"
   ]
  },
  {
   "cell_type": "markdown",
   "id": "c4b81a3c",
   "metadata": {},
   "source": [
    "8. Write a Python program to print odd numbers in a List?"
   ]
  },
  {
   "cell_type": "code",
   "execution_count": null,
   "id": "1c609a8c",
   "metadata": {},
   "outputs": [],
   "source": [
    "def odd_numbers(lst):\n",
    "    return [num for num in lst if num % 2 != 0]\n",
    "\n",
    "lst = [1, 2, 3, 4, 5]\n",
    "print(odd_numbers(lst))"
   ]
  },
  {
   "cell_type": "markdown",
   "id": "16e1452e",
   "metadata": {},
   "source": [
    "9. Write a Python program to Remove empty List from List?"
   ]
  },
  {
   "cell_type": "code",
   "execution_count": null,
   "id": "3e435071",
   "metadata": {},
   "outputs": [],
   "source": [
    "def remove_empty_lists(lst):\n",
    "    return [sublist for sublist in lst if sublist]\n",
    "\n",
    "lst = [[1, 2, 3], [], [4, 5], [], [6]]\n",
    "print(remove_empty_lists(lst))"
   ]
  },
  {
   "cell_type": "markdown",
   "id": "196dc212",
   "metadata": {},
   "source": [
    "10. Write a Python program to Cloning or Copying a list?"
   ]
  },
  {
   "cell_type": "code",
   "execution_count": null,
   "id": "87cde69e",
   "metadata": {},
   "outputs": [],
   "source": [
    "def clone_list(lst):\n",
    "    return lst.copy()\n",
    "\n",
    "lst = [1, 2, 3, 4, 5]\n",
    "print(clone_list(lst))"
   ]
  },
  {
   "cell_type": "markdown",
   "id": "cb62b89e",
   "metadata": {},
   "source": [
    "11. Write a Python program to Count occurrences of an element in a list?"
   ]
  },
  {
   "cell_type": "code",
   "execution_count": null,
   "id": "c07aea09",
   "metadata": {},
   "outputs": [],
   "source": [
    "def count_occurrences(lst, element):\n",
    "    return lst.count(element)\n",
    "\n",
    "lst = [1, 2, 3, 4, 5, 2, 2]\n",
    "element = 2\n",
    "print(count_occurrences(lst, element))"
   ]
  }
 ],
 "metadata": {
  "kernelspec": {
   "display_name": "Python 3 (ipykernel)",
   "language": "python",
   "name": "python3"
  },
  "language_info": {
   "codemirror_mode": {
    "name": "ipython",
    "version": 3
   },
   "file_extension": ".py",
   "mimetype": "text/x-python",
   "name": "python",
   "nbconvert_exporter": "python",
   "pygments_lexer": "ipython3",
   "version": "3.11.4"
  }
 },
 "nbformat": 4,
 "nbformat_minor": 5
}

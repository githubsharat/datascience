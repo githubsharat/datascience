{
 "cells": [
  {
   "cell_type": "markdown",
   "id": "a0883c56",
   "metadata": {},
   "source": [
    "1. Write a Python program to find words which are greater than given length k?"
   ]
  },
  {
   "cell_type": "code",
   "execution_count": 1,
   "id": "77e4cc9b",
   "metadata": {},
   "outputs": [
    {
     "name": "stdout",
     "output_type": "stream",
     "text": [
      "['Python', 'amazing', 'programming', 'language']\n"
     ]
    }
   ],
   "source": [
    "def words_greater_than_k(s, k):\n",
    "    return [word for word in s.split() if len(word) > k]\n",
    "\n",
    "s = \"Python is an amazing programming language\"\n",
    "k = 4\n",
    "print(words_greater_than_k(s, k))"
   ]
  },
  {
   "cell_type": "markdown",
   "id": "f5e0521d",
   "metadata": {},
   "source": [
    "2. Write a Python program for removing i-th character from a string?"
   ]
  },
  {
   "cell_type": "code",
   "execution_count": 2,
   "id": "368befdf",
   "metadata": {},
   "outputs": [
    {
     "name": "stdout",
     "output_type": "stream",
     "text": [
      "Pyton\n"
     ]
    }
   ],
   "source": [
    "def remove_ith_char(s, i):\n",
    "    return s[:i] + s[i+1:]\n",
    "\n",
    "s = \"Python\"\n",
    "i = 3\n",
    "print(remove_ith_char(s, i))"
   ]
  },
  {
   "cell_type": "markdown",
   "id": "cf913492",
   "metadata": {},
   "source": [
    "3. Write a Python program to split and join a string?"
   ]
  },
  {
   "cell_type": "code",
   "execution_count": 3,
   "id": "c411141d",
   "metadata": {},
   "outputs": [
    {
     "name": "stdout",
     "output_type": "stream",
     "text": [
      "Python is amazing\n"
     ]
    }
   ],
   "source": [
    "def split_and_join(s, delimiter=\" \"):\n",
    "    return delimiter.join(s.split(delimiter))\n",
    "\n",
    "s = \"Python is amazing\"\n",
    "delimiter = \" \"\n",
    "print(split_and_join(s, delimiter))"
   ]
  },
  {
   "cell_type": "markdown",
   "id": "374c6a1a",
   "metadata": {},
   "source": [
    "4. Write a Python to check if a given string is binary string or not?"
   ]
  },
  {
   "cell_type": "code",
   "execution_count": 4,
   "id": "19ca5b49",
   "metadata": {},
   "outputs": [
    {
     "name": "stdout",
     "output_type": "stream",
     "text": [
      "True\n"
     ]
    }
   ],
   "source": [
    "def is_binary_string(s):\n",
    "    return set(s) <= {\"0\", \"1\"}\n",
    "\n",
    "s = \"1100101\"\n",
    "print(is_binary_string(s))"
   ]
  },
  {
   "cell_type": "markdown",
   "id": "82cb1f4d",
   "metadata": {},
   "source": [
    "5. Write a Python program to find uncommon words from two Strings?"
   ]
  },
  {
   "cell_type": "code",
   "execution_count": 5,
   "id": "801ff5b7",
   "metadata": {},
   "outputs": [
    {
     "name": "stdout",
     "output_type": "stream",
     "text": [
      "['great', 'versatile']\n"
     ]
    }
   ],
   "source": [
    "def uncommon_words(s1, s2):\n",
    "    s1_words, s2_words = set(s1.split()), set(s2.split())\n",
    "    return list(s1_words.symmetric_difference(s2_words))\n",
    "\n",
    "s1 = \"Python is great\"\n",
    "s2 = \"Python is versatile\"\n",
    "print(uncommon_words(s1, s2))"
   ]
  },
  {
   "cell_type": "markdown",
   "id": "edae1acc",
   "metadata": {},
   "source": [
    "6. Write a Python to find all duplicate characters in string?"
   ]
  },
  {
   "cell_type": "code",
   "execution_count": 6,
   "id": "3cadb6d9",
   "metadata": {},
   "outputs": [
    {
     "name": "stdout",
     "output_type": "stream",
     "text": [
      "['r', 'g', 'm']\n"
     ]
    }
   ],
   "source": [
    "def find_duplicates(s):\n",
    "    from collections import Counter\n",
    "    counts = Counter(s)\n",
    "    return [char for char, count in counts.items() if count > 1]\n",
    "\n",
    "s = \"programming\"\n",
    "print(find_duplicates(s))"
   ]
  },
  {
   "cell_type": "markdown",
   "id": "71c656a9",
   "metadata": {},
   "source": [
    "7. Write a Python Program to check if a string contains any special character?"
   ]
  },
  {
   "cell_type": "code",
   "execution_count": 7,
   "id": "a55389f0",
   "metadata": {},
   "outputs": [
    {
     "name": "stdout",
     "output_type": "stream",
     "text": [
      "True\n"
     ]
    }
   ],
   "source": [
    "import string\n",
    "\n",
    "def has_special_characters(s):\n",
    "    special_characters = set(string.punctuation)\n",
    "    return any(char in special_characters for char in s)\n",
    "\n",
    "s = \"Hello, World!\"\n",
    "print(has_special_characters(s))"
   ]
  }
 ],
 "metadata": {
  "kernelspec": {
   "display_name": "Python 3 (ipykernel)",
   "language": "python",
   "name": "python3"
  },
  "language_info": {
   "codemirror_mode": {
    "name": "ipython",
    "version": 3
   },
   "file_extension": ".py",
   "mimetype": "text/x-python",
   "name": "python",
   "nbconvert_exporter": "python",
   "pygments_lexer": "ipython3",
   "version": "3.11.4"
  }
 },
 "nbformat": 4,
 "nbformat_minor": 5
}

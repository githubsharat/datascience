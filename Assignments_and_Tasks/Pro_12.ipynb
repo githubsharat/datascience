{
 "cells": [
  {
   "cell_type": "markdown",
   "id": "c10c6ee4",
   "metadata": {},
   "source": [
    "1. Write a Python program to Extract Unique values dictionary values?"
   ]
  },
  {
   "cell_type": "code",
   "execution_count": 1,
   "id": "91772283",
   "metadata": {},
   "outputs": [
    {
     "name": "stdout",
     "output_type": "stream",
     "text": [
      "[1, 2, 3]\n"
     ]
    }
   ],
   "source": [
    "def unique_values(d):\n",
    "    return list(set(d.values()))\n",
    "\n",
    "d = {'a': 1, 'b': 2, 'c': 2, 'd': 3}\n",
    "print(unique_values(d))"
   ]
  },
  {
   "cell_type": "markdown",
   "id": "bde85ec5",
   "metadata": {},
   "source": [
    "2. Write a Python program to find the sum of all items in a dictionary?"
   ]
  },
  {
   "cell_type": "code",
   "execution_count": 2,
   "id": "87e31761",
   "metadata": {},
   "outputs": [
    {
     "name": "stdout",
     "output_type": "stream",
     "text": [
      "6\n"
     ]
    }
   ],
   "source": [
    "def sum_dict_values(d):\n",
    "    return sum(d.values())\n",
    "\n",
    "d = {'a': 1, 'b': 2, 'c': 3}\n",
    "print(sum_dict_values(d))"
   ]
  },
  {
   "cell_type": "markdown",
   "id": "9632eef5",
   "metadata": {},
   "source": [
    "3. Write a Python program to Merging two Dictionaries?"
   ]
  },
  {
   "cell_type": "code",
   "execution_count": 3,
   "id": "cd2a7e44",
   "metadata": {},
   "outputs": [
    {
     "name": "stdout",
     "output_type": "stream",
     "text": [
      "{'a': 1, 'b': 2, 'c': 3, 'd': 4}\n"
     ]
    }
   ],
   "source": [
    "def merge_dicts(d1, d2):\n",
    "    return {**d1, **d2}\n",
    "\n",
    "d1 = {'a': 1, 'b': 2}\n",
    "d2 = {'c': 3, 'd': 4}\n",
    "print(merge_dicts(d1, d2))"
   ]
  },
  {
   "cell_type": "markdown",
   "id": "95ce3741",
   "metadata": {},
   "source": [
    "4. Write a Python program to convert key-values list to flat dictionary?"
   ]
  },
  {
   "cell_type": "code",
   "execution_count": 4,
   "id": "79ad19e0",
   "metadata": {},
   "outputs": [
    {
     "name": "stdout",
     "output_type": "stream",
     "text": [
      "{'a': 1, 'b': 2, 'c': 3}\n"
     ]
    }
   ],
   "source": [
    "def to_flat_dict(keys, values):\n",
    "    return dict(zip(keys, values))\n",
    "\n",
    "keys = ['a', 'b', 'c']\n",
    "values = [1, 2, 3]\n",
    "print(to_flat_dict(keys, values))"
   ]
  },
  {
   "cell_type": "markdown",
   "id": "d0e9362f",
   "metadata": {},
   "source": [
    "5. Write a Python program to insertion at the beginning in OrderedDict?"
   ]
  },
  {
   "cell_type": "code",
   "execution_count": 5,
   "id": "abf4f6be",
   "metadata": {},
   "outputs": [
    {
     "name": "stdout",
     "output_type": "stream",
     "text": [
      "OrderedDict([('a', 1), ('b', 2), ('c', 3)])\n"
     ]
    }
   ],
   "source": [
    "from collections import OrderedDict\n",
    "\n",
    "def insert_at_start(od, key, value):\n",
    "    od = OrderedDict([(key, value)] + list(od.items()))\n",
    "    return od\n",
    "\n",
    "od = OrderedDict([('b', 2), ('c', 3)])\n",
    "print(insert_at_start(od, 'a', 1))"
   ]
  },
  {
   "cell_type": "markdown",
   "id": "5854328a",
   "metadata": {},
   "source": [
    "6. Write a Python program to check order of character in string using OrderedDict()?"
   ]
  },
  {
   "cell_type": "code",
   "execution_count": 6,
   "id": "85480e38",
   "metadata": {},
   "outputs": [
    {
     "name": "stdout",
     "output_type": "stream",
     "text": [
      "True\n"
     ]
    }
   ],
   "source": [
    "from collections import OrderedDict\n",
    "\n",
    "def check_order(s, pattern):\n",
    "    od = OrderedDict.fromkeys(s)\n",
    "    pattern_length = 0\n",
    "    for key, value in od.items():\n",
    "        if key == pattern[pattern_length]:\n",
    "            pattern_length += 1\n",
    "\n",
    "        if pattern_length == len(pattern):\n",
    "            return True\n",
    "    return False\n",
    "\n",
    "s = \"Hello World\"\n",
    "pattern = \"Helo\"\n",
    "print(check_order(s, pattern))"
   ]
  },
  {
   "cell_type": "markdown",
   "id": "a58afd71",
   "metadata": {},
   "source": [
    "7. Write a Python program to sort Python Dictionaries by Key or Value?"
   ]
  },
  {
   "cell_type": "code",
   "execution_count": 7,
   "id": "be4683c8",
   "metadata": {},
   "outputs": [
    {
     "name": "stdout",
     "output_type": "stream",
     "text": [
      "{'a': 1, 'b': 2, 'c': 3}\n"
     ]
    }
   ],
   "source": [
    "def sort_dict(d, by='key'):\n",
    "    if by == 'key':\n",
    "        return dict(sorted(d.items()))\n",
    "    else:\n",
    "        return dict(sorted(d.items(), key=lambda item: item[1]))\n",
    "\n",
    "d = {'c': 3, 'a': 1, 'b': 2}\n",
    "print(sort_dict(d, by='value'))"
   ]
  }
 ],
 "metadata": {
  "kernelspec": {
   "display_name": "Python 3 (ipykernel)",
   "language": "python",
   "name": "python3"
  },
  "language_info": {
   "codemirror_mode": {
    "name": "ipython",
    "version": 3
   },
   "file_extension": ".py",
   "mimetype": "text/x-python",
   "name": "python",
   "nbconvert_exporter": "python",
   "pygments_lexer": "ipython3",
   "version": "3.11.4"
  }
 },
 "nbformat": 4,
 "nbformat_minor": 5
}

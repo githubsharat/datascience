{
 "cells": [
  {
   "cell_type": "markdown",
   "id": "4b458181",
   "metadata": {},
   "source": [
    "1. Write a Python program to check if the given number is a Disarium Number?"
   ]
  },
  {
   "cell_type": "code",
   "execution_count": 1,
   "id": "6b14a37e",
   "metadata": {},
   "outputs": [
    {
     "name": "stdout",
     "output_type": "stream",
     "text": [
      "True\n"
     ]
    }
   ],
   "source": [
    "def is_disarium(num):\n",
    "    return num == sum(int(digit) ** (index + 1) for index, digit in enumerate(str(num)))\n",
    "\n",
    "number = 89\n",
    "print(is_disarium(number))"
   ]
  },
  {
   "cell_type": "markdown",
   "id": "1b6d8b6a",
   "metadata": {},
   "source": [
    "2. Write a Python program to print all disarium numbers between 1 to 100?"
   ]
  },
  {
   "cell_type": "code",
   "execution_count": 2,
   "id": "ae0cd067",
   "metadata": {},
   "outputs": [
    {
     "name": "stdout",
     "output_type": "stream",
     "text": [
      "1\n",
      "2\n",
      "3\n",
      "4\n",
      "5\n",
      "6\n",
      "7\n",
      "8\n",
      "9\n",
      "89\n"
     ]
    }
   ],
   "source": [
    "def print_disariums_upto_100():\n",
    "    for i in range(1, 101):\n",
    "        if is_disarium(i):\n",
    "            print(i)\n",
    "\n",
    "print_disariums_upto_100()"
   ]
  },
  {
   "cell_type": "markdown",
   "id": "fb5f7f39",
   "metadata": {},
   "source": [
    "3. Write a Python program to check if the given number is Happy Number?"
   ]
  },
  {
   "cell_type": "code",
   "execution_count": 3,
   "id": "deb9823d",
   "metadata": {},
   "outputs": [
    {
     "name": "stdout",
     "output_type": "stream",
     "text": [
      "True\n"
     ]
    }
   ],
   "source": [
    "def is_happy(num):\n",
    "    seen = set()\n",
    "    while num != 1 and num not in seen:\n",
    "        seen.add(num)\n",
    "        num = sum(int(i)**2 for i in str(num))\n",
    "    return num == 1\n",
    "\n",
    "number = 19\n",
    "print(is_happy(number))"
   ]
  },
  {
   "cell_type": "markdown",
   "id": "66a5a5a6",
   "metadata": {},
   "source": [
    "4. Write a Python program to print all happy numbers between 1 and 100?"
   ]
  },
  {
   "cell_type": "code",
   "execution_count": 4,
   "id": "39ba2180",
   "metadata": {},
   "outputs": [
    {
     "name": "stdout",
     "output_type": "stream",
     "text": [
      "1\n",
      "7\n",
      "10\n",
      "13\n",
      "19\n",
      "23\n",
      "28\n",
      "31\n",
      "32\n",
      "44\n",
      "49\n",
      "68\n",
      "70\n",
      "79\n",
      "82\n",
      "86\n",
      "91\n",
      "94\n",
      "97\n",
      "100\n"
     ]
    }
   ],
   "source": [
    "def print_happy_numbers_upto_100():\n",
    "    for i in range(1, 101):\n",
    "        if is_happy(i):\n",
    "            print(i)\n",
    "\n",
    "print_happy_numbers_upto_100()"
   ]
  },
  {
   "cell_type": "markdown",
   "id": "68f42697",
   "metadata": {},
   "source": [
    "5. Write a Python program to determine whether the given number is a Harshad Number?"
   ]
  },
  {
   "cell_type": "code",
   "execution_count": 5,
   "id": "2a89d47e",
   "metadata": {},
   "outputs": [
    {
     "name": "stdout",
     "output_type": "stream",
     "text": [
      "True\n"
     ]
    }
   ],
   "source": [
    "def is_harshad(num):\n",
    "    return num % sum(int(digit) for digit in str(num)) == 0\n",
    "\n",
    "number = 18\n",
    "print(is_harshad(number))"
   ]
  },
  {
   "cell_type": "markdown",
   "id": "9a5783b1",
   "metadata": {},
   "source": [
    "6. Write a Python program to print all pronic numbers between 1 and 100?"
   ]
  },
  {
   "cell_type": "code",
   "execution_count": 6,
   "id": "2608c7bb",
   "metadata": {},
   "outputs": [
    {
     "name": "stdout",
     "output_type": "stream",
     "text": [
      "2\n",
      "6\n",
      "12\n",
      "20\n",
      "30\n",
      "42\n",
      "56\n",
      "72\n",
      "90\n"
     ]
    }
   ],
   "source": [
    "def is_pronic(num):\n",
    "    for i in range(1, num):\n",
    "        if i * (i + 1) == num:\n",
    "            return True\n",
    "    return False\n",
    "\n",
    "def print_pronics_upto_100():\n",
    "    for i in range(1, 101):\n",
    "        if is_pronic(i):\n",
    "            print(i)\n",
    "\n",
    "print_pronics_upto_100()"
   ]
  }
 ],
 "metadata": {
  "kernelspec": {
   "display_name": "Python 3 (ipykernel)",
   "language": "python",
   "name": "python3"
  },
  "language_info": {
   "codemirror_mode": {
    "name": "ipython",
    "version": 3
   },
   "file_extension": ".py",
   "mimetype": "text/x-python",
   "name": "python",
   "nbconvert_exporter": "python",
   "pygments_lexer": "ipython3",
   "version": "3.11.4"
  }
 },
 "nbformat": 4,
 "nbformat_minor": 5
}

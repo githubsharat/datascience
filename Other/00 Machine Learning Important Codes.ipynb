{
 "cells": [
  {
   "cell_type": "markdown",
   "id": "f1b0875f",
   "metadata": {},
   "source": [
    "### List Libraries to Import"
   ]
  },
  {
   "cell_type": "code",
   "execution_count": 1,
   "id": "5218c466",
   "metadata": {},
   "outputs": [],
   "source": [
    "import pandas as pd\n",
    "import numpy as np\n",
    "import matplotlib.pyplot as plt\n",
    "import seaborn as sns"
   ]
  },
  {
   "cell_type": "code",
   "execution_count": 2,
   "id": "61cedeb9",
   "metadata": {},
   "outputs": [],
   "source": [
    "from pandas_profiling import ProfileReport\n",
    "import pickle"
   ]
  },
  {
   "cell_type": "code",
   "execution_count": 3,
   "id": "e8836672",
   "metadata": {},
   "outputs": [],
   "source": [
    "from sklearn.preprocessing import StandardScaler\n",
    "from sklearn.linear_model import Ridge, Lasso, RidgeCV, LassoCV, ElasticNet, ElasticNetCV, LinearRegression\n",
    "from sklearn.model_selection import train_test_split\n",
    "import statsmodels.api as sm"
   ]
  },
  {
   "cell_type": "markdown",
   "id": "7f41fe04",
   "metadata": {},
   "source": [
    "### Load the Dataset"
   ]
  },
  {
   "cell_type": "code",
   "execution_count": 4,
   "id": "8a28881a",
   "metadata": {},
   "outputs": [],
   "source": [
    "df = pd.read_csv('Admission_Prediction.csv')"
   ]
  },
  {
   "cell_type": "markdown",
   "id": "e7b2057e",
   "metadata": {},
   "source": [
    "### Generate Profile Report to Understand Data"
   ]
  },
  {
   "cell_type": "code",
   "execution_count": 5,
   "id": "b47d8c49",
   "metadata": {},
   "outputs": [
    {
     "data": {
      "application/vnd.jupyter.widget-view+json": {
       "model_id": "f2f8f962d0f94e29bc2e0fd87a849de3",
       "version_major": 2,
       "version_minor": 0
      },
      "text/plain": [
       "Summarize dataset:   0%|          | 0/5 [00:00<?, ?it/s]"
      ]
     },
     "metadata": {},
     "output_type": "display_data"
    },
    {
     "data": {
      "application/vnd.jupyter.widget-view+json": {
       "model_id": "83a47bb7543a4f7ca1a38efcda70f4ea",
       "version_major": 2,
       "version_minor": 0
      },
      "text/plain": [
       "Generate report structure:   0%|          | 0/1 [00:00<?, ?it/s]"
      ]
     },
     "metadata": {},
     "output_type": "display_data"
    },
    {
     "data": {
      "application/vnd.jupyter.widget-view+json": {
       "model_id": "",
       "version_major": 2,
       "version_minor": 0
      },
      "text/plain": [
       "Render widgets:   0%|          | 0/1 [00:00<?, ?it/s]"
      ]
     },
     "metadata": {},
     "output_type": "display_data"
    },
    {
     "data": {
      "application/vnd.jupyter.widget-view+json": {
       "model_id": "3c7d484c510f43efa14b4d1a68d16565",
       "version_major": 2,
       "version_minor": 0
      },
      "text/plain": [
       "VBox(children=(Tab(children=(Tab(children=(GridBox(children=(VBox(children=(GridspecLayout(children=(HTML(valu…"
      ]
     },
     "metadata": {},
     "output_type": "display_data"
    }
   ],
   "source": [
    "pf = ProfileReport(df)\n",
    "\n",
    "pf.to_widgets()  # To create widget screen within Jupyter Notebook"
   ]
  },
  {
   "cell_type": "markdown",
   "id": "2c5bc308",
   "metadata": {},
   "source": [
    "### Handle missing values and duplicates"
   ]
  },
  {
   "cell_type": "markdown",
   "id": "7a8bde30",
   "metadata": {},
   "source": [
    "See Jupyter Notebook:  01. EDA Important Codes.ipynb"
   ]
  },
  {
   "cell_type": "markdown",
   "id": "b96ac0bb",
   "metadata": {},
   "source": [
    "## Linear Regression (One Feature)"
   ]
  },
  {
   "cell_type": "code",
   "execution_count": 7,
   "id": "304a93aa",
   "metadata": {},
   "outputs": [],
   "source": [
    "df = pd.read_csv('Advertising.csv')\n",
    "\n",
    "x = df[[\"TV\"]]\n",
    "y = df['Sales']"
   ]
  },
  {
   "cell_type": "code",
   "execution_count": 8,
   "id": "ec70e1ca",
   "metadata": {},
   "outputs": [],
   "source": [
    "from sklearn.linear_model import LinearRegression"
   ]
  },
  {
   "cell_type": "code",
   "execution_count": 12,
   "id": "13bdc8f2",
   "metadata": {},
   "outputs": [
    {
     "data": {
      "text/plain": [
       "LinearRegression()"
      ]
     },
     "execution_count": 12,
     "metadata": {},
     "output_type": "execute_result"
    }
   ],
   "source": [
    "linear = LinearRegression()\n",
    "linear.fit(x,y)"
   ]
  },
  {
   "cell_type": "code",
   "execution_count": 19,
   "id": "c14c2696",
   "metadata": {
    "scrolled": true
   },
   "outputs": [
    {
     "data": {
      "text/plain": [
       "array([0.05546477])"
      ]
     },
     "execution_count": 19,
     "metadata": {},
     "output_type": "execute_result"
    }
   ],
   "source": [
    "# To check coeffecients (slope)\n",
    "\n",
    "linear.coef_"
   ]
  },
  {
   "cell_type": "code",
   "execution_count": 20,
   "id": "15d861f9",
   "metadata": {
    "scrolled": false
   },
   "outputs": [
    {
     "data": {
      "text/plain": [
       "6.974821488229891"
      ]
     },
     "execution_count": 20,
     "metadata": {},
     "output_type": "execute_result"
    }
   ],
   "source": [
    "# To check intercept\n",
    "\n",
    "linear.intercept_"
   ]
  },
  {
   "cell_type": "markdown",
   "id": "f1cd5de1",
   "metadata": {},
   "source": [
    "### Save the Model"
   ]
  },
  {
   "cell_type": "markdown",
   "id": "8a9e1a57",
   "metadata": {},
   "source": [
    "Only saves the model information. For example, y = 0.5x + 3. Does not save the input dataset."
   ]
  },
  {
   "cell_type": "code",
   "execution_count": 21,
   "id": "f0da945a",
   "metadata": {},
   "outputs": [],
   "source": [
    "file = 'linear_reg.sav'                 \n",
    "pickle.dump(linear,open(file,'wb'))"
   ]
  },
  {
   "cell_type": "markdown",
   "id": "ee38f340",
   "metadata": {},
   "source": [
    "### Predict / Estimate"
   ]
  },
  {
   "cell_type": "markdown",
   "id": "29c7f5ae",
   "metadata": {},
   "source": [
    "Use the model to predict/estimate label based on input value of the feature"
   ]
  },
  {
   "cell_type": "code",
   "execution_count": 22,
   "id": "397b48d3",
   "metadata": {
    "scrolled": true
   },
   "outputs": [
    {
     "name": "stderr",
     "output_type": "stream",
     "text": [
      "C:\\Users\\ashar\\anaconda3\\anaconda\\lib\\site-packages\\sklearn\\base.py:450: UserWarning: X does not have valid feature names, but LinearRegression was fitted with feature names\n",
      "  warnings.warn(\n"
     ]
    },
    {
     "data": {
      "text/plain": [
       "array([9.47073616])"
      ]
     },
     "execution_count": 22,
     "metadata": {},
     "output_type": "execute_result"
    }
   ],
   "source": [
    "linear.predict([[45]])"
   ]
  },
  {
   "cell_type": "code",
   "execution_count": 23,
   "id": "d9ce8a4b",
   "metadata": {},
   "outputs": [],
   "source": [
    "l = [4,5,6,7,89,34,45,67,23]"
   ]
  },
  {
   "cell_type": "code",
   "execution_count": 24,
   "id": "13d136de",
   "metadata": {},
   "outputs": [
    {
     "name": "stdout",
     "output_type": "stream",
     "text": [
      "[7.19668057]\n",
      "[7.25214534]\n",
      "[7.30761011]\n",
      "[7.36307488]\n",
      "[11.91118606]\n",
      "[8.86062368]\n",
      "[9.47073616]\n",
      "[10.69096111]\n",
      "[8.25051121]\n"
     ]
    },
    {
     "name": "stderr",
     "output_type": "stream",
     "text": [
      "C:\\Users\\ashar\\anaconda3\\anaconda\\lib\\site-packages\\sklearn\\base.py:450: UserWarning: X does not have valid feature names, but LinearRegression was fitted with feature names\n",
      "  warnings.warn(\n",
      "C:\\Users\\ashar\\anaconda3\\anaconda\\lib\\site-packages\\sklearn\\base.py:450: UserWarning: X does not have valid feature names, but LinearRegression was fitted with feature names\n",
      "  warnings.warn(\n",
      "C:\\Users\\ashar\\anaconda3\\anaconda\\lib\\site-packages\\sklearn\\base.py:450: UserWarning: X does not have valid feature names, but LinearRegression was fitted with feature names\n",
      "  warnings.warn(\n",
      "C:\\Users\\ashar\\anaconda3\\anaconda\\lib\\site-packages\\sklearn\\base.py:450: UserWarning: X does not have valid feature names, but LinearRegression was fitted with feature names\n",
      "  warnings.warn(\n",
      "C:\\Users\\ashar\\anaconda3\\anaconda\\lib\\site-packages\\sklearn\\base.py:450: UserWarning: X does not have valid feature names, but LinearRegression was fitted with feature names\n",
      "  warnings.warn(\n",
      "C:\\Users\\ashar\\anaconda3\\anaconda\\lib\\site-packages\\sklearn\\base.py:450: UserWarning: X does not have valid feature names, but LinearRegression was fitted with feature names\n",
      "  warnings.warn(\n",
      "C:\\Users\\ashar\\anaconda3\\anaconda\\lib\\site-packages\\sklearn\\base.py:450: UserWarning: X does not have valid feature names, but LinearRegression was fitted with feature names\n",
      "  warnings.warn(\n",
      "C:\\Users\\ashar\\anaconda3\\anaconda\\lib\\site-packages\\sklearn\\base.py:450: UserWarning: X does not have valid feature names, but LinearRegression was fitted with feature names\n",
      "  warnings.warn(\n",
      "C:\\Users\\ashar\\anaconda3\\anaconda\\lib\\site-packages\\sklearn\\base.py:450: UserWarning: X does not have valid feature names, but LinearRegression was fitted with feature names\n",
      "  warnings.warn(\n"
     ]
    }
   ],
   "source": [
    "for i in l :\n",
    "    print(linear.predict([[i]]))"
   ]
  },
  {
   "cell_type": "markdown",
   "id": "a722c7f1",
   "metadata": {},
   "source": [
    "### How to Use Saved Model Directly for Predictions"
   ]
  },
  {
   "cell_type": "code",
   "execution_count": 25,
   "id": "058d3b0b",
   "metadata": {},
   "outputs": [],
   "source": [
    "file = 'linear_reg.sav'\n",
    "pickle.dump(linear,open(file,'wb'))"
   ]
  },
  {
   "cell_type": "code",
   "execution_count": 26,
   "id": "4a3fa011",
   "metadata": {},
   "outputs": [],
   "source": [
    "saved_model = pickle.load(open(file,'rb'))"
   ]
  },
  {
   "cell_type": "code",
   "execution_count": 27,
   "id": "5b610e3b",
   "metadata": {},
   "outputs": [
    {
     "name": "stderr",
     "output_type": "stream",
     "text": [
      "C:\\Users\\ashar\\anaconda3\\anaconda\\lib\\site-packages\\sklearn\\base.py:450: UserWarning: X does not have valid feature names, but LinearRegression was fitted with feature names\n",
      "  warnings.warn(\n"
     ]
    },
    {
     "data": {
      "text/plain": [
       "array([9.47073616])"
      ]
     },
     "execution_count": 27,
     "metadata": {},
     "output_type": "execute_result"
    }
   ],
   "source": [
    "saved_model.predict([[45]])"
   ]
  },
  {
   "cell_type": "markdown",
   "id": "84149d30",
   "metadata": {},
   "source": [
    "### Model Score"
   ]
  },
  {
   "cell_type": "code",
   "execution_count": 28,
   "id": "95c97ef9",
   "metadata": {},
   "outputs": [
    {
     "data": {
      "text/plain": [
       "0.8121757029987414"
      ]
     },
     "execution_count": 28,
     "metadata": {},
     "output_type": "execute_result"
    }
   ],
   "source": [
    "linear.score(x,y)"
   ]
  },
  {
   "cell_type": "markdown",
   "id": "aa2caf28",
   "metadata": {},
   "source": [
    "## Multiple variable regression or polynomial regression"
   ]
  },
  {
   "cell_type": "code",
   "execution_count": 29,
   "id": "cd519e0e",
   "metadata": {},
   "outputs": [
    {
     "data": {
      "text/plain": [
       "Index(['TV', 'Radio', 'Newspaper', 'Sales'], dtype='object')"
      ]
     },
     "execution_count": 29,
     "metadata": {},
     "output_type": "execute_result"
    }
   ],
   "source": [
    "df.columns"
   ]
  },
  {
   "cell_type": "code",
   "execution_count": 30,
   "id": "8b42a717",
   "metadata": {
    "scrolled": true
   },
   "outputs": [],
   "source": [
    "x = df[['TV', 'Radio', 'Newspaper']]"
   ]
  },
  {
   "cell_type": "code",
   "execution_count": 31,
   "id": "3be17d0b",
   "metadata": {
    "scrolled": true
   },
   "outputs": [
    {
     "data": {
      "text/html": [
       "<div>\n",
       "<style scoped>\n",
       "    .dataframe tbody tr th:only-of-type {\n",
       "        vertical-align: middle;\n",
       "    }\n",
       "\n",
       "    .dataframe tbody tr th {\n",
       "        vertical-align: top;\n",
       "    }\n",
       "\n",
       "    .dataframe thead th {\n",
       "        text-align: right;\n",
       "    }\n",
       "</style>\n",
       "<table border=\"1\" class=\"dataframe\">\n",
       "  <thead>\n",
       "    <tr style=\"text-align: right;\">\n",
       "      <th></th>\n",
       "      <th>TV</th>\n",
       "      <th>Radio</th>\n",
       "      <th>Newspaper</th>\n",
       "    </tr>\n",
       "  </thead>\n",
       "  <tbody>\n",
       "    <tr>\n",
       "      <th>0</th>\n",
       "      <td>230.1</td>\n",
       "      <td>37.8</td>\n",
       "      <td>69.2</td>\n",
       "    </tr>\n",
       "    <tr>\n",
       "      <th>1</th>\n",
       "      <td>44.5</td>\n",
       "      <td>39.3</td>\n",
       "      <td>45.1</td>\n",
       "    </tr>\n",
       "    <tr>\n",
       "      <th>2</th>\n",
       "      <td>17.2</td>\n",
       "      <td>45.9</td>\n",
       "      <td>69.3</td>\n",
       "    </tr>\n",
       "    <tr>\n",
       "      <th>3</th>\n",
       "      <td>151.5</td>\n",
       "      <td>41.3</td>\n",
       "      <td>58.5</td>\n",
       "    </tr>\n",
       "    <tr>\n",
       "      <th>4</th>\n",
       "      <td>180.8</td>\n",
       "      <td>10.8</td>\n",
       "      <td>58.4</td>\n",
       "    </tr>\n",
       "    <tr>\n",
       "      <th>...</th>\n",
       "      <td>...</td>\n",
       "      <td>...</td>\n",
       "      <td>...</td>\n",
       "    </tr>\n",
       "    <tr>\n",
       "      <th>195</th>\n",
       "      <td>38.2</td>\n",
       "      <td>3.7</td>\n",
       "      <td>13.8</td>\n",
       "    </tr>\n",
       "    <tr>\n",
       "      <th>196</th>\n",
       "      <td>94.2</td>\n",
       "      <td>4.9</td>\n",
       "      <td>8.1</td>\n",
       "    </tr>\n",
       "    <tr>\n",
       "      <th>197</th>\n",
       "      <td>177.0</td>\n",
       "      <td>9.3</td>\n",
       "      <td>6.4</td>\n",
       "    </tr>\n",
       "    <tr>\n",
       "      <th>198</th>\n",
       "      <td>283.6</td>\n",
       "      <td>42.0</td>\n",
       "      <td>66.2</td>\n",
       "    </tr>\n",
       "    <tr>\n",
       "      <th>199</th>\n",
       "      <td>232.1</td>\n",
       "      <td>8.6</td>\n",
       "      <td>8.7</td>\n",
       "    </tr>\n",
       "  </tbody>\n",
       "</table>\n",
       "<p>200 rows × 3 columns</p>\n",
       "</div>"
      ],
      "text/plain": [
       "        TV  Radio  Newspaper\n",
       "0    230.1   37.8       69.2\n",
       "1     44.5   39.3       45.1\n",
       "2     17.2   45.9       69.3\n",
       "3    151.5   41.3       58.5\n",
       "4    180.8   10.8       58.4\n",
       "..     ...    ...        ...\n",
       "195   38.2    3.7       13.8\n",
       "196   94.2    4.9        8.1\n",
       "197  177.0    9.3        6.4\n",
       "198  283.6   42.0       66.2\n",
       "199  232.1    8.6        8.7\n",
       "\n",
       "[200 rows x 3 columns]"
      ]
     },
     "execution_count": 31,
     "metadata": {},
     "output_type": "execute_result"
    }
   ],
   "source": [
    "x"
   ]
  },
  {
   "cell_type": "code",
   "execution_count": 32,
   "id": "c52f510c",
   "metadata": {},
   "outputs": [
    {
     "data": {
      "text/plain": [
       "0      22.1\n",
       "1      10.4\n",
       "2      12.0\n",
       "3      16.5\n",
       "4      17.9\n",
       "       ... \n",
       "195     7.6\n",
       "196    14.0\n",
       "197    14.8\n",
       "198    25.5\n",
       "199    18.4\n",
       "Name: Sales, Length: 200, dtype: float64"
      ]
     },
     "execution_count": 32,
     "metadata": {},
     "output_type": "execute_result"
    }
   ],
   "source": [
    "y = df.Sales\n",
    "y"
   ]
  },
  {
   "cell_type": "code",
   "execution_count": 33,
   "id": "db00fd44",
   "metadata": {},
   "outputs": [
    {
     "data": {
      "text/plain": [
       "LinearRegression()"
      ]
     },
     "execution_count": 33,
     "metadata": {},
     "output_type": "execute_result"
    }
   ],
   "source": [
    "linear = LinearRegression() #create an object of linear regression\n",
    "linear.fit(x,y)"
   ]
  },
  {
   "cell_type": "code",
   "execution_count": 34,
   "id": "cc716c55",
   "metadata": {},
   "outputs": [
    {
     "name": "stdout",
     "output_type": "stream",
     "text": [
      "4.625124078808653\n",
      "[0.05444578 0.10700123 0.00033566]\n"
     ]
    }
   ],
   "source": [
    "print(linear.intercept_)\n",
    "print(linear.coef_)"
   ]
  },
  {
   "cell_type": "markdown",
   "id": "ba85330b",
   "metadata": {},
   "source": [
    "#### The equation is:      Sales = 0.0544 TV + 0.107 Radio + 0.00033 Newspaper + 4.625\n",
    "This equation is the model"
   ]
  },
  {
   "cell_type": "markdown",
   "id": "c35c3b78",
   "metadata": {},
   "source": [
    "#### How to find the confidence of this model? Answer: r^2\n",
    "\n",
    "What is confidence? Out of 100 datapoints, how many times will the output of the equation is same as actual value"
   ]
  },
  {
   "cell_type": "code",
   "execution_count": 35,
   "id": "aa34d4c7",
   "metadata": {},
   "outputs": [
    {
     "data": {
      "text/plain": [
       "0.9025912899684558"
      ]
     },
     "execution_count": 35,
     "metadata": {},
     "output_type": "execute_result"
    }
   ],
   "source": [
    "linear.score(x,y)"
   ]
  },
  {
   "cell_type": "code",
   "execution_count": 36,
   "id": "f57f0857",
   "metadata": {},
   "outputs": [],
   "source": [
    "new_x = df[['TV', 'Radio']]\n",
    "y = df.Sales"
   ]
  },
  {
   "cell_type": "code",
   "execution_count": 37,
   "id": "82e94d22",
   "metadata": {},
   "outputs": [
    {
     "data": {
      "text/plain": [
       "0.9025896186081139"
      ]
     },
     "execution_count": 37,
     "metadata": {},
     "output_type": "execute_result"
    }
   ],
   "source": [
    "lm1 = LinearRegression()\n",
    "lm1.fit(new_x, y)\n",
    "lm1.score(new_x,y)"
   ]
  },
  {
   "cell_type": "markdown",
   "id": "448a7027",
   "metadata": {},
   "source": [
    "### Two Ways to Code Regression"
   ]
  },
  {
   "cell_type": "markdown",
   "id": "91c54e34",
   "metadata": {},
   "source": [
    "There are two ways to code regression models:\n",
    "    \n",
    "    1. using Scikit learn (sklearn) library. Already discussed\n",
    "    2. Using statistical model approach.\n",
    "    \n",
    "    Let's learn about 2nd type"
   ]
  },
  {
   "cell_type": "code",
   "execution_count": 40,
   "id": "fc37b13d",
   "metadata": {
    "scrolled": false
   },
   "outputs": [
    {
     "data": {
      "text/html": [
       "<table class=\"simpletable\">\n",
       "<caption>OLS Regression Results</caption>\n",
       "<tr>\n",
       "  <th>Dep. Variable:</th>          <td>Sales</td>      <th>  R-squared:         </th> <td>   0.903</td>\n",
       "</tr>\n",
       "<tr>\n",
       "  <th>Model:</th>                   <td>OLS</td>       <th>  Adj. R-squared:    </th> <td>   0.901</td>\n",
       "</tr>\n",
       "<tr>\n",
       "  <th>Method:</th>             <td>Least Squares</td>  <th>  F-statistic:       </th> <td>   605.4</td>\n",
       "</tr>\n",
       "<tr>\n",
       "  <th>Date:</th>             <td>Thu, 15 Sep 2022</td> <th>  Prob (F-statistic):</th> <td>8.13e-99</td>\n",
       "</tr>\n",
       "<tr>\n",
       "  <th>Time:</th>                 <td>10:34:11</td>     <th>  Log-Likelihood:    </th> <td> -383.34</td>\n",
       "</tr>\n",
       "<tr>\n",
       "  <th>No. Observations:</th>      <td>   200</td>      <th>  AIC:               </th> <td>   774.7</td>\n",
       "</tr>\n",
       "<tr>\n",
       "  <th>Df Residuals:</th>          <td>   196</td>      <th>  BIC:               </th> <td>   787.9</td>\n",
       "</tr>\n",
       "<tr>\n",
       "  <th>Df Model:</th>              <td>     3</td>      <th>                     </th>     <td> </td>   \n",
       "</tr>\n",
       "<tr>\n",
       "  <th>Covariance Type:</th>      <td>nonrobust</td>    <th>                     </th>     <td> </td>   \n",
       "</tr>\n",
       "</table>\n",
       "<table class=\"simpletable\">\n",
       "<tr>\n",
       "      <td></td>         <th>coef</th>     <th>std err</th>      <th>t</th>      <th>P>|t|</th>  <th>[0.025</th>    <th>0.975]</th>  \n",
       "</tr>\n",
       "<tr>\n",
       "  <th>Intercept</th> <td>    4.6251</td> <td>    0.308</td> <td>   15.041</td> <td> 0.000</td> <td>    4.019</td> <td>    5.232</td>\n",
       "</tr>\n",
       "<tr>\n",
       "  <th>TV</th>        <td>    0.0544</td> <td>    0.001</td> <td>   39.592</td> <td> 0.000</td> <td>    0.052</td> <td>    0.057</td>\n",
       "</tr>\n",
       "<tr>\n",
       "  <th>Radio</th>     <td>    0.1070</td> <td>    0.008</td> <td>   12.604</td> <td> 0.000</td> <td>    0.090</td> <td>    0.124</td>\n",
       "</tr>\n",
       "<tr>\n",
       "  <th>Newspaper</th> <td>    0.0003</td> <td>    0.006</td> <td>    0.058</td> <td> 0.954</td> <td>   -0.011</td> <td>    0.012</td>\n",
       "</tr>\n",
       "</table>\n",
       "<table class=\"simpletable\">\n",
       "<tr>\n",
       "  <th>Omnibus:</th>       <td>16.081</td> <th>  Durbin-Watson:     </th> <td>   2.251</td>\n",
       "</tr>\n",
       "<tr>\n",
       "  <th>Prob(Omnibus):</th> <td> 0.000</td> <th>  Jarque-Bera (JB):  </th> <td>  27.655</td>\n",
       "</tr>\n",
       "<tr>\n",
       "  <th>Skew:</th>          <td>-0.431</td> <th>  Prob(JB):          </th> <td>9.88e-07</td>\n",
       "</tr>\n",
       "<tr>\n",
       "  <th>Kurtosis:</th>      <td> 4.605</td> <th>  Cond. No.          </th> <td>    454.</td>\n",
       "</tr>\n",
       "</table><br/><br/>Notes:<br/>[1] Standard Errors assume that the covariance matrix of the errors is correctly specified."
      ],
      "text/plain": [
       "<class 'statsmodels.iolib.summary.Summary'>\n",
       "\"\"\"\n",
       "                            OLS Regression Results                            \n",
       "==============================================================================\n",
       "Dep. Variable:                  Sales   R-squared:                       0.903\n",
       "Model:                            OLS   Adj. R-squared:                  0.901\n",
       "Method:                 Least Squares   F-statistic:                     605.4\n",
       "Date:                Thu, 15 Sep 2022   Prob (F-statistic):           8.13e-99\n",
       "Time:                        10:34:11   Log-Likelihood:                -383.34\n",
       "No. Observations:                 200   AIC:                             774.7\n",
       "Df Residuals:                     196   BIC:                             787.9\n",
       "Df Model:                           3                                         \n",
       "Covariance Type:            nonrobust                                         \n",
       "==============================================================================\n",
       "                 coef    std err          t      P>|t|      [0.025      0.975]\n",
       "------------------------------------------------------------------------------\n",
       "Intercept      4.6251      0.308     15.041      0.000       4.019       5.232\n",
       "TV             0.0544      0.001     39.592      0.000       0.052       0.057\n",
       "Radio          0.1070      0.008     12.604      0.000       0.090       0.124\n",
       "Newspaper      0.0003      0.006      0.058      0.954      -0.011       0.012\n",
       "==============================================================================\n",
       "Omnibus:                       16.081   Durbin-Watson:                   2.251\n",
       "Prob(Omnibus):                  0.000   Jarque-Bera (JB):               27.655\n",
       "Skew:                          -0.431   Prob(JB):                     9.88e-07\n",
       "Kurtosis:                       4.605   Cond. No.                         454.\n",
       "==============================================================================\n",
       "\n",
       "Notes:\n",
       "[1] Standard Errors assume that the covariance matrix of the errors is correctly specified.\n",
       "\"\"\""
      ]
     },
     "execution_count": 40,
     "metadata": {},
     "output_type": "execute_result"
    }
   ],
   "source": [
    "import statsmodels.formula.api as smf\n",
    "lm = smf.ols(formula='Sales ~ TV+Radio+Newspaper', data = df).fit()    #ols: ordinary least square \n",
    "lm.summary()"
   ]
  },
  {
   "cell_type": "markdown",
   "id": "daaaa27f",
   "metadata": {},
   "source": [
    "**See the values of p > |t|**    \n",
    "\n",
    "For news paper, it is 0.954.     \n",
    "\n",
    "Subtract this number from 1. That is 1-0.954 = 0.046 or 4.6%     \n",
    "\n",
    "This means Newspaper significance level is only 4.6% (Very low). News paper is contributing only 4.6%     \n",
    "\n",
    "In simple words, This means, out of 100 experiments, there are only 4.6 experiments is contributing to sales. This is too low.    \n",
    "So, newspaper feature can be dropped while feature selection (a check where we see what features are contributing and what features are not contributing).\n",
    "\n",
    "**Significance cutoff value:**\n",
    "\n",
    "As a general rule of thumb, if a feature has significance of over 95% we will keep it (during feature selection) or else, we will drop the feature. Some times, significance cut off can be 90% too."
   ]
  },
  {
   "cell_type": "markdown",
   "id": "4df32e25",
   "metadata": {},
   "source": [
    "**See the values of std err. This is called standard error or standard deviation.**\n",
    "\n",
    "TV + Radio + Newspaper: 0.901"
   ]
  },
  {
   "cell_type": "markdown",
   "id": "af48998d",
   "metadata": {},
   "source": [
    "**How adjusted R - square is different than R - square, in which scenario, we consider R - square**\n",
    "\n",
    "If r-square is increasing, it is usually not because the model accuracy is increasing. It is due to over-fitting. So, r-square is not a reliable metric to determine the accuracy of the model.\n",
    "\n",
    "This is where adjusted r-square comes into picture. Adjusted r - square is a reliable measure of accuracy of the model.\n",
    "\n",
    "\n",
    "r square  = 1 - RSS/TSS  = 1 - residual summations square / total summation square\n",
    "\n",
    "\n",
    "Adjusted r square =  1 -  ((1-R2)(N-1)/(N-P-1))   \n",
    "\n",
    "where,  P is number of features or number of feature columns, N is number of total rows or total samples\n",
    "\n",
    "\n",
    "\n",
    "\n",
    "\n",
    "\n"
   ]
  },
  {
   "cell_type": "markdown",
   "id": "b09b9a16",
   "metadata": {},
   "source": [
    "**Multicollinearity**\n",
    "\n",
    "Multicollinearity is a statistical concept where several independent variables in a model are correlated\n",
    "\n",
    "Example: Demand (or supply) and cost  are usually multicollinear (or correlated)\n",
    "\n",
    "How to find multicollinearity between variables:\n",
    "\n",
    "Most common approach is: Pearson's r plot (or Pearson's Correlation Plot).\n",
    "\n",
    "\n",
    "Always remember, when we talk about multicollinearity, we talk about how various features are correlated and NOT feature and label (output).\n",
    "\n",
    "\n",
    "**Variance Inflation Factor (VIF)** \n",
    "\n",
    "VIF = 1 / (1-R2)\n",
    "\n",
    "If VIF > 10 (or R2 > 0.9), then we can consider that the dataset is highly correlated or collinear.\n",
    "\n"
   ]
  },
  {
   "cell_type": "markdown",
   "id": "04d4574c",
   "metadata": {},
   "source": [
    "#### Regularization  Techniques"
   ]
  },
  {
   "cell_type": "markdown",
   "id": "c4cfe736",
   "metadata": {},
   "source": [
    "1. Least Absolute Shrinkage and Selection Operator (LASSO). This is also called L1 regularization"
   ]
  },
  {
   "cell_type": "raw",
   "id": "2bb8f0b7",
   "metadata": {},
   "source": [
    "L1 = RSS + Shrinkage Factor\n",
    "RSS is residual summations square\n",
    "The shrinkage factor is lambda times the sum of modulus of Regression coefficients (See handwritten notes).\n",
    "\n",
    "\n",
    "**Cost Function for Lasso Regression: Minimize L1.  See L1 below (hand written notes)**\n",
    "\n",
    "RSS is residual summations square\n",
    "B is coefficients (B is same as m if equation is y = mx+c)\n",
    "Lambda is  regularization rate\n",
    "\n",
    "**Cost Function for Ridge Regression: Minimize L2. See L2 below (hand written notes)**    \n",
    "    "
   ]
  },
  {
   "attachments": {
    "image.png": {
     "image/png": "[encoded data removed]"
    }
   },
   "cell_type": "markdown",
   "id": "37708c26",
   "metadata": {},
   "source": [
    "If coeffecients are small, for example 0.1 then L2 (Ridge) will remain unaffected while L1(Lasso) is affected.\n",
    "If coeffecients are big, for example 2 then L2 (Ridge) will have very high effect while L1(Lasso) will have moderate effect\n",
    "\n",
    "For generalized equation, that takes care of all values of coeffecients (small or big), we use \"Elastic Net\"\n",
    "\n",
    "Cost Function for Elastic Net Regression: See below (hand written notes)    \n",
    "\n",
    "![image.png](attachment:image.png)"
   ]
  },
  {
   "cell_type": "code",
   "execution_count": null,
   "id": "9058dac9",
   "metadata": {},
   "outputs": [],
   "source": []
  }
 ],
 "metadata": {
  "kernelspec": {
   "display_name": "Python 3 (ipykernel)",
   "language": "python",
   "name": "python3"
  },
  "language_info": {
   "codemirror_mode": {
    "name": "ipython",
    "version": 3
   },
   "file_extension": ".py",
   "mimetype": "text/x-python",
   "name": "python",
   "nbconvert_exporter": "python",
   "pygments_lexer": "ipython3",
   "version": "3.9.12"
  }
 },
 "nbformat": 4,
 "nbformat_minor": 5
}
